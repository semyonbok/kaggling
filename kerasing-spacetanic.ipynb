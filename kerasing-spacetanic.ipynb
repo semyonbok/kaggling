{
 "cells": [
  {
   "cell_type": "markdown",
   "id": "4e427cfa",
   "metadata": {
    "papermill": {
     "duration": 0.010755,
     "end_time": "2022-07-17T20:59:56.284359",
     "exception": false,
     "start_time": "2022-07-17T20:59:56.273604",
     "status": "completed"
    },
    "tags": []
   },
   "source": [
    "# First Experience with Keras"
   ]
  },
  {
   "cell_type": "markdown",
   "id": "ee221372",
   "metadata": {
    "papermill": {
     "duration": 0.009042,
     "end_time": "2022-07-17T20:59:56.303119",
     "exception": false,
     "start_time": "2022-07-17T20:59:56.294077",
     "status": "completed"
    },
    "tags": []
   },
   "source": [
    "<div class=\"alert alert-success\" role=\"alert\">\n",
    "  <strong>SCORE: </strong>0.79471 (i.e. ~53d percentile)\n",
    "</div>"
   ]
  },
  {
   "cell_type": "markdown",
   "id": "32675320",
   "metadata": {
    "papermill": {
     "duration": 0.009324,
     "end_time": "2022-07-17T20:59:56.321757",
     "exception": false,
     "start_time": "2022-07-17T20:59:56.312433",
     "status": "completed"
    },
    "tags": []
   },
   "source": [
    "## Set-up and Uploads"
   ]
  },
  {
   "cell_type": "code",
   "execution_count": 1,
   "id": "022ab6ca",
   "metadata": {
    "_cell_guid": "b1076dfc-b9ad-4769-8c92-a6c4dae69d19",
    "_uuid": "8f2839f25d086af736a60e9eeb907d3b93b6e0e5",
    "execution": {
     "iopub.execute_input": "2022-07-17T20:59:56.343282Z",
     "iopub.status.busy": "2022-07-17T20:59:56.342315Z",
     "iopub.status.idle": "2022-07-17T20:59:56.356804Z",
     "shell.execute_reply": "2022-07-17T20:59:56.356015Z"
    },
    "papermill": {
     "duration": 0.028643,
     "end_time": "2022-07-17T20:59:56.359660",
     "exception": false,
     "start_time": "2022-07-17T20:59:56.331017",
     "status": "completed"
    },
    "tags": []
   },
   "outputs": [
    {
     "name": "stdout",
     "output_type": "stream",
     "text": [
      "/kaggle/input/spaceship-titanic/sample_submission.csv\n",
      "/kaggle/input/spaceship-titanic/train.csv\n",
      "/kaggle/input/spaceship-titanic/test.csv\n"
     ]
    }
   ],
   "source": [
    "import os\n",
    "for dirname, _, filenames in os.walk('/kaggle/input'):\n",
    "    for filename in filenames:\n",
    "        print(os.path.join(dirname, filename))"
   ]
  },
  {
   "cell_type": "code",
   "execution_count": 2,
   "id": "a68954a4",
   "metadata": {
    "execution": {
     "iopub.execute_input": "2022-07-17T20:59:56.382485Z",
     "iopub.status.busy": "2022-07-17T20:59:56.381475Z",
     "iopub.status.idle": "2022-07-17T21:00:05.619327Z",
     "shell.execute_reply": "2022-07-17T21:00:05.617732Z"
    },
    "papermill": {
     "duration": 9.251949,
     "end_time": "2022-07-17T21:00:05.622061",
     "exception": false,
     "start_time": "2022-07-17T20:59:56.370112",
     "status": "completed"
    },
    "tags": []
   },
   "outputs": [],
   "source": [
    "import numpy as np\n",
    "import pandas as pd\n",
    "import seaborn as sns\n",
    "from tensorflow import keras\n",
    "from sklearn.preprocessing import OrdinalEncoder, OneHotEncoder, StandardScaler, MinMaxScaler\n",
    "from sklearn.compose import make_column_selector, ColumnTransformer\n",
    "\n",
    "sns.set_theme(style=\"ticks\")"
   ]
  },
  {
   "cell_type": "code",
   "execution_count": 3,
   "id": "8519ed7b",
   "metadata": {
    "execution": {
     "iopub.execute_input": "2022-07-17T21:00:05.643498Z",
     "iopub.status.busy": "2022-07-17T21:00:05.642546Z",
     "iopub.status.idle": "2022-07-17T21:00:05.742356Z",
     "shell.execute_reply": "2022-07-17T21:00:05.741274Z"
    },
    "papermill": {
     "duration": 0.113356,
     "end_time": "2022-07-17T21:00:05.745020",
     "exception": false,
     "start_time": "2022-07-17T21:00:05.631664",
     "status": "completed"
    },
    "tags": []
   },
   "outputs": [],
   "source": [
    "test_data = pd.read_csv(\"/kaggle/input/spaceship-titanic/test.csv\")\n",
    "test_data[\"Set\"] = \"Test\"\n",
    "\n",
    "train_data = pd.read_csv(\"/kaggle/input/spaceship-titanic/train.csv\")\n",
    "train_data[\"Set\"] = \"Train\"\n",
    "\n",
    "train_target = train_data[\"Transported\"].astype(int)\n",
    "train_data.drop(columns=\"Transported\", inplace=True)\n",
    "\n",
    "data = pd.concat([train_data, test_data], axis=0)"
   ]
  },
  {
   "cell_type": "markdown",
   "id": "0fa044e4",
   "metadata": {
    "papermill": {
     "duration": 0.009635,
     "end_time": "2022-07-17T21:00:05.764220",
     "exception": false,
     "start_time": "2022-07-17T21:00:05.754585",
     "status": "completed"
    },
    "tags": []
   },
   "source": [
    "## Categorical Feature Review and some Feature Engineering"
   ]
  },
  {
   "cell_type": "code",
   "execution_count": 4,
   "id": "3020becb",
   "metadata": {
    "execution": {
     "iopub.execute_input": "2022-07-17T21:00:05.785258Z",
     "iopub.status.busy": "2022-07-17T21:00:05.784862Z",
     "iopub.status.idle": "2022-07-17T21:00:05.811727Z",
     "shell.execute_reply": "2022-07-17T21:00:05.810792Z"
    },
    "papermill": {
     "duration": 0.039924,
     "end_time": "2022-07-17T21:00:05.813882",
     "exception": false,
     "start_time": "2022-07-17T21:00:05.773958",
     "status": "completed"
    },
    "tags": []
   },
   "outputs": [
    {
     "data": {
      "text/plain": [
       "PassengerId    12970\n",
       "HomePlanet         3\n",
       "CryoSleep          2\n",
       "Cabin           9825\n",
       "Destination        3\n",
       "VIP                2\n",
       "Name           12629\n",
       "Set                2\n",
       "dtype: int64"
      ]
     },
     "execution_count": 4,
     "metadata": {},
     "output_type": "execute_result"
    }
   ],
   "source": [
    "data[data.columns[data.dtypes == object]].nunique()"
   ]
  },
  {
   "cell_type": "markdown",
   "id": "829aef48",
   "metadata": {
    "papermill": {
     "duration": 0.00949,
     "end_time": "2022-07-17T21:00:05.833215",
     "exception": false,
     "start_time": "2022-07-17T21:00:05.823725",
     "status": "completed"
    },
    "tags": []
   },
   "source": [
    "### PassengerId"
   ]
  },
  {
   "cell_type": "code",
   "execution_count": 5,
   "id": "d1c3b958",
   "metadata": {
    "execution": {
     "iopub.execute_input": "2022-07-17T21:00:05.854756Z",
     "iopub.status.busy": "2022-07-17T21:00:05.853748Z",
     "iopub.status.idle": "2022-07-17T21:00:05.878122Z",
     "shell.execute_reply": "2022-07-17T21:00:05.876717Z"
    },
    "papermill": {
     "duration": 0.038392,
     "end_time": "2022-07-17T21:00:05.881231",
     "exception": false,
     "start_time": "2022-07-17T21:00:05.842839",
     "status": "completed"
    },
    "tags": []
   },
   "outputs": [
    {
     "name": "stdout",
     "output_type": "stream",
     "text": [
      "263     0574_01\n",
      "1129    2378_02\n",
      "8046    8605_05\n",
      "2549    2734_01\n",
      "2312    2491_01\n",
      "Name: PassengerId, dtype: object\n",
      "\n"
     ]
    },
    {
     "data": {
      "text/plain": [
       "Set    PassengerId\n",
       "Test   True           4277\n",
       "Train  True           8693\n",
       "Name: PassengerId, dtype: int64"
      ]
     },
     "execution_count": 5,
     "metadata": {},
     "output_type": "execute_result"
    }
   ],
   "source": [
    "print(data.PassengerId.sample(5))\n",
    "print(\"\")\n",
    "data.PassengerId.notnull().groupby(data[\"Set\"]).value_counts()"
   ]
  },
  {
   "cell_type": "code",
   "execution_count": 6,
   "id": "e47652fe",
   "metadata": {
    "execution": {
     "iopub.execute_input": "2022-07-17T21:00:05.903692Z",
     "iopub.status.busy": "2022-07-17T21:00:05.902674Z",
     "iopub.status.idle": "2022-07-17T21:00:05.940494Z",
     "shell.execute_reply": "2022-07-17T21:00:05.939345Z"
    },
    "papermill": {
     "duration": 0.051586,
     "end_time": "2022-07-17T21:00:05.942872",
     "exception": false,
     "start_time": "2022-07-17T21:00:05.891286",
     "status": "completed"
    },
    "tags": []
   },
   "outputs": [],
   "source": [
    "new_id_features = pd.DataFrame(\n",
    "    np.concatenate(\n",
    "        data[data[\"PassengerId\"].notnull()][\"PassengerId\"].apply(\n",
    "            lambda x: str(x).split(\"_\")).values, axis=0\n",
    "    ).reshape(-1, 2),\n",
    "    columns = [f\"Id_F_{x}\" for x in range(2)]\n",
    ")"
   ]
  },
  {
   "cell_type": "code",
   "execution_count": 7,
   "id": "f9343a9b",
   "metadata": {
    "execution": {
     "iopub.execute_input": "2022-07-17T21:00:05.963661Z",
     "iopub.status.busy": "2022-07-17T21:00:05.963277Z",
     "iopub.status.idle": "2022-07-17T21:00:05.975981Z",
     "shell.execute_reply": "2022-07-17T21:00:05.974517Z"
    },
    "papermill": {
     "duration": 0.026534,
     "end_time": "2022-07-17T21:00:05.979010",
     "exception": false,
     "start_time": "2022-07-17T21:00:05.952476",
     "status": "completed"
    },
    "tags": []
   },
   "outputs": [
    {
     "name": "stdout",
     "output_type": "stream",
     "text": [
      "      Id_F_0 Id_F_1\n",
      "6652    7014     01\n",
      "11230   5554     01\n",
      "2886    3120     02\n",
      "5256    5609     01\n",
      "7701    8218     01\n",
      "\n",
      "01    9280\n",
      "02    2135\n",
      "03     840\n",
      "04     338\n",
      "05     184\n",
      "06     108\n",
      "07      66\n",
      "08      19\n",
      "Name: Id_F_1, dtype: int64\n"
     ]
    }
   ],
   "source": [
    "print(new_id_features.sample(5))\n",
    "print(\"\")\n",
    "print(new_id_features.Id_F_1.value_counts())"
   ]
  },
  {
   "cell_type": "code",
   "execution_count": 8,
   "id": "a6c838fd",
   "metadata": {
    "execution": {
     "iopub.execute_input": "2022-07-17T21:00:06.001591Z",
     "iopub.status.busy": "2022-07-17T21:00:06.000902Z",
     "iopub.status.idle": "2022-07-17T21:00:06.018320Z",
     "shell.execute_reply": "2022-07-17T21:00:06.017160Z"
    },
    "papermill": {
     "duration": 0.03096,
     "end_time": "2022-07-17T21:00:06.020603",
     "exception": false,
     "start_time": "2022-07-17T21:00:05.989643",
     "status": "completed"
    },
    "tags": []
   },
   "outputs": [],
   "source": [
    "new_id_features[\"Id_F_0\"] = new_id_features[\"Id_F_0\"].astype(float)\n",
    "data[new_id_features.columns] = new_id_features\n",
    "data.drop(columns=\"PassengerId\", inplace=True)"
   ]
  },
  {
   "cell_type": "markdown",
   "id": "a52de32b",
   "metadata": {
    "papermill": {
     "duration": 0.009393,
     "end_time": "2022-07-17T21:00:06.040144",
     "exception": false,
     "start_time": "2022-07-17T21:00:06.030751",
     "status": "completed"
    },
    "tags": []
   },
   "source": [
    "### Cabin"
   ]
  },
  {
   "cell_type": "code",
   "execution_count": 9,
   "id": "e4ea1159",
   "metadata": {
    "execution": {
     "iopub.execute_input": "2022-07-17T21:00:06.061307Z",
     "iopub.status.busy": "2022-07-17T21:00:06.060594Z",
     "iopub.status.idle": "2022-07-17T21:00:06.075584Z",
     "shell.execute_reply": "2022-07-17T21:00:06.074492Z"
    },
    "papermill": {
     "duration": 0.028002,
     "end_time": "2022-07-17T21:00:06.077751",
     "exception": false,
     "start_time": "2022-07-17T21:00:06.049749",
     "status": "completed"
    },
    "tags": []
   },
   "outputs": [
    {
     "name": "stdout",
     "output_type": "stream",
     "text": [
      "1823    F/374/S\n",
      "2335    F/968/S\n",
      "7747    B/321/S\n",
      "2677    E/176/P\n",
      "5158    G/884/P\n",
      "Name: Cabin, dtype: object\n",
      "\n"
     ]
    },
    {
     "data": {
      "text/plain": [
       "Set    Cabin\n",
       "Test   True     4177\n",
       "       False     100\n",
       "Train  True     8494\n",
       "       False     199\n",
       "Name: Cabin, dtype: int64"
      ]
     },
     "execution_count": 9,
     "metadata": {},
     "output_type": "execute_result"
    }
   ],
   "source": [
    "print(data.Cabin.sample(5))\n",
    "print(\"\")\n",
    "data.Cabin.notnull().groupby(data[\"Set\"]).value_counts()"
   ]
  },
  {
   "cell_type": "code",
   "execution_count": 10,
   "id": "ff1be9c7",
   "metadata": {
    "execution": {
     "iopub.execute_input": "2022-07-17T21:00:06.099116Z",
     "iopub.status.busy": "2022-07-17T21:00:06.098719Z",
     "iopub.status.idle": "2022-07-17T21:00:06.143771Z",
     "shell.execute_reply": "2022-07-17T21:00:06.142574Z"
    },
    "papermill": {
     "duration": 0.059416,
     "end_time": "2022-07-17T21:00:06.146985",
     "exception": false,
     "start_time": "2022-07-17T21:00:06.087569",
     "status": "completed"
    },
    "tags": []
   },
   "outputs": [
    {
     "name": "stdout",
     "output_type": "stream",
     "text": [
      "1366     [F, 279, S]\n",
      "663      [F, 123, S]\n",
      "6911    [F, 1520, P]\n",
      "1382     [B, 110, S]\n",
      "8234    [F, 1704, S]\n",
      "Name: Cabin, dtype: object\n",
      "\n",
      "3    12671\n",
      "1      299\n",
      "Name: Cabin, dtype: int64\n",
      "\n"
     ]
    },
    {
     "data": {
      "text/plain": [
       "count    12970.000000\n",
       "mean         2.953894\n",
       "std          0.300157\n",
       "min          1.000000\n",
       "25%          3.000000\n",
       "50%          3.000000\n",
       "75%          3.000000\n",
       "max          3.000000\n",
       "Name: Cabin, dtype: float64"
      ]
     },
     "execution_count": 10,
     "metadata": {},
     "output_type": "execute_result"
    }
   ],
   "source": [
    "print(data[\"Cabin\"].str.split(\"/\").sample(5))\n",
    "print(\"\")\n",
    "print(data.Cabin.apply(lambda x: len(str(x).split(\"/\"))).value_counts())\n",
    "print(\"\")\n",
    "data.Cabin.apply(lambda x: len(str(x).split(\"/\"))).describe()"
   ]
  },
  {
   "cell_type": "markdown",
   "id": "ac18186e",
   "metadata": {
    "papermill": {
     "duration": 0.009692,
     "end_time": "2022-07-17T21:00:06.166643",
     "exception": false,
     "start_time": "2022-07-17T21:00:06.156951",
     "status": "completed"
    },
    "tags": []
   },
   "source": [
    "Confirm that the entries, which (when split) are shorter than 3, are `np.nan`."
   ]
  },
  {
   "cell_type": "code",
   "execution_count": 11,
   "id": "9f5ecef3",
   "metadata": {
    "execution": {
     "iopub.execute_input": "2022-07-17T21:00:06.188557Z",
     "iopub.status.busy": "2022-07-17T21:00:06.188193Z",
     "iopub.status.idle": "2022-07-17T21:00:06.204702Z",
     "shell.execute_reply": "2022-07-17T21:00:06.203990Z"
    },
    "papermill": {
     "duration": 0.029629,
     "end_time": "2022-07-17T21:00:06.206640",
     "exception": false,
     "start_time": "2022-07-17T21:00:06.177011",
     "status": "completed"
    },
    "tags": []
   },
   "outputs": [
    {
     "data": {
      "text/plain": [
       "array([nan], dtype=object)"
      ]
     },
     "execution_count": 11,
     "metadata": {},
     "output_type": "execute_result"
    }
   ],
   "source": [
    "data[data.Cabin.apply(lambda x: len(str(x).split(\"/\"))) <3].Cabin.unique()"
   ]
  },
  {
   "cell_type": "code",
   "execution_count": 12,
   "id": "d5e94a55",
   "metadata": {
    "execution": {
     "iopub.execute_input": "2022-07-17T21:00:06.228754Z",
     "iopub.status.busy": "2022-07-17T21:00:06.228086Z",
     "iopub.status.idle": "2022-07-17T21:00:06.264692Z",
     "shell.execute_reply": "2022-07-17T21:00:06.263860Z"
    },
    "papermill": {
     "duration": 0.05029,
     "end_time": "2022-07-17T21:00:06.266909",
     "exception": false,
     "start_time": "2022-07-17T21:00:06.216619",
     "status": "completed"
    },
    "tags": []
   },
   "outputs": [],
   "source": [
    "new_cabin_features = pd.DataFrame(\n",
    "    np.concatenate(\n",
    "        data[data[\"Cabin\"].notnull()][\"Cabin\"].apply(\n",
    "            lambda x: str(x).split(\"/\")).values, axis=0\n",
    "    ).reshape(-1, 3),\n",
    "    columns = [f\"Cabin_F_{x}\" for x in range(3)]\n",
    ")"
   ]
  },
  {
   "cell_type": "code",
   "execution_count": 13,
   "id": "0bc664ba",
   "metadata": {
    "execution": {
     "iopub.execute_input": "2022-07-17T21:00:06.289772Z",
     "iopub.status.busy": "2022-07-17T21:00:06.289377Z",
     "iopub.status.idle": "2022-07-17T21:00:06.306040Z",
     "shell.execute_reply": "2022-07-17T21:00:06.304263Z"
    },
    "papermill": {
     "duration": 0.030436,
     "end_time": "2022-07-17T21:00:06.308305",
     "exception": false,
     "start_time": "2022-07-17T21:00:06.277869",
     "status": "completed"
    },
    "tags": []
   },
   "outputs": [
    {
     "name": "stdout",
     "output_type": "stream",
     "text": [
      "     Cabin_F_0 Cabin_F_1 Cabin_F_2\n",
      "2626         F       598         P\n",
      "4541         G       813         S\n",
      "4411         F       981         P\n",
      "4201         C       145         P\n",
      "1514         A        20         S\n",
      "\n",
      "F    4239\n",
      "G    3781\n",
      "E    1323\n",
      "B    1141\n",
      "C    1102\n",
      "D     720\n",
      "A     354\n",
      "T      11\n",
      "Name: Cabin_F_0, dtype: int64\n",
      "\n",
      "82      34\n",
      "4       28\n",
      "56      28\n",
      "95      27\n",
      "31      27\n",
      "        ..\n",
      "1848     1\n",
      "1847     1\n",
      "1846     1\n",
      "1844     1\n",
      "1890     1\n",
      "Name: Cabin_F_1, Length: 1894, dtype: int64\n",
      "\n",
      "S    6381\n",
      "P    6290\n",
      "Name: Cabin_F_2, dtype: int64\n",
      "\n"
     ]
    }
   ],
   "source": [
    "print(new_cabin_features.sample(5))\n",
    "print(\"\")\n",
    "for col in new_cabin_features.columns:\n",
    "    print(new_cabin_features[col].value_counts())\n",
    "    print(\"\")"
   ]
  },
  {
   "cell_type": "code",
   "execution_count": 14,
   "id": "f1e2b7a3",
   "metadata": {
    "execution": {
     "iopub.execute_input": "2022-07-17T21:00:06.330537Z",
     "iopub.status.busy": "2022-07-17T21:00:06.329774Z",
     "iopub.status.idle": "2022-07-17T21:00:06.354117Z",
     "shell.execute_reply": "2022-07-17T21:00:06.353164Z"
    },
    "papermill": {
     "duration": 0.037849,
     "end_time": "2022-07-17T21:00:06.356333",
     "exception": false,
     "start_time": "2022-07-17T21:00:06.318484",
     "status": "completed"
    },
    "tags": []
   },
   "outputs": [],
   "source": [
    "new_cabin_features[\"Cabin_F_1\"] = new_cabin_features[\"Cabin_F_1\"].astype(float)\n",
    "data[new_cabin_features.columns] = np.nan\n",
    "data.loc[data[\"Cabin\"].notnull(), new_cabin_features.columns] = new_cabin_features\n",
    "data.drop(columns=\"Cabin\", inplace=True)"
   ]
  },
  {
   "cell_type": "markdown",
   "id": "842fcbb6",
   "metadata": {
    "papermill": {
     "duration": 0.009861,
     "end_time": "2022-07-17T21:00:06.376217",
     "exception": false,
     "start_time": "2022-07-17T21:00:06.366356",
     "status": "completed"
    },
    "tags": []
   },
   "source": [
    "### Name"
   ]
  },
  {
   "cell_type": "code",
   "execution_count": 15,
   "id": "b81cbf46",
   "metadata": {
    "execution": {
     "iopub.execute_input": "2022-07-17T21:00:06.398530Z",
     "iopub.status.busy": "2022-07-17T21:00:06.397828Z",
     "iopub.status.idle": "2022-07-17T21:00:06.411700Z",
     "shell.execute_reply": "2022-07-17T21:00:06.410357Z"
    },
    "papermill": {
     "duration": 0.027362,
     "end_time": "2022-07-17T21:00:06.413865",
     "exception": false,
     "start_time": "2022-07-17T21:00:06.386503",
     "status": "completed"
    },
    "tags": []
   },
   "outputs": [
    {
     "name": "stdout",
     "output_type": "stream",
     "text": [
      "501        Kencey Arneras\n",
      "2016     Evendy Buchansen\n",
      "1961         Supies Ecart\n",
      "7822         Unchex Perie\n",
      "2811    Elebara Burcaling\n",
      "Name: Name, dtype: object\n",
      "\n"
     ]
    },
    {
     "data": {
      "text/plain": [
       "Set    Name \n",
       "Test   True     4183\n",
       "       False      94\n",
       "Train  True     8493\n",
       "       False     200\n",
       "Name: Name, dtype: int64"
      ]
     },
     "execution_count": 15,
     "metadata": {},
     "output_type": "execute_result"
    }
   ],
   "source": [
    "print(data.Name.sample(5))\n",
    "print(\"\")\n",
    "data.Name.notnull().groupby(data[\"Set\"]).value_counts()"
   ]
  },
  {
   "cell_type": "code",
   "execution_count": 16,
   "id": "8c8f2a27",
   "metadata": {
    "execution": {
     "iopub.execute_input": "2022-07-17T21:00:06.436695Z",
     "iopub.status.busy": "2022-07-17T21:00:06.435945Z",
     "iopub.status.idle": "2022-07-17T21:00:06.451279Z",
     "shell.execute_reply": "2022-07-17T21:00:06.449946Z"
    },
    "papermill": {
     "duration": 0.02974,
     "end_time": "2022-07-17T21:00:06.453952",
     "exception": false,
     "start_time": "2022-07-17T21:00:06.424212",
     "status": "completed"
    },
    "tags": []
   },
   "outputs": [
    {
     "name": "stdout",
     "output_type": "stream",
     "text": [
      "2    12676\n",
      "1      294\n",
      "Name: Name, dtype: int64\n"
     ]
    }
   ],
   "source": [
    "print(data.Name.apply(lambda x: len(str(x).split())).value_counts())"
   ]
  },
  {
   "cell_type": "markdown",
   "id": "a5020f26",
   "metadata": {
    "papermill": {
     "duration": 0.009876,
     "end_time": "2022-07-17T21:00:06.475037",
     "exception": false,
     "start_time": "2022-07-17T21:00:06.465161",
     "status": "completed"
    },
    "tags": []
   },
   "source": [
    "For now, choose not to investigate possible relationship between the name and target value."
   ]
  },
  {
   "cell_type": "code",
   "execution_count": 17,
   "id": "cecf48b4",
   "metadata": {
    "execution": {
     "iopub.execute_input": "2022-07-17T21:00:06.497571Z",
     "iopub.status.busy": "2022-07-17T21:00:06.496988Z",
     "iopub.status.idle": "2022-07-17T21:00:06.503396Z",
     "shell.execute_reply": "2022-07-17T21:00:06.502537Z"
    },
    "papermill": {
     "duration": 0.020127,
     "end_time": "2022-07-17T21:00:06.505484",
     "exception": false,
     "start_time": "2022-07-17T21:00:06.485357",
     "status": "completed"
    },
    "tags": []
   },
   "outputs": [],
   "source": [
    "data.drop(columns=\"Name\", inplace=True)"
   ]
  },
  {
   "cell_type": "markdown",
   "id": "4620d432",
   "metadata": {
    "papermill": {
     "duration": 0.009913,
     "end_time": "2022-07-17T21:00:06.525627",
     "exception": false,
     "start_time": "2022-07-17T21:00:06.515714",
     "status": "completed"
    },
    "tags": []
   },
   "source": [
    "## Preprocessing"
   ]
  },
  {
   "cell_type": "code",
   "execution_count": 18,
   "id": "17fe8def",
   "metadata": {
    "execution": {
     "iopub.execute_input": "2022-07-17T21:00:06.548007Z",
     "iopub.status.busy": "2022-07-17T21:00:06.547412Z",
     "iopub.status.idle": "2022-07-17T21:00:06.567217Z",
     "shell.execute_reply": "2022-07-17T21:00:06.566026Z"
    },
    "papermill": {
     "duration": 0.034294,
     "end_time": "2022-07-17T21:00:06.570098",
     "exception": false,
     "start_time": "2022-07-17T21:00:06.535804",
     "status": "completed"
    },
    "tags": []
   },
   "outputs": [
    {
     "name": "stdout",
     "output_type": "stream",
     "text": [
      "<class 'pandas.core.frame.DataFrame'>\n",
      "Int64Index: 12970 entries, 0 to 4276\n",
      "Data columns (total 16 columns):\n",
      " #   Column        Non-Null Count  Dtype  \n",
      "---  ------        --------------  -----  \n",
      " 0   HomePlanet    12682 non-null  object \n",
      " 1   CryoSleep     12660 non-null  object \n",
      " 2   Destination   12696 non-null  object \n",
      " 3   Age           12700 non-null  float64\n",
      " 4   VIP           12674 non-null  object \n",
      " 5   RoomService   12707 non-null  float64\n",
      " 6   FoodCourt     12681 non-null  float64\n",
      " 7   ShoppingMall  12664 non-null  float64\n",
      " 8   Spa           12686 non-null  float64\n",
      " 9   VRDeck        12702 non-null  float64\n",
      " 10  Set           12970 non-null  object \n",
      " 11  Id_F_0        12970 non-null  float64\n",
      " 12  Id_F_1        12970 non-null  object \n",
      " 13  Cabin_F_0     12671 non-null  object \n",
      " 14  Cabin_F_1     12671 non-null  float64\n",
      " 15  Cabin_F_2     12671 non-null  object \n",
      "dtypes: float64(8), object(8)\n",
      "memory usage: 2.2+ MB\n"
     ]
    }
   ],
   "source": [
    "data.info()"
   ]
  },
  {
   "cell_type": "markdown",
   "id": "3c9a9146",
   "metadata": {
    "papermill": {
     "duration": 0.010092,
     "end_time": "2022-07-17T21:00:06.591381",
     "exception": false,
     "start_time": "2022-07-17T21:00:06.581289",
     "status": "completed"
    },
    "tags": []
   },
   "source": [
    "Fill missing categorical data with the most frequent entry before OneHotEncoding."
   ]
  },
  {
   "cell_type": "code",
   "execution_count": 19,
   "id": "328e1195",
   "metadata": {
    "execution": {
     "iopub.execute_input": "2022-07-17T21:00:06.614345Z",
     "iopub.status.busy": "2022-07-17T21:00:06.613727Z",
     "iopub.status.idle": "2022-07-17T21:00:06.646442Z",
     "shell.execute_reply": "2022-07-17T21:00:06.645376Z"
    },
    "papermill": {
     "duration": 0.047033,
     "end_time": "2022-07-17T21:00:06.648897",
     "exception": false,
     "start_time": "2022-07-17T21:00:06.601864",
     "status": "completed"
    },
    "tags": []
   },
   "outputs": [],
   "source": [
    "for col in data.columns[data.dtypes == object]:  # or `cat_selector(data):` if ealready encoded\n",
    "    data.loc[data[col].isnull(), col] =\\\n",
    "    data.loc[data[col].notnull(), col].mode().values[0]"
   ]
  },
  {
   "cell_type": "code",
   "execution_count": 20,
   "id": "11f14cb4",
   "metadata": {
    "execution": {
     "iopub.execute_input": "2022-07-17T21:00:06.673503Z",
     "iopub.status.busy": "2022-07-17T21:00:06.672870Z",
     "iopub.status.idle": "2022-07-17T21:00:06.677848Z",
     "shell.execute_reply": "2022-07-17T21:00:06.677093Z"
    },
    "papermill": {
     "duration": 0.019789,
     "end_time": "2022-07-17T21:00:06.680377",
     "exception": false,
     "start_time": "2022-07-17T21:00:06.660588",
     "status": "completed"
    },
    "tags": []
   },
   "outputs": [],
   "source": [
    "cat_encoder = OneHotEncoder() \n",
    "cat_selector = make_column_selector(\n",
    "    dtype_exclude=float\n",
    "    )\n",
    "\n",
    "float_encoder = StandardScaler()\n",
    "float_selector = make_column_selector(\n",
    "    dtype_include=float\n",
    "    )\n",
    "\n",
    "transofrmer = ColumnTransformer(\n",
    "    [(\"categorical\", cat_encoder, cat_selector),\n",
    "    (\"float\", float_encoder, float_selector)],\n",
    "    remainder=\"passthrough\"\n",
    "    )"
   ]
  },
  {
   "cell_type": "markdown",
   "id": "3289a444",
   "metadata": {
    "papermill": {
     "duration": 0.010308,
     "end_time": "2022-07-17T21:00:06.701469",
     "exception": false,
     "start_time": "2022-07-17T21:00:06.691161",
     "status": "completed"
    },
    "tags": []
   },
   "source": [
    "Fit on train data (assume there is no entries unique to test dataset, which is easy to verify after transofrmer fit)."
   ]
  },
  {
   "cell_type": "code",
   "execution_count": 21,
   "id": "8e9d680c",
   "metadata": {
    "execution": {
     "iopub.execute_input": "2022-07-17T21:00:06.724425Z",
     "iopub.status.busy": "2022-07-17T21:00:06.723689Z",
     "iopub.status.idle": "2022-07-17T21:00:06.766241Z",
     "shell.execute_reply": "2022-07-17T21:00:06.765453Z"
    },
    "papermill": {
     "duration": 0.056393,
     "end_time": "2022-07-17T21:00:06.768250",
     "exception": false,
     "start_time": "2022-07-17T21:00:06.711857",
     "status": "completed"
    },
    "tags": []
   },
   "outputs": [
    {
     "data": {
      "text/plain": [
       "[('categorical',\n",
       "  OneHotEncoder(),\n",
       "  ['HomePlanet',\n",
       "   'CryoSleep',\n",
       "   'Destination',\n",
       "   'VIP',\n",
       "   'Id_F_1',\n",
       "   'Cabin_F_0',\n",
       "   'Cabin_F_2']),\n",
       " ('float',\n",
       "  StandardScaler(),\n",
       "  ['Age',\n",
       "   'RoomService',\n",
       "   'FoodCourt',\n",
       "   'ShoppingMall',\n",
       "   'Spa',\n",
       "   'VRDeck',\n",
       "   'Id_F_0',\n",
       "   'Cabin_F_1'])]"
      ]
     },
     "execution_count": 21,
     "metadata": {},
     "output_type": "execute_result"
    }
   ],
   "source": [
    "transofrmer.fit(data[data[\"Set\"]==\"Train\"].drop(columns=\"Set\"))\n",
    "transofrmer.transformers_"
   ]
  },
  {
   "cell_type": "code",
   "execution_count": 22,
   "id": "b3489d32",
   "metadata": {
    "execution": {
     "iopub.execute_input": "2022-07-17T21:00:06.791478Z",
     "iopub.status.busy": "2022-07-17T21:00:06.790838Z",
     "iopub.status.idle": "2022-07-17T21:00:06.834485Z",
     "shell.execute_reply": "2022-07-17T21:00:06.833345Z"
    },
    "papermill": {
     "duration": 0.058413,
     "end_time": "2022-07-17T21:00:06.837345",
     "exception": false,
     "start_time": "2022-07-17T21:00:06.778932",
     "status": "completed"
    },
    "tags": []
   },
   "outputs": [],
   "source": [
    "processed_data = pd.DataFrame(\n",
    "    transofrmer.transform(data.drop(columns=\"Set\")),\n",
    "    columns = np.hstack(\n",
    "        (transofrmer.transformers_[0][1].get_feature_names_out(),\n",
    "         transofrmer.transformers_[1][-1]))\n",
    ")"
   ]
  },
  {
   "cell_type": "markdown",
   "id": "8b17cccc",
   "metadata": {
    "papermill": {
     "duration": 0.010276,
     "end_time": "2022-07-17T21:00:06.858361",
     "exception": false,
     "start_time": "2022-07-17T21:00:06.848085",
     "status": "completed"
    },
    "tags": []
   },
   "source": [
    "Fill missing preprocessed `float` features with the mean (which is 0 after standartisation)."
   ]
  },
  {
   "cell_type": "code",
   "execution_count": 23,
   "id": "22ddd567",
   "metadata": {
    "execution": {
     "iopub.execute_input": "2022-07-17T21:00:06.881364Z",
     "iopub.status.busy": "2022-07-17T21:00:06.880952Z",
     "iopub.status.idle": "2022-07-17T21:00:06.899926Z",
     "shell.execute_reply": "2022-07-17T21:00:06.899035Z"
    },
    "papermill": {
     "duration": 0.034098,
     "end_time": "2022-07-17T21:00:06.903174",
     "exception": false,
     "start_time": "2022-07-17T21:00:06.869076",
     "status": "completed"
    },
    "tags": []
   },
   "outputs": [
    {
     "name": "stdout",
     "output_type": "stream",
     "text": [
      "<class 'pandas.core.frame.DataFrame'>\n",
      "RangeIndex: 12970 entries, 0 to 12969\n",
      "Data columns (total 36 columns):\n",
      " #   Column                     Non-Null Count  Dtype  \n",
      "---  ------                     --------------  -----  \n",
      " 0   HomePlanet_Earth           12970 non-null  float64\n",
      " 1   HomePlanet_Europa          12970 non-null  float64\n",
      " 2   HomePlanet_Mars            12970 non-null  float64\n",
      " 3   CryoSleep_False            12970 non-null  float64\n",
      " 4   CryoSleep_True             12970 non-null  float64\n",
      " 5   Destination_55 Cancri e    12970 non-null  float64\n",
      " 6   Destination_PSO J318.5-22  12970 non-null  float64\n",
      " 7   Destination_TRAPPIST-1e    12970 non-null  float64\n",
      " 8   VIP_False                  12970 non-null  float64\n",
      " 9   VIP_True                   12970 non-null  float64\n",
      " 10  Id_F_1_01                  12970 non-null  float64\n",
      " 11  Id_F_1_02                  12970 non-null  float64\n",
      " 12  Id_F_1_03                  12970 non-null  float64\n",
      " 13  Id_F_1_04                  12970 non-null  float64\n",
      " 14  Id_F_1_05                  12970 non-null  float64\n",
      " 15  Id_F_1_06                  12970 non-null  float64\n",
      " 16  Id_F_1_07                  12970 non-null  float64\n",
      " 17  Id_F_1_08                  12970 non-null  float64\n",
      " 18  Cabin_F_0_A                12970 non-null  float64\n",
      " 19  Cabin_F_0_B                12970 non-null  float64\n",
      " 20  Cabin_F_0_C                12970 non-null  float64\n",
      " 21  Cabin_F_0_D                12970 non-null  float64\n",
      " 22  Cabin_F_0_E                12970 non-null  float64\n",
      " 23  Cabin_F_0_F                12970 non-null  float64\n",
      " 24  Cabin_F_0_G                12970 non-null  float64\n",
      " 25  Cabin_F_0_T                12970 non-null  float64\n",
      " 26  Cabin_F_2_P                12970 non-null  float64\n",
      " 27  Cabin_F_2_S                12970 non-null  float64\n",
      " 28  Age                        12970 non-null  float64\n",
      " 29  RoomService                12970 non-null  float64\n",
      " 30  FoodCourt                  12970 non-null  float64\n",
      " 31  ShoppingMall               12970 non-null  float64\n",
      " 32  Spa                        12970 non-null  float64\n",
      " 33  VRDeck                     12970 non-null  float64\n",
      " 34  Id_F_0                     12970 non-null  float64\n",
      " 35  Cabin_F_1                  12970 non-null  float64\n",
      "dtypes: float64(36)\n",
      "memory usage: 3.6 MB\n"
     ]
    }
   ],
   "source": [
    "processed_data.loc[:, transofrmer.transformers_[1][-1]] =\\\n",
    "processed_data.loc[:, transofrmer.transformers_[1][-1]].fillna(0)\n",
    "\n",
    "processed_data.info()"
   ]
  },
  {
   "cell_type": "markdown",
   "id": "564d36ed",
   "metadata": {
    "execution": {
     "iopub.execute_input": "2022-07-17T14:27:38.590278Z",
     "iopub.status.busy": "2022-07-17T14:27:38.589911Z",
     "iopub.status.idle": "2022-07-17T14:27:38.600987Z",
     "shell.execute_reply": "2022-07-17T14:27:38.600194Z",
     "shell.execute_reply.started": "2022-07-17T14:27:38.590250Z"
    },
    "papermill": {
     "duration": 0.010984,
     "end_time": "2022-07-17T21:00:06.925665",
     "exception": false,
     "start_time": "2022-07-17T21:00:06.914681",
     "status": "completed"
    },
    "tags": []
   },
   "source": [
    "Split data back into train and test sets."
   ]
  },
  {
   "cell_type": "code",
   "execution_count": 24,
   "id": "824edfff",
   "metadata": {
    "execution": {
     "iopub.execute_input": "2022-07-17T21:00:06.949639Z",
     "iopub.status.busy": "2022-07-17T21:00:06.949013Z",
     "iopub.status.idle": "2022-07-17T21:00:06.958846Z",
     "shell.execute_reply": "2022-07-17T21:00:06.957721Z"
    },
    "papermill": {
     "duration": 0.024619,
     "end_time": "2022-07-17T21:00:06.961266",
     "exception": false,
     "start_time": "2022-07-17T21:00:06.936647",
     "status": "completed"
    },
    "tags": []
   },
   "outputs": [],
   "source": [
    "threshold_idx = data[data[\"Set\"] == \"Train\"].index.max() + 1\n",
    "train_data = processed_data[:threshold_idx].copy()\n",
    "test_data = processed_data[threshold_idx:].copy()"
   ]
  },
  {
   "cell_type": "code",
   "execution_count": 25,
   "id": "ac9b48a8",
   "metadata": {
    "execution": {
     "iopub.execute_input": "2022-07-17T21:00:06.985259Z",
     "iopub.status.busy": "2022-07-17T21:00:06.984497Z",
     "iopub.status.idle": "2022-07-17T21:00:10.776469Z",
     "shell.execute_reply": "2022-07-17T21:00:10.775191Z"
    },
    "papermill": {
     "duration": 3.807975,
     "end_time": "2022-07-17T21:00:10.780071",
     "exception": false,
     "start_time": "2022-07-17T21:00:06.972096",
     "status": "completed"
    },
    "tags": []
   },
   "outputs": [
    {
     "name": "stdout",
     "output_type": "stream",
     "text": [
      "\n"
     ]
    },
    {
     "data": {
      "image/png": "[encoded data removed]",
      "text/plain": [
       "<Figure size 1080x2160 with 36 Axes>"
      ]
     },
     "metadata": {},
     "output_type": "display_data"
    }
   ],
   "source": [
    "train_data.hist(figsize=(15,30), layout=(9,4))\n",
    "print(\"\")"
   ]
  },
  {
   "cell_type": "markdown",
   "id": "eb33f3fd",
   "metadata": {
    "papermill": {
     "duration": 0.013502,
     "end_time": "2022-07-17T21:00:10.806673",
     "exception": false,
     "start_time": "2022-07-17T21:00:10.793171",
     "status": "completed"
    },
    "tags": []
   },
   "source": [
    "Don't think there is a relatioship between `id_F_0` and Target but choose to leave it be at this time."
   ]
  },
  {
   "cell_type": "markdown",
   "id": "07890f1d",
   "metadata": {
    "papermill": {
     "duration": 0.012087,
     "end_time": "2022-07-17T21:00:10.831439",
     "exception": false,
     "start_time": "2022-07-17T21:00:10.819352",
     "status": "completed"
    },
    "tags": []
   },
   "source": [
    "## Keras Model"
   ]
  },
  {
   "cell_type": "markdown",
   "id": "6abf4296",
   "metadata": {
    "papermill": {
     "duration": 0.012033,
     "end_time": "2022-07-17T21:00:10.855832",
     "exception": false,
     "start_time": "2022-07-17T21:00:10.843799",
     "status": "completed"
    },
    "tags": []
   },
   "source": [
    "Using functional API to build an unnecessarily big model. Adding dropout and Ridge regularization to tackle overfit."
   ]
  },
  {
   "cell_type": "code",
   "execution_count": 26,
   "id": "a060dd1b",
   "metadata": {
    "execution": {
     "iopub.execute_input": "2022-07-17T21:00:10.883147Z",
     "iopub.status.busy": "2022-07-17T21:00:10.882267Z",
     "iopub.status.idle": "2022-07-17T21:00:12.121756Z",
     "shell.execute_reply": "2022-07-17T21:00:12.119736Z"
    },
    "papermill": {
     "duration": 1.256751,
     "end_time": "2022-07-17T21:00:12.124996",
     "exception": false,
     "start_time": "2022-07-17T21:00:10.868245",
     "status": "completed"
    },
    "tags": []
   },
   "outputs": [
    {
     "name": "stderr",
     "output_type": "stream",
     "text": [
      "2022-07-17 21:00:11.985527: I tensorflow/core/common_runtime/process_util.cc:146] Creating new thread pool with default inter op setting: 2. Tune using inter_op_parallelism_threads for best performance.\n"
     ]
    }
   ],
   "source": [
    "passengers = keras.Input(shape=(train_data.shape[1],), name=\"passenger\")\n",
    "\n",
    "mid_layers = keras.layers.Dense(2048,\n",
    "                                kernel_regularizer= keras.regularizers.l2(0.003),\n",
    "                                activation=\"relu\")(passengers)\n",
    "mid_layers = keras.layers.Dropout(0.3)(mid_layers)\n",
    "\n",
    "mid_layers = keras.layers.Dense(2048,\n",
    "#                                 kernel_regularizer= keras.regularizers.l2(0.003),\n",
    "                                activation=\"relu\")(mid_layers)\n",
    "# mid_layers = keras.layers.Dropout(0.3)(mid_layers)\n",
    "\n",
    "mid_layers = keras.layers.Dense(2048,\n",
    "                                kernel_regularizer= keras.regularizers.l2(0.003),\n",
    "                                activation=\"relu\")(mid_layers)\n",
    "mid_layers = keras.layers.Dropout(0.3)(mid_layers)\n",
    "\n",
    "# mid_layers = keras.layers.Dense(1024,\n",
    "#                                 kernel_regularizer= keras.regularizers.l2(0.001),\n",
    "#                                 activation=\"relu\")(mid_layers)\n",
    "# mid_layers = keras.layers.Dropout(0.2)(mid_layers)\n",
    "\n",
    "vitals = keras.layers.Dense(1, activation=\"sigmoid\", name=\"vitals\")(mid_layers)"
   ]
  },
  {
   "cell_type": "markdown",
   "id": "32b91392",
   "metadata": {
    "papermill": {
     "duration": 0.012447,
     "end_time": "2022-07-17T21:00:12.150292",
     "exception": false,
     "start_time": "2022-07-17T21:00:12.137845",
     "status": "completed"
    },
    "tags": []
   },
   "source": [
    "Earlier, it was noted that validation loss starts to \"oscillate\" durling later epochs when the learning rate is high. Thus, defined a callback to reduce the rate every 10 epochs."
   ]
  },
  {
   "cell_type": "code",
   "execution_count": 27,
   "id": "fb2435f0",
   "metadata": {
    "execution": {
     "iopub.execute_input": "2022-07-17T21:00:12.176901Z",
     "iopub.status.busy": "2022-07-17T21:00:12.176525Z",
     "iopub.status.idle": "2022-07-17T21:00:12.181527Z",
     "shell.execute_reply": "2022-07-17T21:00:12.180673Z"
    },
    "papermill": {
     "duration": 0.020627,
     "end_time": "2022-07-17T21:00:12.183498",
     "exception": false,
     "start_time": "2022-07-17T21:00:12.162871",
     "status": "completed"
    },
    "tags": []
   },
   "outputs": [],
   "source": [
    "def scheduler(epoch, lr):\n",
    "    if (epoch > 0) & (epoch % 10 == 0):\n",
    "        return lr / 2\n",
    "    else:\n",
    "        return lr\n",
    "callback = keras.callbacks.LearningRateScheduler(scheduler, 1)"
   ]
  },
  {
   "cell_type": "code",
   "execution_count": 28,
   "id": "18d947b1",
   "metadata": {
    "execution": {
     "iopub.execute_input": "2022-07-17T21:00:12.210392Z",
     "iopub.status.busy": "2022-07-17T21:00:12.210010Z",
     "iopub.status.idle": "2022-07-17T21:02:59.022073Z",
     "shell.execute_reply": "2022-07-17T21:02:59.021040Z"
    },
    "papermill": {
     "duration": 166.828561,
     "end_time": "2022-07-17T21:02:59.024695",
     "exception": false,
     "start_time": "2022-07-17T21:00:12.196134",
     "status": "completed"
    },
    "tags": []
   },
   "outputs": [
    {
     "name": "stderr",
     "output_type": "stream",
     "text": [
      "2022-07-17 21:00:12.322907: I tensorflow/compiler/mlir/mlir_graph_optimization_pass.cc:185] None of the MLIR Optimization Passes are enabled (registered 2)\n"
     ]
    },
    {
     "name": "stdout",
     "output_type": "stream",
     "text": [
      "Epoch 1/60\n",
      "\n",
      "Epoch 00001: LearningRateScheduler setting learning rate to 0.0010000000474974513.\n",
      "2/2 [==============================] - 4s 1s/step - loss: 6.6019 - accuracy: 0.5324 - val_loss: 14.1749 - val_accuracy: 0.4793\n",
      "Epoch 2/60\n",
      "\n",
      "Epoch 00002: LearningRateScheduler setting learning rate to 0.0010000000474974513.\n",
      "2/2 [==============================] - 3s 1s/step - loss: 9.9871 - accuracy: 0.5120 - val_loss: 4.2761 - val_accuracy: 0.6366\n",
      "Epoch 3/60\n",
      "\n",
      "Epoch 00003: LearningRateScheduler setting learning rate to 0.0010000000474974513.\n",
      "2/2 [==============================] - 3s 1s/step - loss: 4.1842 - accuracy: 0.6134 - val_loss: 3.6002 - val_accuracy: 0.8027\n",
      "Epoch 4/60\n",
      "\n",
      "Epoch 00004: LearningRateScheduler setting learning rate to 0.0010000000474974513.\n",
      "2/2 [==============================] - 3s 1s/step - loss: 3.5362 - accuracy: 0.7615 - val_loss: 3.1250 - val_accuracy: 0.7723\n",
      "Epoch 5/60\n",
      "\n",
      "Epoch 00005: LearningRateScheduler setting learning rate to 0.0010000000474974513.\n",
      "2/2 [==============================] - 3s 1s/step - loss: 3.1680 - accuracy: 0.7035 - val_loss: 2.8070 - val_accuracy: 0.7576\n",
      "Epoch 6/60\n",
      "\n",
      "Epoch 00006: LearningRateScheduler setting learning rate to 0.0010000000474974513.\n",
      "2/2 [==============================] - 3s 1s/step - loss: 2.7301 - accuracy: 0.7840 - val_loss: 2.4882 - val_accuracy: 0.7760\n",
      "Epoch 7/60\n",
      "\n",
      "Epoch 00007: LearningRateScheduler setting learning rate to 0.0010000000474974513.\n",
      "2/2 [==============================] - 3s 1s/step - loss: 2.4241 - accuracy: 0.7852 - val_loss: 2.2083 - val_accuracy: 0.7889\n",
      "Epoch 8/60\n",
      "\n",
      "Epoch 00008: LearningRateScheduler setting learning rate to 0.0010000000474974513.\n",
      "2/2 [==============================] - 3s 1s/step - loss: 2.1727 - accuracy: 0.7866 - val_loss: 1.9979 - val_accuracy: 0.7875\n",
      "Epoch 9/60\n",
      "\n",
      "Epoch 00009: LearningRateScheduler setting learning rate to 0.0010000000474974513.\n",
      "2/2 [==============================] - 3s 1s/step - loss: 1.9630 - accuracy: 0.7832 - val_loss: 1.7805 - val_accuracy: 0.8036\n",
      "Epoch 10/60\n",
      "\n",
      "Epoch 00010: LearningRateScheduler setting learning rate to 0.0010000000474974513.\n",
      "2/2 [==============================] - 3s 1s/step - loss: 1.8618 - accuracy: 0.7332 - val_loss: 1.6460 - val_accuracy: 0.8027\n",
      "Epoch 11/60\n",
      "\n",
      "Epoch 00011: LearningRateScheduler setting learning rate to 0.0005000000237487257.\n",
      "2/2 [==============================] - 3s 1s/step - loss: 1.6556 - accuracy: 0.7808 - val_loss: 1.5945 - val_accuracy: 0.7783\n",
      "Epoch 12/60\n",
      "\n",
      "Epoch 00012: LearningRateScheduler setting learning rate to 0.0005000000237487257.\n",
      "2/2 [==============================] - 3s 1s/step - loss: 1.5630 - accuracy: 0.7859 - val_loss: 1.5269 - val_accuracy: 0.7778\n",
      "Epoch 13/60\n",
      "\n",
      "Epoch 00013: LearningRateScheduler setting learning rate to 0.0005000000237487257.\n",
      "2/2 [==============================] - 3s 1s/step - loss: 1.4887 - accuracy: 0.7869 - val_loss: 1.4550 - val_accuracy: 0.7810\n",
      "Epoch 14/60\n",
      "\n",
      "Epoch 00014: LearningRateScheduler setting learning rate to 0.0005000000237487257.\n",
      "2/2 [==============================] - 3s 2s/step - loss: 1.4190 - accuracy: 0.7891 - val_loss: 1.4120 - val_accuracy: 0.7668\n",
      "Epoch 15/60\n",
      "\n",
      "Epoch 00015: LearningRateScheduler setting learning rate to 0.0005000000237487257.\n",
      "2/2 [==============================] - 3s 1s/step - loss: 1.3542 - accuracy: 0.7911 - val_loss: 1.3573 - val_accuracy: 0.7659\n",
      "Epoch 16/60\n",
      "\n",
      "Epoch 00016: LearningRateScheduler setting learning rate to 0.0005000000237487257.\n",
      "2/2 [==============================] - 3s 1s/step - loss: 1.2919 - accuracy: 0.7934 - val_loss: 1.3004 - val_accuracy: 0.7663\n",
      "Epoch 17/60\n",
      "\n",
      "Epoch 00017: LearningRateScheduler setting learning rate to 0.0005000000237487257.\n",
      "2/2 [==============================] - 3s 1s/step - loss: 1.2339 - accuracy: 0.7886 - val_loss: 1.2709 - val_accuracy: 0.7475\n",
      "Epoch 18/60\n",
      "\n",
      "Epoch 00018: LearningRateScheduler setting learning rate to 0.0005000000237487257.\n",
      "2/2 [==============================] - 3s 1s/step - loss: 1.1851 - accuracy: 0.7909 - val_loss: 1.2393 - val_accuracy: 0.7309\n",
      "Epoch 19/60\n",
      "\n",
      "Epoch 00019: LearningRateScheduler setting learning rate to 0.0005000000237487257.\n",
      "2/2 [==============================] - 3s 1s/step - loss: 1.1345 - accuracy: 0.7909 - val_loss: 1.1583 - val_accuracy: 0.7525\n",
      "Epoch 20/60\n",
      "\n",
      "Epoch 00020: LearningRateScheduler setting learning rate to 0.0005000000237487257.\n",
      "2/2 [==============================] - 3s 1s/step - loss: 1.0792 - accuracy: 0.7905 - val_loss: 1.1319 - val_accuracy: 0.7387\n",
      "Epoch 21/60\n",
      "\n",
      "Epoch 00021: LearningRateScheduler setting learning rate to 0.0002500000118743628.\n",
      "2/2 [==============================] - 3s 1s/step - loss: 1.0364 - accuracy: 0.7928 - val_loss: 1.0431 - val_accuracy: 0.7847\n",
      "Epoch 22/60\n",
      "\n",
      "Epoch 00022: LearningRateScheduler setting learning rate to 0.0002500000118743628.\n",
      "2/2 [==============================] - 3s 1s/step - loss: 1.0048 - accuracy: 0.7935 - val_loss: 1.0273 - val_accuracy: 0.7838\n",
      "Epoch 23/60\n",
      "\n",
      "Epoch 00023: LearningRateScheduler setting learning rate to 0.0002500000118743628.\n",
      "2/2 [==============================] - 3s 1s/step - loss: 0.9819 - accuracy: 0.7941 - val_loss: 1.0056 - val_accuracy: 0.7820\n",
      "Epoch 24/60\n",
      "\n",
      "Epoch 00024: LearningRateScheduler setting learning rate to 0.0002500000118743628.\n",
      "2/2 [==============================] - 3s 1s/step - loss: 0.9597 - accuracy: 0.7963 - val_loss: 0.9915 - val_accuracy: 0.7783\n",
      "Epoch 25/60\n",
      "\n",
      "Epoch 00025: LearningRateScheduler setting learning rate to 0.0002500000118743628.\n",
      "2/2 [==============================] - 3s 1s/step - loss: 0.9373 - accuracy: 0.7971 - val_loss: 0.9723 - val_accuracy: 0.7751\n",
      "Epoch 26/60\n",
      "\n",
      "Epoch 00026: LearningRateScheduler setting learning rate to 0.0002500000118743628.\n",
      "2/2 [==============================] - 3s 1s/step - loss: 0.9133 - accuracy: 0.7984 - val_loss: 0.9275 - val_accuracy: 0.7866\n",
      "Epoch 27/60\n",
      "\n",
      "Epoch 00027: LearningRateScheduler setting learning rate to 0.0002500000118743628.\n",
      "2/2 [==============================] - 3s 1s/step - loss: 0.8926 - accuracy: 0.7975 - val_loss: 0.8876 - val_accuracy: 0.7930\n",
      "Epoch 28/60\n",
      "\n",
      "Epoch 00028: LearningRateScheduler setting learning rate to 0.0002500000118743628.\n",
      "2/2 [==============================] - 3s 1s/step - loss: 0.8747 - accuracy: 0.7932 - val_loss: 0.8558 - val_accuracy: 0.8022\n",
      "Epoch 29/60\n",
      "\n",
      "Epoch 00029: LearningRateScheduler setting learning rate to 0.0002500000118743628.\n",
      "2/2 [==============================] - 3s 1s/step - loss: 0.8684 - accuracy: 0.7842 - val_loss: 0.8370 - val_accuracy: 0.8022\n",
      "Epoch 30/60\n",
      "\n",
      "Epoch 00030: LearningRateScheduler setting learning rate to 0.0002500000118743628.\n",
      "2/2 [==============================] - 3s 1s/step - loss: 0.8425 - accuracy: 0.7902 - val_loss: 0.8398 - val_accuracy: 0.7902\n",
      "Epoch 31/60\n",
      "\n",
      "Epoch 00031: LearningRateScheduler setting learning rate to 0.0001250000059371814.\n",
      "2/2 [==============================] - 3s 1s/step - loss: 0.8155 - accuracy: 0.7975 - val_loss: 0.8466 - val_accuracy: 0.7838\n",
      "Epoch 32/60\n",
      "\n",
      "Epoch 00032: LearningRateScheduler setting learning rate to 0.0001250000059371814.\n",
      "2/2 [==============================] - 3s 1s/step - loss: 0.8044 - accuracy: 0.8027 - val_loss: 0.8387 - val_accuracy: 0.7847\n",
      "Epoch 33/60\n",
      "\n",
      "Epoch 00033: LearningRateScheduler setting learning rate to 0.0001250000059371814.\n",
      "2/2 [==============================] - 3s 1s/step - loss: 0.7949 - accuracy: 0.8006 - val_loss: 0.8256 - val_accuracy: 0.7847\n",
      "Epoch 34/60\n",
      "\n",
      "Epoch 00034: LearningRateScheduler setting learning rate to 0.0001250000059371814.\n",
      "2/2 [==============================] - 3s 1s/step - loss: 0.7857 - accuracy: 0.8037 - val_loss: 0.8252 - val_accuracy: 0.7838\n",
      "Epoch 35/60\n",
      "\n",
      "Epoch 00035: LearningRateScheduler setting learning rate to 0.0001250000059371814.\n",
      "2/2 [==============================] - 3s 1s/step - loss: 0.7770 - accuracy: 0.7977 - val_loss: 0.7971 - val_accuracy: 0.7879\n",
      "Epoch 36/60\n",
      "\n",
      "Epoch 00036: LearningRateScheduler setting learning rate to 0.0001250000059371814.\n",
      "2/2 [==============================] - 3s 1s/step - loss: 0.7683 - accuracy: 0.7957 - val_loss: 0.7866 - val_accuracy: 0.7879\n",
      "Epoch 37/60\n",
      "\n",
      "Epoch 00037: LearningRateScheduler setting learning rate to 0.0001250000059371814.\n",
      "2/2 [==============================] - 3s 1s/step - loss: 0.7591 - accuracy: 0.7998 - val_loss: 0.7934 - val_accuracy: 0.7847\n",
      "Epoch 38/60\n",
      "\n",
      "Epoch 00038: LearningRateScheduler setting learning rate to 0.0001250000059371814.\n",
      "2/2 [==============================] - 3s 1s/step - loss: 0.7489 - accuracy: 0.7998 - val_loss: 0.7737 - val_accuracy: 0.7866\n",
      "Epoch 39/60\n",
      "\n",
      "Epoch 00039: LearningRateScheduler setting learning rate to 0.0001250000059371814.\n",
      "2/2 [==============================] - 3s 1s/step - loss: 0.7389 - accuracy: 0.7980 - val_loss: 0.7778 - val_accuracy: 0.7838\n",
      "Epoch 40/60\n",
      "\n",
      "Epoch 00040: LearningRateScheduler setting learning rate to 0.0001250000059371814.\n",
      "2/2 [==============================] - 3s 1s/step - loss: 0.7295 - accuracy: 0.8013 - val_loss: 0.7625 - val_accuracy: 0.7852\n",
      "Epoch 41/60\n",
      "\n",
      "Epoch 00041: LearningRateScheduler setting learning rate to 6.25000029685907e-05.\n",
      "2/2 [==============================] - 3s 1s/step - loss: 0.7225 - accuracy: 0.8010 - val_loss: 0.7637 - val_accuracy: 0.7856\n",
      "Epoch 42/60\n",
      "\n",
      "Epoch 00042: LearningRateScheduler setting learning rate to 6.25000029685907e-05.\n",
      "2/2 [==============================] - 3s 1s/step - loss: 0.7160 - accuracy: 0.8018 - val_loss: 0.7549 - val_accuracy: 0.7852\n",
      "Epoch 43/60\n",
      "\n",
      "Epoch 00043: LearningRateScheduler setting learning rate to 6.25000029685907e-05.\n",
      "2/2 [==============================] - 3s 1s/step - loss: 0.7114 - accuracy: 0.8035 - val_loss: 0.7513 - val_accuracy: 0.7852\n",
      "Epoch 44/60\n",
      "\n",
      "Epoch 00044: LearningRateScheduler setting learning rate to 6.25000029685907e-05.\n",
      "2/2 [==============================] - 3s 1s/step - loss: 0.7078 - accuracy: 0.8007 - val_loss: 0.7531 - val_accuracy: 0.7838\n",
      "Epoch 45/60\n",
      "\n",
      "Epoch 00045: LearningRateScheduler setting learning rate to 6.25000029685907e-05.\n",
      "2/2 [==============================] - 3s 1s/step - loss: 0.7027 - accuracy: 0.8015 - val_loss: 0.7319 - val_accuracy: 0.7889\n",
      "Epoch 46/60\n",
      "\n",
      "Epoch 00046: LearningRateScheduler setting learning rate to 6.25000029685907e-05.\n",
      "2/2 [==============================] - 3s 1s/step - loss: 0.6989 - accuracy: 0.8041 - val_loss: 0.7530 - val_accuracy: 0.7806\n",
      "Epoch 47/60\n",
      "\n",
      "Epoch 00047: LearningRateScheduler setting learning rate to 6.25000029685907e-05.\n",
      "2/2 [==============================] - 3s 1s/step - loss: 0.6954 - accuracy: 0.8010 - val_loss: 0.7307 - val_accuracy: 0.7866\n",
      "Epoch 48/60\n",
      "\n",
      "Epoch 00048: LearningRateScheduler setting learning rate to 6.25000029685907e-05.\n",
      "2/2 [==============================] - 3s 1s/step - loss: 0.6903 - accuracy: 0.8024 - val_loss: 0.7295 - val_accuracy: 0.7866\n",
      "Epoch 49/60\n",
      "\n",
      "Epoch 00049: LearningRateScheduler setting learning rate to 6.25000029685907e-05.\n",
      "2/2 [==============================] - 3s 1s/step - loss: 0.6855 - accuracy: 0.8015 - val_loss: 0.7197 - val_accuracy: 0.7898\n",
      "Epoch 50/60\n",
      "\n",
      "Epoch 00050: LearningRateScheduler setting learning rate to 6.25000029685907e-05.\n",
      "2/2 [==============================] - 3s 1s/step - loss: 0.6817 - accuracy: 0.8040 - val_loss: 0.7289 - val_accuracy: 0.7806\n",
      "Epoch 51/60\n",
      "\n",
      "Epoch 00051: LearningRateScheduler setting learning rate to 3.125000148429535e-05.\n",
      "2/2 [==============================] - 3s 1s/step - loss: 0.6775 - accuracy: 0.8035 - val_loss: 0.7269 - val_accuracy: 0.7810\n",
      "Epoch 52/60\n",
      "\n",
      "Epoch 00052: LearningRateScheduler setting learning rate to 3.125000148429535e-05.\n",
      "2/2 [==============================] - 3s 1s/step - loss: 0.6748 - accuracy: 0.8060 - val_loss: 0.7289 - val_accuracy: 0.7797\n",
      "Epoch 53/60\n",
      "\n",
      "Epoch 00053: LearningRateScheduler setting learning rate to 3.125000148429535e-05.\n",
      "2/2 [==============================] - 3s 1s/step - loss: 0.6725 - accuracy: 0.8040 - val_loss: 0.7301 - val_accuracy: 0.7787\n",
      "Epoch 54/60\n",
      "\n",
      "Epoch 00054: LearningRateScheduler setting learning rate to 3.125000148429535e-05.\n",
      "2/2 [==============================] - 3s 1s/step - loss: 0.6717 - accuracy: 0.8024 - val_loss: 0.7217 - val_accuracy: 0.7815\n",
      "Epoch 55/60\n",
      "\n",
      "Epoch 00055: LearningRateScheduler setting learning rate to 3.125000148429535e-05.\n",
      "2/2 [==============================] - 3s 1s/step - loss: 0.6691 - accuracy: 0.8033 - val_loss: 0.7261 - val_accuracy: 0.7801\n",
      "Epoch 56/60\n",
      "\n",
      "Epoch 00056: LearningRateScheduler setting learning rate to 3.125000148429535e-05.\n",
      "2/2 [==============================] - 3s 1s/step - loss: 0.6682 - accuracy: 0.8040 - val_loss: 0.7181 - val_accuracy: 0.7815\n",
      "Epoch 57/60\n",
      "\n",
      "Epoch 00057: LearningRateScheduler setting learning rate to 3.125000148429535e-05.\n",
      "2/2 [==============================] - 3s 1s/step - loss: 0.6652 - accuracy: 0.7997 - val_loss: 0.7136 - val_accuracy: 0.7833\n",
      "Epoch 58/60\n",
      "\n",
      "Epoch 00058: LearningRateScheduler setting learning rate to 3.125000148429535e-05.\n",
      "2/2 [==============================] - 3s 1s/step - loss: 0.6638 - accuracy: 0.8026 - val_loss: 0.7133 - val_accuracy: 0.7824\n",
      "Epoch 59/60\n",
      "\n",
      "Epoch 00059: LearningRateScheduler setting learning rate to 3.125000148429535e-05.\n",
      "2/2 [==============================] - 3s 1s/step - loss: 0.6609 - accuracy: 0.8041 - val_loss: 0.7122 - val_accuracy: 0.7824\n",
      "Epoch 60/60\n",
      "\n",
      "Epoch 00060: LearningRateScheduler setting learning rate to 3.125000148429535e-05.\n",
      "2/2 [==============================] - 3s 1s/step - loss: 0.6588 - accuracy: 0.8035 - val_loss: 0.7204 - val_accuracy: 0.7778\n"
     ]
    }
   ],
   "source": [
    "epochs_num = 60\n",
    "model = keras.Model(inputs=passengers, outputs=vitals)\n",
    "\n",
    "model.compile(\n",
    "    optimizer=keras.optimizers.RMSprop(1e-3),\n",
    "    loss=\"BinaryCrossentropy\", metrics=[\"accuracy\"])\n",
    "\n",
    "history = model.fit(\n",
    "    train_data, train_target, batch_size=4300, epochs=epochs_num,\n",
    "    validation_split=.25, shuffle=True, callbacks = [callback])"
   ]
  },
  {
   "cell_type": "code",
   "execution_count": 29,
   "id": "fa96df09",
   "metadata": {
    "execution": {
     "iopub.execute_input": "2022-07-17T21:02:59.075180Z",
     "iopub.status.busy": "2022-07-17T21:02:59.074587Z",
     "iopub.status.idle": "2022-07-17T21:03:08.606093Z",
     "shell.execute_reply": "2022-07-17T21:03:08.604576Z"
    },
    "papermill": {
     "duration": 9.559738,
     "end_time": "2022-07-17T21:03:08.608691",
     "exception": false,
     "start_time": "2022-07-17T21:02:59.048953",
     "status": "completed"
    },
    "tags": []
   },
   "outputs": [
    {
     "name": "stdout",
     "output_type": "stream",
     "text": [
      "125/125 [==============================] - 3s 19ms/step - loss: 0.6718 - accuracy: 0.8005\n",
      "125/125 [==============================] - 2s 13ms/step - loss: 0.6709 - accuracy: 0.8002\n",
      "125/125 [==============================] - 2s 13ms/step - loss: 0.6786 - accuracy: 0.7890\n",
      "125/125 [==============================] - 2s 13ms/step - loss: 0.6688 - accuracy: 0.7970\n",
      "125/125 [==============================] - 2s 13ms/step - loss: 0.6858 - accuracy: 0.7875\n"
     ]
    }
   ],
   "source": [
    "for _ in range(5):\n",
    "    sample = train_data.sample(4000)\n",
    "    # train_target[sample.index]\n",
    "    model.evaluate(sample, train_target[sample.index])"
   ]
  },
  {
   "cell_type": "code",
   "execution_count": 30,
   "id": "12db9ace",
   "metadata": {
    "execution": {
     "iopub.execute_input": "2022-07-17T21:03:08.675614Z",
     "iopub.status.busy": "2022-07-17T21:03:08.674563Z",
     "iopub.status.idle": "2022-07-17T21:03:08.937982Z",
     "shell.execute_reply": "2022-07-17T21:03:08.937203Z"
    },
    "papermill": {
     "duration": 0.298617,
     "end_time": "2022-07-17T21:03:08.940090",
     "exception": false,
     "start_time": "2022-07-17T21:03:08.641473",
     "status": "completed"
    },
    "tags": []
   },
   "outputs": [
    {
     "data": {
      "image/png": "[encoded data removed]",
      "text/plain": [
       "<Figure size 432x288 with 1 Axes>"
      ]
     },
     "metadata": {},
     "output_type": "display_data"
    }
   ],
   "source": [
    "loss = history.history[\"loss\"].copy()\n",
    "val_loss = history.history[\"val_loss\"].copy()\n",
    "g_loss = sns.lineplot(x = range(1, len(loss)+1), y=loss, label=\"Test\")\n",
    "sns.scatterplot(x = range(1, len(loss)+1), y=val_loss, ax=g_loss, label=\"Validation\")\n",
    "g_loss.set_ylim(0,1.5)\n",
    "g_loss.set_ylabel(\"Logistic Loss\")\n",
    "g_loss.set_xlabel(\"Batch No\")\n",
    "g_loss.set_xticks(range(0, epochs_num+10, 10))\n",
    "g_loss.grid(True, axis=\"x\")"
   ]
  },
  {
   "cell_type": "code",
   "execution_count": 31,
   "id": "6e469386",
   "metadata": {
    "execution": {
     "iopub.execute_input": "2022-07-17T21:03:09.007273Z",
     "iopub.status.busy": "2022-07-17T21:03:09.006487Z",
     "iopub.status.idle": "2022-07-17T21:03:09.239603Z",
     "shell.execute_reply": "2022-07-17T21:03:09.238827Z"
    },
    "papermill": {
     "duration": 0.269063,
     "end_time": "2022-07-17T21:03:09.242060",
     "exception": false,
     "start_time": "2022-07-17T21:03:08.972997",
     "status": "completed"
    },
    "tags": []
   },
   "outputs": [
    {
     "data": {
      "image/png": "[encoded data removed]",
      "text/plain": [
       "<Figure size 432x288 with 1 Axes>"
      ]
     },
     "metadata": {},
     "output_type": "display_data"
    }
   ],
   "source": [
    "acc = history.history[\"accuracy\"].copy()\n",
    "val_acc = history.history[\"val_accuracy\"].copy()\n",
    "g_acc = sns.lineplot(x = range(1, len(acc)+1), y=acc, label=\"Test\")\n",
    "sns.scatterplot(x = range(1, len(acc)+1), y=val_acc, ax=g_acc, label=\"Validation\")\n",
    "g_acc.set_ylim(0.5,1)\n",
    "g_acc.set_ylabel(\"Accuracy\")\n",
    "g_acc.set_xlabel(\"Batch No\")\n",
    "g_acc.set_xticks(range(0, epochs_num+10, 10))\n",
    "g_acc.grid(True, axis=\"x\")"
   ]
  },
  {
   "cell_type": "code",
   "execution_count": 32,
   "id": "3109bbe5",
   "metadata": {
    "execution": {
     "iopub.execute_input": "2022-07-17T21:03:09.308832Z",
     "iopub.status.busy": "2022-07-17T21:03:09.308450Z",
     "iopub.status.idle": "2022-07-17T21:03:10.421130Z",
     "shell.execute_reply": "2022-07-17T21:03:10.419894Z"
    },
    "papermill": {
     "duration": 1.14857,
     "end_time": "2022-07-17T21:03:10.423249",
     "exception": false,
     "start_time": "2022-07-17T21:03:09.274679",
     "status": "completed"
    },
    "tags": []
   },
   "outputs": [
    {
     "data": {
      "image/png": "[encoded data removed]",
      "text/plain": [
       "<IPython.core.display.Image object>"
      ]
     },
     "execution_count": 32,
     "metadata": {},
     "output_type": "execute_result"
    }
   ],
   "source": [
    "keras.utils.plot_model(model, show_shapes=True)"
   ]
  },
  {
   "cell_type": "markdown",
   "id": "62297abd",
   "metadata": {
    "papermill": {
     "duration": 0.034996,
     "end_time": "2022-07-17T21:03:10.493509",
     "exception": false,
     "start_time": "2022-07-17T21:03:10.458513",
     "status": "completed"
    },
    "tags": []
   },
   "source": [
    "## Submission"
   ]
  },
  {
   "cell_type": "code",
   "execution_count": 33,
   "id": "60364173",
   "metadata": {
    "execution": {
     "iopub.execute_input": "2022-07-17T21:03:10.564831Z",
     "iopub.status.busy": "2022-07-17T21:03:10.564441Z",
     "iopub.status.idle": "2022-07-17T21:03:11.958959Z",
     "shell.execute_reply": "2022-07-17T21:03:11.958019Z"
    },
    "papermill": {
     "duration": 1.432756,
     "end_time": "2022-07-17T21:03:11.961393",
     "exception": false,
     "start_time": "2022-07-17T21:03:10.528637",
     "status": "completed"
    },
    "tags": []
   },
   "outputs": [],
   "source": [
    "predict = model.predict(test_data)\n",
    "predict = pd.Series(predict.reshape(-1,))"
   ]
  },
  {
   "cell_type": "code",
   "execution_count": 34,
   "id": "e17af0b2",
   "metadata": {
    "execution": {
     "iopub.execute_input": "2022-07-17T21:03:12.029308Z",
     "iopub.status.busy": "2022-07-17T21:03:12.028914Z",
     "iopub.status.idle": "2022-07-17T21:03:12.039135Z",
     "shell.execute_reply": "2022-07-17T21:03:12.038108Z"
    },
    "papermill": {
     "duration": 0.046783,
     "end_time": "2022-07-17T21:03:12.041393",
     "exception": false,
     "start_time": "2022-07-17T21:03:11.994610",
     "status": "completed"
    },
    "tags": []
   },
   "outputs": [
    {
     "data": {
      "text/plain": [
       "True     2183\n",
       "False    2094\n",
       "dtype: int64"
      ]
     },
     "execution_count": 34,
     "metadata": {},
     "output_type": "execute_result"
    }
   ],
   "source": [
    "predict = predict.apply(lambda x: True if x>=.5 else False)\n",
    "predict.value_counts()"
   ]
  },
  {
   "cell_type": "code",
   "execution_count": 35,
   "id": "9770b80b",
   "metadata": {
    "execution": {
     "iopub.execute_input": "2022-07-17T21:03:12.109610Z",
     "iopub.status.busy": "2022-07-17T21:03:12.109231Z",
     "iopub.status.idle": "2022-07-17T21:03:12.124332Z",
     "shell.execute_reply": "2022-07-17T21:03:12.123439Z"
    },
    "papermill": {
     "duration": 0.051585,
     "end_time": "2022-07-17T21:03:12.126447",
     "exception": false,
     "start_time": "2022-07-17T21:03:12.074862",
     "status": "completed"
    },
    "tags": []
   },
   "outputs": [],
   "source": [
    "submit = pd.read_csv(\"/kaggle/input/spaceship-titanic/sample_submission.csv\")\n",
    "submit[\"Transported\"] = predict"
   ]
  },
  {
   "cell_type": "code",
   "execution_count": 36,
   "id": "4580672c",
   "metadata": {
    "execution": {
     "iopub.execute_input": "2022-07-17T21:03:12.195110Z",
     "iopub.status.busy": "2022-07-17T21:03:12.194415Z",
     "iopub.status.idle": "2022-07-17T21:03:12.213943Z",
     "shell.execute_reply": "2022-07-17T21:03:12.213178Z"
    },
    "papermill": {
     "duration": 0.055565,
     "end_time": "2022-07-17T21:03:12.215764",
     "exception": false,
     "start_time": "2022-07-17T21:03:12.160199",
     "status": "completed"
    },
    "tags": []
   },
   "outputs": [
    {
     "data": {
      "text/html": [
       "<div>\n",
       "<style scoped>\n",
       "    .dataframe tbody tr th:only-of-type {\n",
       "        vertical-align: middle;\n",
       "    }\n",
       "\n",
       "    .dataframe tbody tr th {\n",
       "        vertical-align: top;\n",
       "    }\n",
       "\n",
       "    .dataframe thead th {\n",
       "        text-align: right;\n",
       "    }\n",
       "</style>\n",
       "<table border=\"1\" class=\"dataframe\">\n",
       "  <thead>\n",
       "    <tr style=\"text-align: right;\">\n",
       "      <th></th>\n",
       "      <th>PassengerId</th>\n",
       "      <th>Transported</th>\n",
       "    </tr>\n",
       "  </thead>\n",
       "  <tbody>\n",
       "    <tr>\n",
       "      <th>0</th>\n",
       "      <td>0013_01</td>\n",
       "      <td>False</td>\n",
       "    </tr>\n",
       "    <tr>\n",
       "      <th>1</th>\n",
       "      <td>0018_01</td>\n",
       "      <td>False</td>\n",
       "    </tr>\n",
       "    <tr>\n",
       "      <th>2</th>\n",
       "      <td>0019_01</td>\n",
       "      <td>True</td>\n",
       "    </tr>\n",
       "    <tr>\n",
       "      <th>3</th>\n",
       "      <td>0021_01</td>\n",
       "      <td>True</td>\n",
       "    </tr>\n",
       "    <tr>\n",
       "      <th>4</th>\n",
       "      <td>0023_01</td>\n",
       "      <td>False</td>\n",
       "    </tr>\n",
       "    <tr>\n",
       "      <th>...</th>\n",
       "      <td>...</td>\n",
       "      <td>...</td>\n",
       "    </tr>\n",
       "    <tr>\n",
       "      <th>4272</th>\n",
       "      <td>9266_02</td>\n",
       "      <td>True</td>\n",
       "    </tr>\n",
       "    <tr>\n",
       "      <th>4273</th>\n",
       "      <td>9269_01</td>\n",
       "      <td>True</td>\n",
       "    </tr>\n",
       "    <tr>\n",
       "      <th>4274</th>\n",
       "      <td>9271_01</td>\n",
       "      <td>True</td>\n",
       "    </tr>\n",
       "    <tr>\n",
       "      <th>4275</th>\n",
       "      <td>9273_01</td>\n",
       "      <td>True</td>\n",
       "    </tr>\n",
       "    <tr>\n",
       "      <th>4276</th>\n",
       "      <td>9277_01</td>\n",
       "      <td>True</td>\n",
       "    </tr>\n",
       "  </tbody>\n",
       "</table>\n",
       "<p>4277 rows × 2 columns</p>\n",
       "</div>"
      ],
      "text/plain": [
       "     PassengerId  Transported\n",
       "0        0013_01        False\n",
       "1        0018_01        False\n",
       "2        0019_01         True\n",
       "3        0021_01         True\n",
       "4        0023_01        False\n",
       "...          ...          ...\n",
       "4272     9266_02         True\n",
       "4273     9269_01         True\n",
       "4274     9271_01         True\n",
       "4275     9273_01         True\n",
       "4276     9277_01         True\n",
       "\n",
       "[4277 rows x 2 columns]"
      ]
     },
     "execution_count": 36,
     "metadata": {},
     "output_type": "execute_result"
    }
   ],
   "source": [
    "submit.to_csv(\"submission.csv\", index=False)\n",
    "submit"
   ]
  },
  {
   "cell_type": "code",
   "execution_count": 37,
   "id": "8c18e151",
   "metadata": {
    "execution": {
     "iopub.execute_input": "2022-07-17T21:03:12.284610Z",
     "iopub.status.busy": "2022-07-17T21:03:12.283930Z",
     "iopub.status.idle": "2022-07-17T21:03:12.414565Z",
     "shell.execute_reply": "2022-07-17T21:03:12.413391Z"
    },
    "papermill": {
     "duration": 0.168026,
     "end_time": "2022-07-17T21:03:12.417069",
     "exception": false,
     "start_time": "2022-07-17T21:03:12.249043",
     "status": "completed"
    },
    "tags": []
   },
   "outputs": [],
   "source": [
    "model.save(\"version10.keras\")"
   ]
  },
  {
   "cell_type": "code",
   "execution_count": null,
   "id": "dcdabe5d",
   "metadata": {
    "papermill": {
     "duration": 0.03381,
     "end_time": "2022-07-17T21:03:12.484309",
     "exception": false,
     "start_time": "2022-07-17T21:03:12.450499",
     "status": "completed"
    },
    "tags": []
   },
   "outputs": [],
   "source": []
  }
 ],
 "metadata": {
  "kernelspec": {
   "display_name": "Python 3",
   "language": "python",
   "name": "python3"
  },
  "language_info": {
   "codemirror_mode": {
    "name": "ipython",
    "version": 3
   },
   "file_extension": ".py",
   "mimetype": "text/x-python",
   "name": "python",
   "nbconvert_exporter": "python",
   "pygments_lexer": "ipython3",
   "version": "3.7.12"
  },
  "papermill": {
   "default_parameters": {},
   "duration": 207.613342,
   "end_time": "2022-07-17T21:03:15.405369",
   "environment_variables": {},
   "exception": null,
   "input_path": "__notebook__.ipynb",
   "output_path": "__notebook__.ipynb",
   "parameters": {},
   "start_time": "2022-07-17T20:59:47.792027",
   "version": "2.3.4"
  }
 },
 "nbformat": 4,
 "nbformat_minor": 5
}

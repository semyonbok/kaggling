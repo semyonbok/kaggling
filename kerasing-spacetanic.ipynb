{
 "cells": [
  {
   "cell_type": "code",
   "execution_count": 1,
   "id": "a1147cac",
   "metadata": {
    "_cell_guid": "b1076dfc-b9ad-4769-8c92-a6c4dae69d19",
    "_uuid": "8f2839f25d086af736a60e9eeb907d3b93b6e0e5",
    "execution": {
     "iopub.execute_input": "2022-07-17T13:36:48.533826Z",
     "iopub.status.busy": "2022-07-17T13:36:48.533402Z",
     "iopub.status.idle": "2022-07-17T13:36:48.547534Z",
     "shell.execute_reply": "2022-07-17T13:36:48.546359Z"
    },
    "papermill": {
     "duration": 0.027304,
     "end_time": "2022-07-17T13:36:48.551141",
     "exception": false,
     "start_time": "2022-07-17T13:36:48.523837",
     "status": "completed"
    },
    "tags": []
   },
   "outputs": [
    {
     "name": "stdout",
     "output_type": "stream",
     "text": [
      "/kaggle/input/spaceship-titanic/sample_submission.csv\n",
      "/kaggle/input/spaceship-titanic/train.csv\n",
      "/kaggle/input/spaceship-titanic/test.csv\n"
     ]
    }
   ],
   "source": [
    "# This Python 3 environment comes with many helpful analytics libraries installed\n",
    "# It is defined by the kaggle/python Docker image: https://github.com/kaggle/docker-python\n",
    "# For example, here's several helpful packages to load\n",
    "\n",
    "import numpy as np # linear algebra\n",
    "import pandas as pd # data processing, CSV file I/O (e.g. pd.read_csv)\n",
    "\n",
    "# Input data files are available in the read-only \"../input/\" directory\n",
    "# For example, running this (by clicking run or pressing Shift+Enter) will list all files under the input directory\n",
    "\n",
    "import os\n",
    "for dirname, _, filenames in os.walk('/kaggle/input'):\n",
    "    for filename in filenames:\n",
    "        print(os.path.join(dirname, filename))\n",
    "\n",
    "# You can write up to 20GB to the current directory (/kaggle/working/) that gets preserved as output when you create a version using \"Save & Run All\" \n",
    "# You can also write temporary files to /kaggle/temp/, but they won't be saved outside of the current session"
   ]
  },
  {
   "cell_type": "code",
   "execution_count": 2,
   "id": "8d9ec537",
   "metadata": {
    "execution": {
     "iopub.execute_input": "2022-07-17T13:36:48.566582Z",
     "iopub.status.busy": "2022-07-17T13:36:48.566188Z",
     "iopub.status.idle": "2022-07-17T13:36:58.966076Z",
     "shell.execute_reply": "2022-07-17T13:36:58.964731Z"
    },
    "papermill": {
     "duration": 10.410503,
     "end_time": "2022-07-17T13:36:58.968943",
     "exception": false,
     "start_time": "2022-07-17T13:36:48.558440",
     "status": "completed"
    },
    "tags": []
   },
   "outputs": [],
   "source": [
    "import seaborn as sns\n",
    "from tensorflow import keras\n",
    "from sklearn.preprocessing import OrdinalEncoder, OneHotEncoder, StandardScaler, MinMaxScaler\n",
    "from sklearn.compose import make_column_selector, ColumnTransformer"
   ]
  },
  {
   "cell_type": "code",
   "execution_count": 3,
   "id": "9aaa744c",
   "metadata": {
    "execution": {
     "iopub.execute_input": "2022-07-17T13:36:58.984280Z",
     "iopub.status.busy": "2022-07-17T13:36:58.983607Z",
     "iopub.status.idle": "2022-07-17T13:36:59.091075Z",
     "shell.execute_reply": "2022-07-17T13:36:59.089424Z"
    },
    "papermill": {
     "duration": 0.118197,
     "end_time": "2022-07-17T13:36:59.093860",
     "exception": false,
     "start_time": "2022-07-17T13:36:58.975663",
     "status": "completed"
    },
    "tags": []
   },
   "outputs": [],
   "source": [
    "train_data = pd.read_csv(\"/kaggle/input/spaceship-titanic/train.csv\")\n",
    "train_data[\"Set\"] = \"Train\"\n",
    "\n",
    "train_target = train_data[\"Transported\"].astype(int)\n",
    "train_data.drop(columns=\"Transported\", inplace=True)\n",
    "\n",
    "test_data = pd.read_csv(\"/kaggle/input/spaceship-titanic/test.csv\")\n",
    "test_data[\"Set\"] = \"Test\"\n",
    "data = pd.concat([train_data, test_data], axis=0)"
   ]
  },
  {
   "cell_type": "code",
   "execution_count": 4,
   "id": "08a327f6",
   "metadata": {
    "execution": {
     "iopub.execute_input": "2022-07-17T13:36:59.109805Z",
     "iopub.status.busy": "2022-07-17T13:36:59.108551Z",
     "iopub.status.idle": "2022-07-17T13:36:59.150375Z",
     "shell.execute_reply": "2022-07-17T13:36:59.149062Z"
    },
    "papermill": {
     "duration": 0.052336,
     "end_time": "2022-07-17T13:36:59.152907",
     "exception": false,
     "start_time": "2022-07-17T13:36:59.100571",
     "status": "completed"
    },
    "tags": []
   },
   "outputs": [
    {
     "name": "stdout",
     "output_type": "stream",
     "text": [
      "0    [B, 0, P]\n",
      "1    [F, 0, S]\n",
      "2    [A, 0, S]\n",
      "3    [A, 0, S]\n",
      "4    [F, 1, S]\n",
      "5    [F, 0, P]\n",
      "6    [F, 2, S]\n",
      "7    [G, 0, S]\n",
      "8    [F, 3, S]\n",
      "9    [B, 1, P]\n",
      "Name: Cabin, dtype: object\n"
     ]
    },
    {
     "data": {
      "text/plain": [
       "count    12970.000000\n",
       "mean         2.953894\n",
       "std          0.300157\n",
       "min          1.000000\n",
       "25%          3.000000\n",
       "50%          3.000000\n",
       "75%          3.000000\n",
       "max          3.000000\n",
       "Name: Cabin, dtype: float64"
      ]
     },
     "execution_count": 4,
     "metadata": {},
     "output_type": "execute_result"
    }
   ],
   "source": [
    "print(data[\"Cabin\"].str.split(\"/\")[:10])\n",
    "data.Cabin.apply(lambda x: len(str(x).split(\"/\"))).describe()"
   ]
  },
  {
   "cell_type": "code",
   "execution_count": 5,
   "id": "960d800f",
   "metadata": {
    "execution": {
     "iopub.execute_input": "2022-07-17T13:36:59.169904Z",
     "iopub.status.busy": "2022-07-17T13:36:59.169557Z",
     "iopub.status.idle": "2022-07-17T13:36:59.214371Z",
     "shell.execute_reply": "2022-07-17T13:36:59.212636Z"
    },
    "papermill": {
     "duration": 0.056483,
     "end_time": "2022-07-17T13:36:59.217096",
     "exception": false,
     "start_time": "2022-07-17T13:36:59.160613",
     "status": "completed"
    },
    "tags": []
   },
   "outputs": [],
   "source": [
    "new_cabin_features = pd.DataFrame(\n",
    "    np.concatenate(\n",
    "        data[data[\"Cabin\"].notnull()][\"Cabin\"].apply(\n",
    "            lambda x: str(x).split(\"/\")).values, axis=0\n",
    "    ).reshape(-1, 3),\n",
    "    columns = [f\"Cabin_F_{x}\" for x in range(3)]\n",
    ")"
   ]
  },
  {
   "cell_type": "code",
   "execution_count": 6,
   "id": "60876cd4",
   "metadata": {
    "execution": {
     "iopub.execute_input": "2022-07-17T13:36:59.233738Z",
     "iopub.status.busy": "2022-07-17T13:36:59.233341Z",
     "iopub.status.idle": "2022-07-17T13:36:59.250002Z",
     "shell.execute_reply": "2022-07-17T13:36:59.248115Z"
    },
    "papermill": {
     "duration": 0.027657,
     "end_time": "2022-07-17T13:36:59.252182",
     "exception": false,
     "start_time": "2022-07-17T13:36:59.224525",
     "status": "completed"
    },
    "tags": []
   },
   "outputs": [
    {
     "name": "stdout",
     "output_type": "stream",
     "text": [
      "      Cabin_F_0 Cabin_F_1 Cabin_F_2\n",
      "9717          F       548         P\n",
      "4626          E       314         P\n",
      "12376         F      1672         S\n",
      "1824          G       318         S\n",
      "10531         F       923         P\n"
     ]
    }
   ],
   "source": [
    "print(new_cabin_features.sample(5))\n",
    "new_cabin_features[\"Cabin_F_1\"] = new_cabin_features[\"Cabin_F_1\"].astype(float)"
   ]
  },
  {
   "cell_type": "code",
   "execution_count": 7,
   "id": "578ddd3e",
   "metadata": {
    "execution": {
     "iopub.execute_input": "2022-07-17T13:36:59.268950Z",
     "iopub.status.busy": "2022-07-17T13:36:59.268041Z",
     "iopub.status.idle": "2022-07-17T13:36:59.307291Z",
     "shell.execute_reply": "2022-07-17T13:36:59.306120Z"
    },
    "papermill": {
     "duration": 0.050483,
     "end_time": "2022-07-17T13:36:59.309824",
     "exception": false,
     "start_time": "2022-07-17T13:36:59.259341",
     "status": "completed"
    },
    "tags": []
   },
   "outputs": [],
   "source": [
    "new_id_features = pd.DataFrame(\n",
    "    np.concatenate(\n",
    "        data[data[\"PassengerId\"].notnull()][\"PassengerId\"].apply(\n",
    "            lambda x: str(x).split(\"_\")).values, axis=0\n",
    "    ).reshape(-1, 2),\n",
    "    columns = [f\"Id_F_{x}\" for x in range(2)]\n",
    ")"
   ]
  },
  {
   "cell_type": "code",
   "execution_count": 8,
   "id": "546fcbdd",
   "metadata": {
    "execution": {
     "iopub.execute_input": "2022-07-17T13:36:59.326146Z",
     "iopub.status.busy": "2022-07-17T13:36:59.325088Z",
     "iopub.status.idle": "2022-07-17T13:36:59.339115Z",
     "shell.execute_reply": "2022-07-17T13:36:59.337762Z"
    },
    "papermill": {
     "duration": 0.025215,
     "end_time": "2022-07-17T13:36:59.341931",
     "exception": false,
     "start_time": "2022-07-17T13:36:59.316716",
     "status": "completed"
    },
    "tags": []
   },
   "outputs": [
    {
     "name": "stdout",
     "output_type": "stream",
     "text": [
      "01    9280\n",
      "02    2135\n",
      "03     840\n",
      "04     338\n",
      "05     184\n",
      "06     108\n",
      "07      66\n",
      "08      19\n",
      "Name: Id_F_1, dtype: int64\n"
     ]
    }
   ],
   "source": [
    "print(new_id_features.Id_F_1.value_counts())\n",
    "new_id_features[\"Id_F_0\"] = new_id_features[\"Id_F_0\"].astype(float)"
   ]
  },
  {
   "cell_type": "code",
   "execution_count": 9,
   "id": "3cbe3365",
   "metadata": {
    "execution": {
     "iopub.execute_input": "2022-07-17T13:36:59.357391Z",
     "iopub.status.busy": "2022-07-17T13:36:59.357018Z",
     "iopub.status.idle": "2022-07-17T13:36:59.382689Z",
     "shell.execute_reply": "2022-07-17T13:36:59.381253Z"
    },
    "papermill": {
     "duration": 0.037022,
     "end_time": "2022-07-17T13:36:59.386097",
     "exception": false,
     "start_time": "2022-07-17T13:36:59.349075",
     "status": "completed"
    },
    "tags": []
   },
   "outputs": [],
   "source": [
    "data[new_cabin_features.columns] = np.nan\n",
    "data.loc[data[\"Cabin\"].notnull(), new_cabin_features.columns] = new_cabin_features\n",
    "data.drop(columns=\"Cabin\", inplace=True)"
   ]
  },
  {
   "cell_type": "code",
   "execution_count": 10,
   "id": "886fdba4",
   "metadata": {
    "execution": {
     "iopub.execute_input": "2022-07-17T13:36:59.402108Z",
     "iopub.status.busy": "2022-07-17T13:36:59.401439Z",
     "iopub.status.idle": "2022-07-17T13:36:59.416157Z",
     "shell.execute_reply": "2022-07-17T13:36:59.415229Z"
    },
    "papermill": {
     "duration": 0.025156,
     "end_time": "2022-07-17T13:36:59.418493",
     "exception": false,
     "start_time": "2022-07-17T13:36:59.393337",
     "status": "completed"
    },
    "tags": []
   },
   "outputs": [],
   "source": [
    "data[new_id_features.columns] = new_id_features\n",
    "data.drop(columns=[\"Name\", \"PassengerId\"], inplace=True)"
   ]
  },
  {
   "cell_type": "code",
   "execution_count": 11,
   "id": "5f5f564b",
   "metadata": {
    "execution": {
     "iopub.execute_input": "2022-07-17T13:36:59.434663Z",
     "iopub.status.busy": "2022-07-17T13:36:59.434165Z",
     "iopub.status.idle": "2022-07-17T13:36:59.456566Z",
     "shell.execute_reply": "2022-07-17T13:36:59.455423Z"
    },
    "papermill": {
     "duration": 0.033021,
     "end_time": "2022-07-17T13:36:59.458861",
     "exception": false,
     "start_time": "2022-07-17T13:36:59.425840",
     "status": "completed"
    },
    "tags": []
   },
   "outputs": [
    {
     "name": "stdout",
     "output_type": "stream",
     "text": [
      "<class 'pandas.core.frame.DataFrame'>\n",
      "Int64Index: 12970 entries, 0 to 4276\n",
      "Data columns (total 16 columns):\n",
      " #   Column        Non-Null Count  Dtype  \n",
      "---  ------        --------------  -----  \n",
      " 0   HomePlanet    12682 non-null  object \n",
      " 1   CryoSleep     12660 non-null  object \n",
      " 2   Destination   12696 non-null  object \n",
      " 3   Age           12700 non-null  float64\n",
      " 4   VIP           12674 non-null  object \n",
      " 5   RoomService   12707 non-null  float64\n",
      " 6   FoodCourt     12681 non-null  float64\n",
      " 7   ShoppingMall  12664 non-null  float64\n",
      " 8   Spa           12686 non-null  float64\n",
      " 9   VRDeck        12702 non-null  float64\n",
      " 10  Set           12970 non-null  object \n",
      " 11  Cabin_F_0     12671 non-null  object \n",
      " 12  Cabin_F_1     12671 non-null  float64\n",
      " 13  Cabin_F_2     12671 non-null  object \n",
      " 14  Id_F_0        12970 non-null  float64\n",
      " 15  Id_F_1        12970 non-null  object \n",
      "dtypes: float64(8), object(8)\n",
      "memory usage: 1.7+ MB\n"
     ]
    }
   ],
   "source": [
    "data.info()"
   ]
  },
  {
   "cell_type": "code",
   "execution_count": 12,
   "id": "20a39e2f",
   "metadata": {
    "execution": {
     "iopub.execute_input": "2022-07-17T13:36:59.475693Z",
     "iopub.status.busy": "2022-07-17T13:36:59.474517Z",
     "iopub.status.idle": "2022-07-17T13:36:59.481258Z",
     "shell.execute_reply": "2022-07-17T13:36:59.480358Z"
    },
    "papermill": {
     "duration": 0.017392,
     "end_time": "2022-07-17T13:36:59.483734",
     "exception": false,
     "start_time": "2022-07-17T13:36:59.466342",
     "status": "completed"
    },
    "tags": []
   },
   "outputs": [],
   "source": [
    "cat_encoder = OneHotEncoder(\n",
    "#     handle_unknown=\"use_encoded_value\",  # for ordinal encoder\n",
    "#     unknown_value=-1\n",
    "    ) \n",
    "cat_selector = make_column_selector(\n",
    "    dtype_exclude=float\n",
    "    )\n",
    "\n",
    "float_encoder = StandardScaler()\n",
    "float_selector = make_column_selector(\n",
    "    dtype_include=float\n",
    "    )\n",
    "\n",
    "transofrmer = ColumnTransformer(\n",
    "    [(\"categorical\", cat_encoder, cat_selector),\n",
    "    (\"float\", float_encoder, float_selector)],\n",
    "    remainder=\"passthrough\"\n",
    "    )"
   ]
  },
  {
   "cell_type": "code",
   "execution_count": 13,
   "id": "436dac52",
   "metadata": {
    "execution": {
     "iopub.execute_input": "2022-07-17T13:36:59.500650Z",
     "iopub.status.busy": "2022-07-17T13:36:59.499509Z",
     "iopub.status.idle": "2022-07-17T13:36:59.536833Z",
     "shell.execute_reply": "2022-07-17T13:36:59.535701Z"
    },
    "papermill": {
     "duration": 0.048451,
     "end_time": "2022-07-17T13:36:59.539371",
     "exception": false,
     "start_time": "2022-07-17T13:36:59.490920",
     "status": "completed"
    },
    "tags": []
   },
   "outputs": [],
   "source": [
    "# fill missing categorical data with the most frequent entry\n",
    "for col in cat_selector(data):\n",
    "    data.loc[data[col].isnull(), col] =\\\n",
    "    data.loc[data[col].notnull(), col].mode().values[0]#= value_counts().index[0]"
   ]
  },
  {
   "cell_type": "code",
   "execution_count": 14,
   "id": "a6c29ce8",
   "metadata": {
    "execution": {
     "iopub.execute_input": "2022-07-17T13:36:59.557442Z",
     "iopub.status.busy": "2022-07-17T13:36:59.556707Z",
     "iopub.status.idle": "2022-07-17T13:36:59.619250Z",
     "shell.execute_reply": "2022-07-17T13:36:59.618041Z"
    },
    "papermill": {
     "duration": 0.075155,
     "end_time": "2022-07-17T13:36:59.621846",
     "exception": false,
     "start_time": "2022-07-17T13:36:59.546691",
     "status": "completed"
    },
    "tags": []
   },
   "outputs": [
    {
     "data": {
      "text/plain": [
       "[('categorical',\n",
       "  OneHotEncoder(),\n",
       "  ['HomePlanet',\n",
       "   'CryoSleep',\n",
       "   'Destination',\n",
       "   'VIP',\n",
       "   'Set',\n",
       "   'Cabin_F_0',\n",
       "   'Cabin_F_2',\n",
       "   'Id_F_1']),\n",
       " ('float',\n",
       "  StandardScaler(),\n",
       "  ['Age',\n",
       "   'RoomService',\n",
       "   'FoodCourt',\n",
       "   'ShoppingMall',\n",
       "   'Spa',\n",
       "   'VRDeck',\n",
       "   'Cabin_F_1',\n",
       "   'Id_F_0'])]"
      ]
     },
     "execution_count": 14,
     "metadata": {},
     "output_type": "execute_result"
    }
   ],
   "source": [
    "transofrmer.fit(data)\n",
    "transofrmer.transformers_"
   ]
  },
  {
   "cell_type": "code",
   "execution_count": 15,
   "id": "f30dde80",
   "metadata": {
    "execution": {
     "iopub.execute_input": "2022-07-17T13:36:59.639115Z",
     "iopub.status.busy": "2022-07-17T13:36:59.638727Z",
     "iopub.status.idle": "2022-07-17T13:36:59.717685Z",
     "shell.execute_reply": "2022-07-17T13:36:59.716319Z"
    },
    "papermill": {
     "duration": 0.091437,
     "end_time": "2022-07-17T13:36:59.721026",
     "exception": false,
     "start_time": "2022-07-17T13:36:59.629589",
     "status": "completed"
    },
    "tags": []
   },
   "outputs": [
    {
     "name": "stdout",
     "output_type": "stream",
     "text": [
      "<class 'pandas.core.frame.DataFrame'>\n",
      "RangeIndex: 12970 entries, 0 to 12969\n",
      "Data columns (total 38 columns):\n",
      " #   Column                     Non-Null Count  Dtype  \n",
      "---  ------                     --------------  -----  \n",
      " 0   HomePlanet_Earth           12970 non-null  float64\n",
      " 1   HomePlanet_Europa          12970 non-null  float64\n",
      " 2   HomePlanet_Mars            12970 non-null  float64\n",
      " 3   CryoSleep_False            12970 non-null  float64\n",
      " 4   CryoSleep_True             12970 non-null  float64\n",
      " 5   Destination_55 Cancri e    12970 non-null  float64\n",
      " 6   Destination_PSO J318.5-22  12970 non-null  float64\n",
      " 7   Destination_TRAPPIST-1e    12970 non-null  float64\n",
      " 8   VIP_False                  12970 non-null  float64\n",
      " 9   VIP_True                   12970 non-null  float64\n",
      " 10  Set_Test                   12970 non-null  float64\n",
      " 11  Set_Train                  12970 non-null  float64\n",
      " 12  Cabin_F_0_A                12970 non-null  float64\n",
      " 13  Cabin_F_0_B                12970 non-null  float64\n",
      " 14  Cabin_F_0_C                12970 non-null  float64\n",
      " 15  Cabin_F_0_D                12970 non-null  float64\n",
      " 16  Cabin_F_0_E                12970 non-null  float64\n",
      " 17  Cabin_F_0_F                12970 non-null  float64\n",
      " 18  Cabin_F_0_G                12970 non-null  float64\n",
      " 19  Cabin_F_0_T                12970 non-null  float64\n",
      " 20  Cabin_F_2_P                12970 non-null  float64\n",
      " 21  Cabin_F_2_S                12970 non-null  float64\n",
      " 22  Id_F_1_01                  12970 non-null  float64\n",
      " 23  Id_F_1_02                  12970 non-null  float64\n",
      " 24  Id_F_1_03                  12970 non-null  float64\n",
      " 25  Id_F_1_04                  12970 non-null  float64\n",
      " 26  Id_F_1_05                  12970 non-null  float64\n",
      " 27  Id_F_1_06                  12970 non-null  float64\n",
      " 28  Id_F_1_07                  12970 non-null  float64\n",
      " 29  Id_F_1_08                  12970 non-null  float64\n",
      " 30  Age                        12970 non-null  float64\n",
      " 31  RoomService                12970 non-null  float64\n",
      " 32  FoodCourt                  12970 non-null  float64\n",
      " 33  ShoppingMall               12970 non-null  float64\n",
      " 34  Spa                        12970 non-null  float64\n",
      " 35  VRDeck                     12970 non-null  float64\n",
      " 36  Cabin_F_1                  12970 non-null  float64\n",
      " 37  Id_F_0                     12970 non-null  float64\n",
      "dtypes: float64(38)\n",
      "memory usage: 3.8 MB\n"
     ]
    }
   ],
   "source": [
    "processed_data = pd.DataFrame(\n",
    "    transofrmer.transform(data),\n",
    "#     columns = transofrmer.transformers_[0][-1] + \\  # for ordinal encoder\n",
    "#     transofrmer.transformers_[1][-1]\n",
    "    columns = np.hstack(\n",
    "        (transofrmer.transformers_[0][1].get_feature_names_out(),\n",
    "         transofrmer.transformers_[1][-1]))\n",
    ")\n",
    "\n",
    "# processed_data.loc[:, transofrmer.transformers_[0][-1]] =\\\n",
    "# processed_data.loc[:, transofrmer.transformers_[0][-1]].fillna(-1)\n",
    "processed_data.loc[:, transofrmer.transformers_[0][1].get_feature_names_out()] =\\\n",
    "processed_data.loc[:, transofrmer.transformers_[0][1].get_feature_names_out()].fillna(-1)\n",
    "\n",
    "processed_data.loc[:, transofrmer.transformers_[1][-1]] =\\\n",
    "processed_data.loc[:, transofrmer.transformers_[1][-1]].fillna(0)\n",
    "\n",
    "processed_data.info()"
   ]
  },
  {
   "cell_type": "code",
   "execution_count": 16,
   "id": "41789569",
   "metadata": {
    "execution": {
     "iopub.execute_input": "2022-07-17T13:36:59.737678Z",
     "iopub.status.busy": "2022-07-17T13:36:59.737254Z",
     "iopub.status.idle": "2022-07-17T13:36:59.750373Z",
     "shell.execute_reply": "2022-07-17T13:36:59.748208Z"
    },
    "papermill": {
     "duration": 0.023751,
     "end_time": "2022-07-17T13:36:59.752671",
     "exception": false,
     "start_time": "2022-07-17T13:36:59.728920",
     "status": "completed"
    },
    "tags": []
   },
   "outputs": [
    {
     "data": {
      "text/plain": [
       "1.0    8693\n",
       "0.0    4277\n",
       "Name: Set_Train, dtype: int64"
      ]
     },
     "execution_count": 16,
     "metadata": {},
     "output_type": "execute_result"
    }
   ],
   "source": [
    "processed_data.Set_Train.value_counts()"
   ]
  },
  {
   "cell_type": "code",
   "execution_count": 17,
   "id": "d785761b",
   "metadata": {
    "execution": {
     "iopub.execute_input": "2022-07-17T13:36:59.770524Z",
     "iopub.status.busy": "2022-07-17T13:36:59.770105Z",
     "iopub.status.idle": "2022-07-17T13:36:59.784472Z",
     "shell.execute_reply": "2022-07-17T13:36:59.783073Z"
    },
    "papermill": {
     "duration": 0.026326,
     "end_time": "2022-07-17T13:36:59.786906",
     "exception": false,
     "start_time": "2022-07-17T13:36:59.760580",
     "status": "completed"
    },
    "tags": []
   },
   "outputs": [],
   "source": [
    "# train_data = processed_data.loc[processed_data[\"Set\"] > 0].copy()\n",
    "# train_data.drop(columns=[\"Set\", \"Id_F_0\",\"Transported\"], inplace=True)\n",
    "# test_data = processed_data.loc[processed_data[\"Set\"] <= 0].copy()\n",
    "# test_data.drop(columns=[\"Set\", \"Id_F_0\",\"Transported\"], inplace=True)\n",
    "\n",
    "train_data = processed_data.loc[processed_data[\"Set_Train\"] > 0].copy()\n",
    "train_data.drop(\n",
    "    columns=[\"Set_Train\", \"Set_Test\", \"Id_F_0\"],\n",
    "    inplace=True)\n",
    "test_data = processed_data.loc[processed_data[\"Set_Test\"] > 0].copy()\n",
    "test_data.drop(\n",
    "    columns=[\"Set_Train\", \"Set_Test\", \"Id_F_0\"],\n",
    "    inplace=True)"
   ]
  },
  {
   "cell_type": "code",
   "execution_count": 18,
   "id": "327c2275",
   "metadata": {
    "execution": {
     "iopub.execute_input": "2022-07-17T13:36:59.804828Z",
     "iopub.status.busy": "2022-07-17T13:36:59.804425Z",
     "iopub.status.idle": "2022-07-17T13:37:03.888197Z",
     "shell.execute_reply": "2022-07-17T13:37:03.887111Z"
    },
    "papermill": {
     "duration": 4.095537,
     "end_time": "2022-07-17T13:37:03.890480",
     "exception": false,
     "start_time": "2022-07-17T13:36:59.794943",
     "status": "completed"
    },
    "tags": []
   },
   "outputs": [
    {
     "data": {
      "text/plain": [
       "array([[<AxesSubplot:title={'center':'HomePlanet_Earth'}>,\n",
       "        <AxesSubplot:title={'center':'HomePlanet_Europa'}>,\n",
       "        <AxesSubplot:title={'center':'HomePlanet_Mars'}>,\n",
       "        <AxesSubplot:title={'center':'CryoSleep_False'}>,\n",
       "        <AxesSubplot:title={'center':'CryoSleep_True'}>,\n",
       "        <AxesSubplot:title={'center':'Destination_55 Cancri e'}>],\n",
       "       [<AxesSubplot:title={'center':'Destination_PSO J318.5-22'}>,\n",
       "        <AxesSubplot:title={'center':'Destination_TRAPPIST-1e'}>,\n",
       "        <AxesSubplot:title={'center':'VIP_False'}>,\n",
       "        <AxesSubplot:title={'center':'VIP_True'}>,\n",
       "        <AxesSubplot:title={'center':'Cabin_F_0_A'}>,\n",
       "        <AxesSubplot:title={'center':'Cabin_F_0_B'}>],\n",
       "       [<AxesSubplot:title={'center':'Cabin_F_0_C'}>,\n",
       "        <AxesSubplot:title={'center':'Cabin_F_0_D'}>,\n",
       "        <AxesSubplot:title={'center':'Cabin_F_0_E'}>,\n",
       "        <AxesSubplot:title={'center':'Cabin_F_0_F'}>,\n",
       "        <AxesSubplot:title={'center':'Cabin_F_0_G'}>,\n",
       "        <AxesSubplot:title={'center':'Cabin_F_0_T'}>],\n",
       "       [<AxesSubplot:title={'center':'Cabin_F_2_P'}>,\n",
       "        <AxesSubplot:title={'center':'Cabin_F_2_S'}>,\n",
       "        <AxesSubplot:title={'center':'Id_F_1_01'}>,\n",
       "        <AxesSubplot:title={'center':'Id_F_1_02'}>,\n",
       "        <AxesSubplot:title={'center':'Id_F_1_03'}>,\n",
       "        <AxesSubplot:title={'center':'Id_F_1_04'}>],\n",
       "       [<AxesSubplot:title={'center':'Id_F_1_05'}>,\n",
       "        <AxesSubplot:title={'center':'Id_F_1_06'}>,\n",
       "        <AxesSubplot:title={'center':'Id_F_1_07'}>,\n",
       "        <AxesSubplot:title={'center':'Id_F_1_08'}>,\n",
       "        <AxesSubplot:title={'center':'Age'}>,\n",
       "        <AxesSubplot:title={'center':'RoomService'}>],\n",
       "       [<AxesSubplot:title={'center':'FoodCourt'}>,\n",
       "        <AxesSubplot:title={'center':'ShoppingMall'}>,\n",
       "        <AxesSubplot:title={'center':'Spa'}>,\n",
       "        <AxesSubplot:title={'center':'VRDeck'}>,\n",
       "        <AxesSubplot:title={'center':'Cabin_F_1'}>, <AxesSubplot:>]],\n",
       "      dtype=object)"
      ]
     },
     "execution_count": 18,
     "metadata": {},
     "output_type": "execute_result"
    },
    {
     "data": {
      "image/png": "[encoded data removed]",
      "text/plain": [
       "<Figure size 2160x1080 with 36 Axes>"
      ]
     },
     "metadata": {
      "needs_background": "light"
     },
     "output_type": "display_data"
    }
   ],
   "source": [
    "train_data.hist(figsize=(30,15))"
   ]
  },
  {
   "cell_type": "code",
   "execution_count": 19,
   "id": "173377d3",
   "metadata": {
    "execution": {
     "iopub.execute_input": "2022-07-17T13:37:03.910248Z",
     "iopub.status.busy": "2022-07-17T13:37:03.909492Z",
     "iopub.status.idle": "2022-07-17T13:37:05.262515Z",
     "shell.execute_reply": "2022-07-17T13:37:05.261119Z"
    },
    "papermill": {
     "duration": 1.365542,
     "end_time": "2022-07-17T13:37:05.265007",
     "exception": false,
     "start_time": "2022-07-17T13:37:03.899465",
     "status": "completed"
    },
    "tags": []
   },
   "outputs": [
    {
     "name": "stderr",
     "output_type": "stream",
     "text": [
      "2022-07-17 13:37:05.108416: I tensorflow/core/common_runtime/process_util.cc:146] Creating new thread pool with default inter op setting: 2. Tune using inter_op_parallelism_threads for best performance.\n"
     ]
    }
   ],
   "source": [
    "passengers = keras.Input(shape=(train_data.shape[1],), name=\"passenger\")\n",
    "\n",
    "mid_layers = keras.layers.Dense(2048,\n",
    "                                kernel_regularizer= keras.regularizers.l2(0.001),\n",
    "                                activation=\"relu\")(passengers)\n",
    "mid_layers = keras.layers.Dropout(0.2)(mid_layers)\n",
    "\n",
    "mid_layers = keras.layers.Dense(2048,\n",
    "                                kernel_regularizer= keras.regularizers.l2(0.001),\n",
    "                                activation=\"relu\")(mid_layers)\n",
    "mid_layers = keras.layers.Dropout(0.2)(mid_layers)\n",
    "\n",
    "mid_layers = keras.layers.Dense(2048,\n",
    "                                kernel_regularizer= keras.regularizers.l2(0.001),\n",
    "                                activation=\"relu\")(mid_layers)\n",
    "mid_layers = keras.layers.Dropout(0.2)(mid_layers)\n",
    "\n",
    "# mid_layers = keras.layers.Dense(1024,\n",
    "#                                 kernel_regularizer= keras.regularizers.l2(0.001),\n",
    "#                                 activation=\"relu\")(mid_layers)\n",
    "# mid_layers = keras.layers.Dropout(0.2)(mid_layers)\n",
    "\n",
    "vitals = keras.layers.Dense(1, activation=\"sigmoid\", name=\"vitals\")(mid_layers)"
   ]
  },
  {
   "cell_type": "code",
   "execution_count": 20,
   "id": "2c53cfd1",
   "metadata": {
    "execution": {
     "iopub.execute_input": "2022-07-17T13:37:05.285974Z",
     "iopub.status.busy": "2022-07-17T13:37:05.284996Z",
     "iopub.status.idle": "2022-07-17T13:37:05.291548Z",
     "shell.execute_reply": "2022-07-17T13:37:05.290356Z"
    },
    "papermill": {
     "duration": 0.019649,
     "end_time": "2022-07-17T13:37:05.293907",
     "exception": false,
     "start_time": "2022-07-17T13:37:05.274258",
     "status": "completed"
    },
    "tags": []
   },
   "outputs": [],
   "source": [
    "# model = keras.Model(inputs=passengers, outputs=vitals)\n",
    "# model.compile(optimizer=keras.optimizers.RMSprop(5e-4),\n",
    "#               loss=\"BinaryCrossentropy\",\n",
    "#               metrics=[\"accuracy\"])"
   ]
  },
  {
   "cell_type": "code",
   "execution_count": 21,
   "id": "56f71200",
   "metadata": {
    "execution": {
     "iopub.execute_input": "2022-07-17T13:37:05.315669Z",
     "iopub.status.busy": "2022-07-17T13:37:05.314829Z",
     "iopub.status.idle": "2022-07-17T13:40:07.786370Z",
     "shell.execute_reply": "2022-07-17T13:40:07.784986Z"
    },
    "papermill": {
     "duration": 182.485943,
     "end_time": "2022-07-17T13:40:07.788992",
     "exception": false,
     "start_time": "2022-07-17T13:37:05.303049",
     "status": "completed"
    },
    "tags": []
   },
   "outputs": [
    {
     "name": "stdout",
     "output_type": "stream",
     "text": [
      "Training at 0.00100 rate\n",
      "\n",
      "Epoch 1/20\n"
     ]
    },
    {
     "name": "stderr",
     "output_type": "stream",
     "text": [
      "2022-07-17 13:37:05.442874: I tensorflow/compiler/mlir/mlir_graph_optimization_pass.cc:185] None of the MLIR Optimization Passes are enabled (registered 2)\n"
     ]
    },
    {
     "name": "stdout",
     "output_type": "stream",
     "text": [
      "2/2 [==============================] - 5s 1s/step - loss: 4.5885 - accuracy: 0.5668 - val_loss: 15.2227 - val_accuracy: 0.4793\n",
      "Epoch 2/20\n",
      "2/2 [==============================] - 3s 1s/step - loss: 10.3287 - accuracy: 0.5117 - val_loss: 3.3966 - val_accuracy: 0.5271\n",
      "Epoch 3/20\n",
      "2/2 [==============================] - 3s 1s/step - loss: 3.3260 - accuracy: 0.5622 - val_loss: 2.9431 - val_accuracy: 0.7921\n",
      "Epoch 4/20\n",
      "2/2 [==============================] - 3s 1s/step - loss: 2.9109 - accuracy: 0.7474 - val_loss: 2.7380 - val_accuracy: 0.7456\n",
      "Epoch 5/20\n",
      "2/2 [==============================] - 3s 1s/step - loss: 2.8145 - accuracy: 0.6679 - val_loss: 2.5092 - val_accuracy: 0.7263\n",
      "Epoch 6/20\n",
      "2/2 [==============================] - 3s 1s/step - loss: 2.4513 - accuracy: 0.7731 - val_loss: 2.2726 - val_accuracy: 0.7852\n",
      "Epoch 7/20\n",
      "2/2 [==============================] - 3s 1s/step - loss: 2.2511 - accuracy: 0.7851 - val_loss: 2.1178 - val_accuracy: 0.7792\n",
      "Epoch 8/20\n",
      "2/2 [==============================] - 3s 1s/step - loss: 2.0890 - accuracy: 0.7866 - val_loss: 1.9979 - val_accuracy: 0.7677\n",
      "Epoch 9/20\n",
      "2/2 [==============================] - 3s 1s/step - loss: 1.9498 - accuracy: 0.7882 - val_loss: 1.8660 - val_accuracy: 0.7723\n",
      "Epoch 10/20\n",
      "2/2 [==============================] - 3s 1s/step - loss: 1.8318 - accuracy: 0.7826 - val_loss: 1.8621 - val_accuracy: 0.6835\n",
      "Epoch 11/20\n",
      "2/2 [==============================] - 3s 1s/step - loss: 1.7715 - accuracy: 0.7470 - val_loss: 1.7666 - val_accuracy: 0.6739\n",
      "Epoch 12/20\n",
      "2/2 [==============================] - 3s 1s/step - loss: 1.6556 - accuracy: 0.7547 - val_loss: 1.5517 - val_accuracy: 0.7755\n",
      "Epoch 13/20\n",
      "2/2 [==============================] - 3s 1s/step - loss: 1.5193 - accuracy: 0.7921 - val_loss: 1.4671 - val_accuracy: 0.7787\n",
      "Epoch 14/20\n",
      "2/2 [==============================] - 3s 1s/step - loss: 1.4326 - accuracy: 0.7898 - val_loss: 1.4331 - val_accuracy: 0.7479\n",
      "Epoch 15/20\n",
      "2/2 [==============================] - 3s 1s/step - loss: 1.3793 - accuracy: 0.7730 - val_loss: 1.4615 - val_accuracy: 0.6776\n",
      "Epoch 16/20\n",
      "2/2 [==============================] - 3s 1s/step - loss: 1.3433 - accuracy: 0.7501 - val_loss: 1.2877 - val_accuracy: 0.7479\n",
      "Epoch 17/20\n",
      "2/2 [==============================] - 3s 2s/step - loss: 1.2291 - accuracy: 0.7837 - val_loss: 1.1967 - val_accuracy: 0.7732\n",
      "Epoch 18/20\n",
      "2/2 [==============================] - 3s 1s/step - loss: 1.1555 - accuracy: 0.7938 - val_loss: 1.1197 - val_accuracy: 0.7870\n",
      "Epoch 19/20\n",
      "2/2 [==============================] - 3s 1s/step - loss: 1.0992 - accuracy: 0.7931 - val_loss: 1.1157 - val_accuracy: 0.7571\n",
      "Epoch 20/20\n",
      "2/2 [==============================] - 3s 1s/step - loss: 1.0617 - accuracy: 0.7842 - val_loss: 1.1944 - val_accuracy: 0.6776\n",
      "\n",
      "Training at 0.00010 rate\n",
      "\n",
      "Epoch 1/20\n",
      "2/2 [==============================] - 4s 1s/step - loss: 1.0714 - accuracy: 0.7572 - val_loss: 1.0278 - val_accuracy: 0.7585\n",
      "Epoch 2/20\n",
      "2/2 [==============================] - 3s 1s/step - loss: 0.9900 - accuracy: 0.7932 - val_loss: 0.9883 - val_accuracy: 0.7764\n",
      "Epoch 3/20\n",
      "2/2 [==============================] - 3s 1s/step - loss: 0.9640 - accuracy: 0.7994 - val_loss: 0.9609 - val_accuracy: 0.7879\n",
      "Epoch 4/20\n",
      "2/2 [==============================] - 3s 1s/step - loss: 0.9474 - accuracy: 0.7971 - val_loss: 0.9513 - val_accuracy: 0.7847\n",
      "Epoch 5/20\n",
      "2/2 [==============================] - 3s 1s/step - loss: 0.9334 - accuracy: 0.7980 - val_loss: 0.9416 - val_accuracy: 0.7838\n",
      "Epoch 6/20\n",
      "2/2 [==============================] - 3s 1s/step - loss: 0.9212 - accuracy: 0.7972 - val_loss: 0.9347 - val_accuracy: 0.7820\n",
      "Epoch 7/20\n",
      "2/2 [==============================] - 3s 1s/step - loss: 0.9093 - accuracy: 0.7954 - val_loss: 0.9145 - val_accuracy: 0.7889\n",
      "Epoch 8/20\n",
      "2/2 [==============================] - 3s 2s/step - loss: 0.8973 - accuracy: 0.7981 - val_loss: 0.9058 - val_accuracy: 0.7879\n",
      "Epoch 9/20\n",
      "2/2 [==============================] - 3s 1s/step - loss: 0.8874 - accuracy: 0.7981 - val_loss: 0.8919 - val_accuracy: 0.7921\n",
      "Epoch 10/20\n",
      "2/2 [==============================] - 3s 1s/step - loss: 0.8777 - accuracy: 0.7994 - val_loss: 0.8880 - val_accuracy: 0.7884\n",
      "Epoch 11/20\n",
      "2/2 [==============================] - 3s 1s/step - loss: 0.8662 - accuracy: 0.7992 - val_loss: 0.8741 - val_accuracy: 0.7898\n",
      "Epoch 12/20\n",
      "2/2 [==============================] - 3s 1s/step - loss: 0.8576 - accuracy: 0.8015 - val_loss: 0.8594 - val_accuracy: 0.7916\n",
      "Epoch 13/20\n",
      "2/2 [==============================] - 3s 1s/step - loss: 0.8497 - accuracy: 0.7944 - val_loss: 0.8538 - val_accuracy: 0.7893\n",
      "Epoch 14/20\n",
      "2/2 [==============================] - 3s 1s/step - loss: 0.8400 - accuracy: 0.7978 - val_loss: 0.8449 - val_accuracy: 0.7898\n",
      "Epoch 15/20\n",
      "2/2 [==============================] - 3s 1s/step - loss: 0.8311 - accuracy: 0.8001 - val_loss: 0.8405 - val_accuracy: 0.7893\n",
      "Epoch 16/20\n",
      "2/2 [==============================] - 3s 1s/step - loss: 0.8205 - accuracy: 0.8020 - val_loss: 0.8363 - val_accuracy: 0.7870\n",
      "Epoch 17/20\n",
      "2/2 [==============================] - 3s 1s/step - loss: 0.8130 - accuracy: 0.8027 - val_loss: 0.8394 - val_accuracy: 0.7810\n",
      "Epoch 18/20\n",
      "2/2 [==============================] - 3s 1s/step - loss: 0.8045 - accuracy: 0.8021 - val_loss: 0.8319 - val_accuracy: 0.7806\n",
      "Epoch 19/20\n",
      "2/2 [==============================] - 3s 1s/step - loss: 0.7975 - accuracy: 0.8007 - val_loss: 0.8250 - val_accuracy: 0.7787\n",
      "Epoch 20/20\n",
      "2/2 [==============================] - 3s 1s/step - loss: 0.7905 - accuracy: 0.7975 - val_loss: 0.8252 - val_accuracy: 0.7769\n",
      "\n",
      "Training at 0.00005 rate\n",
      "\n",
      "Epoch 1/20\n",
      "2/2 [==============================] - 4s 1s/step - loss: 0.7828 - accuracy: 0.7995 - val_loss: 0.8049 - val_accuracy: 0.7829\n",
      "Epoch 2/20\n",
      "2/2 [==============================] - 3s 1s/step - loss: 0.7719 - accuracy: 0.8018 - val_loss: 0.8010 - val_accuracy: 0.7806\n",
      "Epoch 3/20\n",
      "2/2 [==============================] - 3s 1s/step - loss: 0.7662 - accuracy: 0.8040 - val_loss: 0.7943 - val_accuracy: 0.7824\n",
      "Epoch 4/20\n",
      "2/2 [==============================] - 3s 1s/step - loss: 0.7595 - accuracy: 0.8013 - val_loss: 0.7797 - val_accuracy: 0.7861\n",
      "Epoch 5/20\n",
      "2/2 [==============================] - 3s 1s/step - loss: 0.7556 - accuracy: 0.8020 - val_loss: 0.7709 - val_accuracy: 0.7866\n",
      "Epoch 6/20\n",
      "2/2 [==============================] - 3s 1s/step - loss: 0.7519 - accuracy: 0.8007 - val_loss: 0.7771 - val_accuracy: 0.7875\n",
      "Epoch 7/20\n",
      "2/2 [==============================] - 3s 1s/step - loss: 0.7477 - accuracy: 0.8018 - val_loss: 0.7660 - val_accuracy: 0.7852\n",
      "Epoch 8/20\n",
      "2/2 [==============================] - 3s 1s/step - loss: 0.7420 - accuracy: 0.8010 - val_loss: 0.7632 - val_accuracy: 0.7838\n",
      "Epoch 9/20\n",
      "2/2 [==============================] - 3s 1s/step - loss: 0.7384 - accuracy: 0.8015 - val_loss: 0.7610 - val_accuracy: 0.7847\n",
      "Epoch 10/20\n",
      "2/2 [==============================] - 3s 2s/step - loss: 0.7347 - accuracy: 0.8020 - val_loss: 0.7573 - val_accuracy: 0.7856\n",
      "Epoch 11/20\n",
      "2/2 [==============================] - 3s 1s/step - loss: 0.7321 - accuracy: 0.8004 - val_loss: 0.7564 - val_accuracy: 0.7861\n",
      "Epoch 12/20\n",
      "2/2 [==============================] - 3s 1s/step - loss: 0.7288 - accuracy: 0.8030 - val_loss: 0.7462 - val_accuracy: 0.7856\n",
      "Epoch 13/20\n",
      "2/2 [==============================] - 3s 1s/step - loss: 0.7265 - accuracy: 0.8009 - val_loss: 0.7490 - val_accuracy: 0.7852\n",
      "Epoch 14/20\n",
      "2/2 [==============================] - 3s 1s/step - loss: 0.7215 - accuracy: 0.8026 - val_loss: 0.7439 - val_accuracy: 0.7856\n",
      "Epoch 15/20\n",
      "2/2 [==============================] - 3s 1s/step - loss: 0.7177 - accuracy: 0.8020 - val_loss: 0.7428 - val_accuracy: 0.7856\n",
      "Epoch 16/20\n",
      "2/2 [==============================] - 3s 1s/step - loss: 0.7143 - accuracy: 0.8032 - val_loss: 0.7411 - val_accuracy: 0.7861\n",
      "Epoch 17/20\n",
      "2/2 [==============================] - 3s 1s/step - loss: 0.7114 - accuracy: 0.8055 - val_loss: 0.7338 - val_accuracy: 0.7861\n",
      "Epoch 18/20\n",
      "2/2 [==============================] - 3s 1s/step - loss: 0.7081 - accuracy: 0.8038 - val_loss: 0.7411 - val_accuracy: 0.7833\n",
      "Epoch 19/20\n",
      "2/2 [==============================] - 3s 1s/step - loss: 0.7050 - accuracy: 0.8024 - val_loss: 0.7238 - val_accuracy: 0.7879\n",
      "Epoch 20/20\n",
      "2/2 [==============================] - 3s 1s/step - loss: 0.7033 - accuracy: 0.7994 - val_loss: 0.7188 - val_accuracy: 0.7893\n",
      "\n"
     ]
    }
   ],
   "source": [
    "epochs_num = 20\n",
    "histories = []\n",
    "model = keras.Model(inputs=passengers, outputs=vitals)\n",
    "for rate in [1e-3, 1e-4, 5e-5]:\n",
    "    print(f\"Training at {rate:.5f} rate\\n\")\n",
    "    model.compile(optimizer=keras.optimizers.RMSprop(rate),\n",
    "              loss=\"BinaryCrossentropy\",\n",
    "              metrics=[\"accuracy\"])\n",
    "    history = model.fit(train_data, train_target, batch_size=4300,\n",
    "                        epochs=epochs_num, validation_split=.25, shuffle=True)\n",
    "    histories.append(history)\n",
    "    print(\"\")"
   ]
  },
  {
   "cell_type": "code",
   "execution_count": 22,
   "id": "28d0696e",
   "metadata": {
    "execution": {
     "iopub.execute_input": "2022-07-17T13:40:07.833444Z",
     "iopub.status.busy": "2022-07-17T13:40:07.832332Z",
     "iopub.status.idle": "2022-07-17T13:40:19.605334Z",
     "shell.execute_reply": "2022-07-17T13:40:19.603876Z"
    },
    "papermill": {
     "duration": 11.798301,
     "end_time": "2022-07-17T13:40:19.608998",
     "exception": false,
     "start_time": "2022-07-17T13:40:07.810697",
     "status": "completed"
    },
    "tags": []
   },
   "outputs": [
    {
     "name": "stdout",
     "output_type": "stream",
     "text": [
      "125/125 [==============================] - 3s 23ms/step - loss: 0.7110 - accuracy: 0.7962\n",
      "125/125 [==============================] - 2s 17ms/step - loss: 0.7033 - accuracy: 0.7997\n",
      "125/125 [==============================] - 2s 16ms/step - loss: 0.7086 - accuracy: 0.7947\n",
      "125/125 [==============================] - 2s 17ms/step - loss: 0.7006 - accuracy: 0.7993\n",
      "125/125 [==============================] - 2s 17ms/step - loss: 0.7028 - accuracy: 0.7990\n"
     ]
    }
   ],
   "source": [
    "for _ in range(5):\n",
    "    sample = train_data.sample(4000)\n",
    "    # train_target[sample.index]\n",
    "    model.evaluate(sample, train_target[sample.index])"
   ]
  },
  {
   "cell_type": "code",
   "execution_count": 23,
   "id": "67267692",
   "metadata": {
    "execution": {
     "iopub.execute_input": "2022-07-17T13:40:19.678854Z",
     "iopub.status.busy": "2022-07-17T13:40:19.678207Z",
     "iopub.status.idle": "2022-07-17T13:40:19.947941Z",
     "shell.execute_reply": "2022-07-17T13:40:19.947068Z"
    },
    "papermill": {
     "duration": 0.305103,
     "end_time": "2022-07-17T13:40:19.950405",
     "exception": false,
     "start_time": "2022-07-17T13:40:19.645302",
     "status": "completed"
    },
    "tags": []
   },
   "outputs": [
    {
     "data": {
      "text/plain": [
       "[<matplotlib.axis.XTick at 0x7f5be46db290>,\n",
       " <matplotlib.axis.XTick at 0x7f5be46db550>,\n",
       " <matplotlib.axis.XTick at 0x7f5c0063e690>,\n",
       " <matplotlib.axis.XTick at 0x7f5be4708090>]"
      ]
     },
     "execution_count": 23,
     "metadata": {},
     "output_type": "execute_result"
    },
    {
     "data": {
      "image/png": "[encoded data removed]",
      "text/plain": [
       "<Figure size 432x288 with 1 Axes>"
      ]
     },
     "metadata": {
      "needs_background": "light"
     },
     "output_type": "display_data"
    }
   ],
   "source": [
    "loss, val_loss = [], []\n",
    "for h in histories:\n",
    "    loss += h.history[\"loss\"].copy()\n",
    "    val_loss += h.history[\"val_loss\"].copy()\n",
    "g_loss = sns.lineplot(x = range(1, len(loss)+1), y=loss, label=\"Test\")\n",
    "sns.scatterplot(x = range(1, len(loss)+1), y=val_loss, ax=g_loss, label=\"Validation\")\n",
    "g_loss.set_ylim(0,2)\n",
    "g_loss.set_ylabel(\"Logistic Loss\")\n",
    "g_loss.set_xlabel(\"Batch No\")\n",
    "g_loss.set_xticks(range(0,len(loss)+epochs_num, epochs_num))"
   ]
  },
  {
   "cell_type": "code",
   "execution_count": 24,
   "id": "fdf092e5",
   "metadata": {
    "execution": {
     "iopub.execute_input": "2022-07-17T13:40:20.021582Z",
     "iopub.status.busy": "2022-07-17T13:40:20.020718Z",
     "iopub.status.idle": "2022-07-17T13:40:20.298001Z",
     "shell.execute_reply": "2022-07-17T13:40:20.296446Z"
    },
    "papermill": {
     "duration": 0.316617,
     "end_time": "2022-07-17T13:40:20.300869",
     "exception": false,
     "start_time": "2022-07-17T13:40:19.984252",
     "status": "completed"
    },
    "tags": []
   },
   "outputs": [
    {
     "data": {
      "text/plain": [
       "Text(0.5, 0, 'Batch No')"
      ]
     },
     "execution_count": 24,
     "metadata": {},
     "output_type": "execute_result"
    },
    {
     "data": {
      "image/png": "[encoded data removed]",
      "text/plain": [
       "<Figure size 432x288 with 1 Axes>"
      ]
     },
     "metadata": {
      "needs_background": "light"
     },
     "output_type": "display_data"
    }
   ],
   "source": [
    "acc, val_acc = [], []\n",
    "for h in histories:\n",
    "    acc += h.history[\"accuracy\"].copy()\n",
    "    val_acc += h.history[\"val_accuracy\"].copy()\n",
    "g_acc = sns.lineplot(x = range(1, len(acc)+1), y=acc, label=\"Test\")\n",
    "sns.scatterplot(x = range(1, len(acc)+1), y=val_acc, ax=g_acc, label=\"Validation\")\n",
    "g_acc.set_ylim(0,1)\n",
    "g_acc.set_ylabel(\"Accuracy\")\n",
    "g_acc.set_xlabel(\"Batch No\")"
   ]
  },
  {
   "cell_type": "code",
   "execution_count": 25,
   "id": "3c1bd3d1",
   "metadata": {
    "execution": {
     "iopub.execute_input": "2022-07-17T13:40:20.369483Z",
     "iopub.status.busy": "2022-07-17T13:40:20.368951Z",
     "iopub.status.idle": "2022-07-17T13:40:21.613072Z",
     "shell.execute_reply": "2022-07-17T13:40:21.610890Z"
    },
    "papermill": {
     "duration": 1.281818,
     "end_time": "2022-07-17T13:40:21.615859",
     "exception": false,
     "start_time": "2022-07-17T13:40:20.334041",
     "status": "completed"
    },
    "tags": []
   },
   "outputs": [
    {
     "name": "stdout",
     "output_type": "stream",
     "text": [
      "Model: \"model\"\n",
      "_________________________________________________________________\n",
      "Layer (type)                 Output Shape              Param #   \n",
      "=================================================================\n",
      "passenger (InputLayer)       [(None, 35)]              0         \n",
      "_________________________________________________________________\n",
      "dense (Dense)                (None, 2048)              73728     \n",
      "_________________________________________________________________\n",
      "dropout (Dropout)            (None, 2048)              0         \n",
      "_________________________________________________________________\n",
      "dense_1 (Dense)              (None, 2048)              4196352   \n",
      "_________________________________________________________________\n",
      "dropout_1 (Dropout)          (None, 2048)              0         \n",
      "_________________________________________________________________\n",
      "dense_2 (Dense)              (None, 2048)              4196352   \n",
      "_________________________________________________________________\n",
      "dropout_2 (Dropout)          (None, 2048)              0         \n",
      "_________________________________________________________________\n",
      "vitals (Dense)               (None, 1)                 2049      \n",
      "=================================================================\n",
      "Total params: 8,468,481\n",
      "Trainable params: 8,468,481\n",
      "Non-trainable params: 0\n",
      "_________________________________________________________________\n"
     ]
    }
   ],
   "source": [
    "keras.utils.plot_model(model, show_shapes=True)\n",
    "model.summary()"
   ]
  },
  {
   "cell_type": "code",
   "execution_count": 26,
   "id": "d0cd6132",
   "metadata": {
    "execution": {
     "iopub.execute_input": "2022-07-17T13:40:21.680666Z",
     "iopub.status.busy": "2022-07-17T13:40:21.680248Z",
     "iopub.status.idle": "2022-07-17T13:40:23.166375Z",
     "shell.execute_reply": "2022-07-17T13:40:23.164998Z"
    },
    "papermill": {
     "duration": 1.520589,
     "end_time": "2022-07-17T13:40:23.169064",
     "exception": false,
     "start_time": "2022-07-17T13:40:21.648475",
     "status": "completed"
    },
    "tags": []
   },
   "outputs": [],
   "source": [
    "predict = model.predict(test_data)\n",
    "predict = pd.Series(predict.reshape(-1,))"
   ]
  },
  {
   "cell_type": "code",
   "execution_count": 27,
   "id": "7e3cc293",
   "metadata": {
    "execution": {
     "iopub.execute_input": "2022-07-17T13:40:23.235164Z",
     "iopub.status.busy": "2022-07-17T13:40:23.234776Z",
     "iopub.status.idle": "2022-07-17T13:40:23.247125Z",
     "shell.execute_reply": "2022-07-17T13:40:23.245896Z"
    },
    "papermill": {
     "duration": 0.047365,
     "end_time": "2022-07-17T13:40:23.249411",
     "exception": false,
     "start_time": "2022-07-17T13:40:23.202046",
     "status": "completed"
    },
    "tags": []
   },
   "outputs": [
    {
     "data": {
      "text/plain": [
       "False    2172\n",
       "True     2105\n",
       "dtype: int64"
      ]
     },
     "execution_count": 27,
     "metadata": {},
     "output_type": "execute_result"
    }
   ],
   "source": [
    "predict = predict.apply(lambda x: True if x>=.5 else False)\n",
    "predict.value_counts()"
   ]
  },
  {
   "cell_type": "code",
   "execution_count": 28,
   "id": "700f0a19",
   "metadata": {
    "execution": {
     "iopub.execute_input": "2022-07-17T13:40:23.318603Z",
     "iopub.status.busy": "2022-07-17T13:40:23.318182Z",
     "iopub.status.idle": "2022-07-17T13:40:23.336742Z",
     "shell.execute_reply": "2022-07-17T13:40:23.335787Z"
    },
    "papermill": {
     "duration": 0.054769,
     "end_time": "2022-07-17T13:40:23.339022",
     "exception": false,
     "start_time": "2022-07-17T13:40:23.284253",
     "status": "completed"
    },
    "tags": []
   },
   "outputs": [],
   "source": [
    "submit = pd.read_csv(\"/kaggle/input/spaceship-titanic/sample_submission.csv\")\n",
    "submit[\"Transported\"] = predict"
   ]
  },
  {
   "cell_type": "code",
   "execution_count": 29,
   "id": "b62e3193",
   "metadata": {
    "execution": {
     "iopub.execute_input": "2022-07-17T13:40:23.403143Z",
     "iopub.status.busy": "2022-07-17T13:40:23.402700Z",
     "iopub.status.idle": "2022-07-17T13:40:23.415533Z",
     "shell.execute_reply": "2022-07-17T13:40:23.414500Z"
    },
    "papermill": {
     "duration": 0.048018,
     "end_time": "2022-07-17T13:40:23.418233",
     "exception": false,
     "start_time": "2022-07-17T13:40:23.370215",
     "status": "completed"
    },
    "tags": []
   },
   "outputs": [],
   "source": [
    "submit.to_csv(\"submission.csv\", index=False)"
   ]
  },
  {
   "cell_type": "code",
   "execution_count": 30,
   "id": "365a1e79",
   "metadata": {
    "execution": {
     "iopub.execute_input": "2022-07-17T13:40:23.487969Z",
     "iopub.status.busy": "2022-07-17T13:40:23.487353Z",
     "iopub.status.idle": "2022-07-17T13:40:23.502294Z",
     "shell.execute_reply": "2022-07-17T13:40:23.501241Z"
    },
    "papermill": {
     "duration": 0.054302,
     "end_time": "2022-07-17T13:40:23.504443",
     "exception": false,
     "start_time": "2022-07-17T13:40:23.450141",
     "status": "completed"
    },
    "tags": []
   },
   "outputs": [
    {
     "data": {
      "text/html": [
       "<div>\n",
       "<style scoped>\n",
       "    .dataframe tbody tr th:only-of-type {\n",
       "        vertical-align: middle;\n",
       "    }\n",
       "\n",
       "    .dataframe tbody tr th {\n",
       "        vertical-align: top;\n",
       "    }\n",
       "\n",
       "    .dataframe thead th {\n",
       "        text-align: right;\n",
       "    }\n",
       "</style>\n",
       "<table border=\"1\" class=\"dataframe\">\n",
       "  <thead>\n",
       "    <tr style=\"text-align: right;\">\n",
       "      <th></th>\n",
       "      <th>PassengerId</th>\n",
       "      <th>Transported</th>\n",
       "    </tr>\n",
       "  </thead>\n",
       "  <tbody>\n",
       "    <tr>\n",
       "      <th>0</th>\n",
       "      <td>0013_01</td>\n",
       "      <td>True</td>\n",
       "    </tr>\n",
       "    <tr>\n",
       "      <th>1</th>\n",
       "      <td>0018_01</td>\n",
       "      <td>False</td>\n",
       "    </tr>\n",
       "    <tr>\n",
       "      <th>2</th>\n",
       "      <td>0019_01</td>\n",
       "      <td>True</td>\n",
       "    </tr>\n",
       "    <tr>\n",
       "      <th>3</th>\n",
       "      <td>0021_01</td>\n",
       "      <td>True</td>\n",
       "    </tr>\n",
       "    <tr>\n",
       "      <th>4</th>\n",
       "      <td>0023_01</td>\n",
       "      <td>False</td>\n",
       "    </tr>\n",
       "    <tr>\n",
       "      <th>...</th>\n",
       "      <td>...</td>\n",
       "      <td>...</td>\n",
       "    </tr>\n",
       "    <tr>\n",
       "      <th>4272</th>\n",
       "      <td>9266_02</td>\n",
       "      <td>True</td>\n",
       "    </tr>\n",
       "    <tr>\n",
       "      <th>4273</th>\n",
       "      <td>9269_01</td>\n",
       "      <td>False</td>\n",
       "    </tr>\n",
       "    <tr>\n",
       "      <th>4274</th>\n",
       "      <td>9271_01</td>\n",
       "      <td>True</td>\n",
       "    </tr>\n",
       "    <tr>\n",
       "      <th>4275</th>\n",
       "      <td>9273_01</td>\n",
       "      <td>True</td>\n",
       "    </tr>\n",
       "    <tr>\n",
       "      <th>4276</th>\n",
       "      <td>9277_01</td>\n",
       "      <td>True</td>\n",
       "    </tr>\n",
       "  </tbody>\n",
       "</table>\n",
       "<p>4277 rows × 2 columns</p>\n",
       "</div>"
      ],
      "text/plain": [
       "     PassengerId  Transported\n",
       "0        0013_01         True\n",
       "1        0018_01        False\n",
       "2        0019_01         True\n",
       "3        0021_01         True\n",
       "4        0023_01        False\n",
       "...          ...          ...\n",
       "4272     9266_02         True\n",
       "4273     9269_01        False\n",
       "4274     9271_01         True\n",
       "4275     9273_01         True\n",
       "4276     9277_01         True\n",
       "\n",
       "[4277 rows x 2 columns]"
      ]
     },
     "execution_count": 30,
     "metadata": {},
     "output_type": "execute_result"
    }
   ],
   "source": [
    "submit"
   ]
  },
  {
   "cell_type": "code",
   "execution_count": null,
   "id": "e2cc3543",
   "metadata": {
    "papermill": {
     "duration": 0.032133,
     "end_time": "2022-07-17T13:40:23.568000",
     "exception": false,
     "start_time": "2022-07-17T13:40:23.535867",
     "status": "completed"
    },
    "tags": []
   },
   "outputs": [],
   "source": []
  }
 ],
 "metadata": {
  "kernelspec": {
   "display_name": "Python 3",
   "language": "python",
   "name": "python3"
  },
  "language_info": {
   "codemirror_mode": {
    "name": "ipython",
    "version": 3
   },
   "file_extension": ".py",
   "mimetype": "text/x-python",
   "name": "python",
   "nbconvert_exporter": "python",
   "pygments_lexer": "ipython3",
   "version": "3.7.12"
  },
  "papermill": {
   "default_parameters": {},
   "duration": 227.805086,
   "end_time": "2022-07-17T13:40:26.520767",
   "environment_variables": {},
   "exception": null,
   "input_path": "__notebook__.ipynb",
   "output_path": "__notebook__.ipynb",
   "parameters": {},
   "start_time": "2022-07-17T13:36:38.715681",
   "version": "2.3.4"
  }
 },
 "nbformat": 4,
 "nbformat_minor": 5
}

{
 "cells": [
  {
   "cell_type": "markdown",
   "id": "91771fae",
   "metadata": {
    "papermill": {
     "duration": 0.036233,
     "end_time": "2022-06-30T23:03:58.824171",
     "exception": false,
     "start_time": "2022-06-30T23:03:58.787938",
     "status": "completed"
    },
    "tags": []
   },
   "source": [
    "# Attempt to mimic stochastic gradient descent to tune hyperparameters\n",
    "## Assumptions\n",
    "* KFold cross validation is valid (no shuffling)\n",
    "* loss function is somewhat smooth"
   ]
  },
  {
   "cell_type": "markdown",
   "id": "b6672286",
   "metadata": {
    "papermill": {
     "duration": 0.034747,
     "end_time": "2022-06-30T23:03:58.893826",
     "exception": false,
     "start_time": "2022-06-30T23:03:58.859079",
     "status": "completed"
    },
    "tags": []
   },
   "source": [
    "## Data and Imports"
   ]
  },
  {
   "cell_type": "code",
   "execution_count": 1,
   "id": "cad02bb5",
   "metadata": {
    "execution": {
     "iopub.execute_input": "2022-06-30T23:03:58.975655Z",
     "iopub.status.busy": "2022-06-30T23:03:58.975185Z",
     "iopub.status.idle": "2022-06-30T23:03:58.991028Z",
     "shell.execute_reply": "2022-06-30T23:03:58.990121Z"
    },
    "papermill": {
     "duration": 0.063554,
     "end_time": "2022-06-30T23:03:58.993799",
     "exception": false,
     "start_time": "2022-06-30T23:03:58.930245",
     "status": "completed"
    },
    "tags": []
   },
   "outputs": [
    {
     "name": "stdout",
     "output_type": "stream",
     "text": [
      "/kaggle/input/tabular-playground-series-may-2022/sample_submission.csv\n",
      "/kaggle/input/tabular-playground-series-may-2022/train.csv\n",
      "/kaggle/input/tabular-playground-series-may-2022/test.csv\n"
     ]
    }
   ],
   "source": [
    "import os\n",
    "for dirname, _, filenames in os.walk('/kaggle/input'):\n",
    "    for filename in filenames:\n",
    "        print(os.path.join(dirname, filename))"
   ]
  },
  {
   "cell_type": "code",
   "execution_count": 2,
   "id": "4beb277b",
   "metadata": {
    "execution": {
     "iopub.execute_input": "2022-06-30T23:03:59.071600Z",
     "iopub.status.busy": "2022-06-30T23:03:59.070980Z",
     "iopub.status.idle": "2022-06-30T23:04:00.669015Z",
     "shell.execute_reply": "2022-06-30T23:04:00.668334Z"
    },
    "papermill": {
     "duration": 1.638772,
     "end_time": "2022-06-30T23:04:00.671387",
     "exception": false,
     "start_time": "2022-06-30T23:03:59.032615",
     "status": "completed"
    },
    "tags": []
   },
   "outputs": [],
   "source": [
    "import numpy as np\n",
    "import pandas as pd\n",
    "import seaborn as sns\n",
    "from scipy.stats import loguniform\n",
    "from sklearn.ensemble import HistGradientBoostingClassifier\n",
    "from sklearn.preprocessing import OrdinalEncoder\n",
    "from sklearn.compose import ColumnTransformer\n",
    "from sklearn.pipeline import make_pipeline\n",
    "from sklearn.metrics import log_loss\n",
    "from sklearn.model_selection import cross_validate, train_test_split\n",
    "# from sklearn.model_selection import RandomizedSearchCV\n",
    "from sklearn import set_config\n",
    "set_config(display='diagram')"
   ]
  },
  {
   "cell_type": "code",
   "execution_count": 3,
   "id": "b884b6e1",
   "metadata": {
    "execution": {
     "iopub.execute_input": "2022-06-30T23:04:00.746816Z",
     "iopub.status.busy": "2022-06-30T23:04:00.746242Z",
     "iopub.status.idle": "2022-06-30T23:04:10.221450Z",
     "shell.execute_reply": "2022-06-30T23:04:10.220705Z"
    },
    "papermill": {
     "duration": 9.516321,
     "end_time": "2022-06-30T23:04:10.223763",
     "exception": false,
     "start_time": "2022-06-30T23:04:00.707442",
     "status": "completed"
    },
    "tags": []
   },
   "outputs": [],
   "source": [
    "train_data = pd.read_csv(\n",
    "    \"/kaggle/input/tabular-playground-series-may-2022/train.csv\",\n",
    ")\n",
    "train_target = train_data.target.copy()\n",
    "train_data.drop(columns=[\"id\", \"target\"], inplace=True)"
   ]
  },
  {
   "cell_type": "markdown",
   "id": "4f454397",
   "metadata": {
    "papermill": {
     "duration": 0.035138,
     "end_time": "2022-06-30T23:04:10.295530",
     "exception": false,
     "start_time": "2022-06-30T23:04:10.260392",
     "status": "completed"
    },
    "tags": []
   },
   "source": [
    "`f_27` is categorical: 10-letter strings. Split into 10 new features and ordinarily encode each."
   ]
  },
  {
   "cell_type": "code",
   "execution_count": 4,
   "id": "f0ba600b",
   "metadata": {
    "execution": {
     "iopub.execute_input": "2022-06-30T23:04:10.369447Z",
     "iopub.status.busy": "2022-06-30T23:04:10.368758Z",
     "iopub.status.idle": "2022-06-30T23:04:10.669252Z",
     "shell.execute_reply": "2022-06-30T23:04:10.668212Z"
    },
    "papermill": {
     "duration": 0.339664,
     "end_time": "2022-06-30T23:04:10.671555",
     "exception": false,
     "start_time": "2022-06-30T23:04:10.331891",
     "status": "completed"
    },
    "tags": []
   },
   "outputs": [
    {
     "name": "stdout",
     "output_type": "stream",
     "text": [
      "ABABDADBAB\n",
      "741354\n"
     ]
    }
   ],
   "source": [
    "print(train_data.f_27[0])\n",
    "print(train_data.f_27.nunique())"
   ]
  },
  {
   "cell_type": "code",
   "execution_count": 5,
   "id": "4aac17bb",
   "metadata": {
    "execution": {
     "iopub.execute_input": "2022-06-30T23:04:10.749042Z",
     "iopub.status.busy": "2022-06-30T23:04:10.748490Z",
     "iopub.status.idle": "2022-06-30T23:04:16.652795Z",
     "shell.execute_reply": "2022-06-30T23:04:16.652172Z"
    },
    "papermill": {
     "duration": 5.944788,
     "end_time": "2022-06-30T23:04:16.655129",
     "exception": false,
     "start_time": "2022-06-30T23:04:10.710341",
     "status": "completed"
    },
    "tags": []
   },
   "outputs": [],
   "source": [
    "new_features = pd.DataFrame(\n",
    "    np.concatenate(\n",
    "        train_data.f_27.apply(lambda x: [sym for sym in x]).values, axis=0\n",
    "    ).reshape(-1, 10),\n",
    "    columns = [f\"f_27_{x}\" for x in range(10)]\n",
    ")"
   ]
  },
  {
   "cell_type": "code",
   "execution_count": 6,
   "id": "27df3632",
   "metadata": {
    "execution": {
     "iopub.execute_input": "2022-06-30T23:04:16.729719Z",
     "iopub.status.busy": "2022-06-30T23:04:16.728880Z",
     "iopub.status.idle": "2022-06-30T23:04:17.391057Z",
     "shell.execute_reply": "2022-06-30T23:04:17.390168Z"
    },
    "papermill": {
     "duration": 0.701931,
     "end_time": "2022-06-30T23:04:17.393365",
     "exception": false,
     "start_time": "2022-06-30T23:04:16.691434",
     "status": "completed"
    },
    "tags": []
   },
   "outputs": [],
   "source": [
    "train_data = pd.concat(([train_data, new_features]), axis=1)\n",
    "train_data.drop(columns=\"f_27\", inplace=True)"
   ]
  },
  {
   "cell_type": "markdown",
   "id": "09124de6",
   "metadata": {
    "papermill": {
     "duration": 0.035837,
     "end_time": "2022-06-30T23:04:17.465097",
     "exception": false,
     "start_time": "2022-06-30T23:04:17.429260",
     "status": "completed"
    },
    "tags": []
   },
   "source": [
    "## Model and Initial Cross Validation"
   ]
  },
  {
   "cell_type": "code",
   "execution_count": 7,
   "id": "0e6cec23",
   "metadata": {
    "execution": {
     "iopub.execute_input": "2022-06-30T23:04:17.539829Z",
     "iopub.status.busy": "2022-06-30T23:04:17.539542Z",
     "iopub.status.idle": "2022-06-30T23:04:17.545896Z",
     "shell.execute_reply": "2022-06-30T23:04:17.544845Z"
    },
    "papermill": {
     "duration": 0.04638,
     "end_time": "2022-06-30T23:04:17.547969",
     "exception": false,
     "start_time": "2022-06-30T23:04:17.501589",
     "status": "completed"
    },
    "tags": []
   },
   "outputs": [],
   "source": [
    "cat_processor = OrdinalEncoder(handle_unknown=\"use_encoded_value\", unknown_value=np.nan)\n",
    "preprocessor = ColumnTransformer(\n",
    "    [(\"OrdinalEncoder\", cat_processor, [f\"f_27_{x}\" for x in range(10)])],\n",
    "    remainder=\"passthrough\"\n",
    ")\n",
    "estimator = HistGradientBoostingClassifier(\n",
    "    max_iter=200, early_stopping=True, random_state=1)\n",
    "\n",
    "model = make_pipeline(preprocessor, estimator)"
   ]
  },
  {
   "cell_type": "markdown",
   "id": "fc928a09",
   "metadata": {
    "execution": {
     "iopub.execute_input": "2022-06-30T21:20:54.038265Z",
     "iopub.status.busy": "2022-06-30T21:20:54.037929Z",
     "iopub.status.idle": "2022-06-30T21:20:54.047861Z",
     "shell.execute_reply": "2022-06-30T21:20:54.046517Z",
     "shell.execute_reply.started": "2022-06-30T21:20:54.038227Z"
    },
    "papermill": {
     "duration": 0.035762,
     "end_time": "2022-06-30T23:04:17.620614",
     "exception": false,
     "start_time": "2022-06-30T23:04:17.584852",
     "status": "completed"
    },
    "tags": []
   },
   "source": [
    "For a reference, the best configuration found with a few iterations of `RandomizedSearchCV`:\n",
    "\n",
    "| l2_regularization | learning_rate | max_leaf_nodes | min_samples_leaf | mean_test_score | std_test_score |\n",
    "| ----------- | ----------- | ----------- | ----------- | ----------- | ----------- |\n",
    "| 0.244505 | 0.182073 | 98 | 29 | 0.900514 | 0.000727 | "
   ]
  },
  {
   "cell_type": "code",
   "execution_count": 8,
   "id": "8130c4ef",
   "metadata": {
    "execution": {
     "iopub.execute_input": "2022-06-30T23:04:17.695960Z",
     "iopub.status.busy": "2022-06-30T23:04:17.694800Z",
     "iopub.status.idle": "2022-06-30T23:14:29.943894Z",
     "shell.execute_reply": "2022-06-30T23:14:29.941488Z"
    },
    "papermill": {
     "duration": 612.32713,
     "end_time": "2022-06-30T23:14:29.984464",
     "exception": false,
     "start_time": "2022-06-30T23:04:17.657334",
     "status": "completed"
    },
    "tags": []
   },
   "outputs": [
    {
     "name": "stderr",
     "output_type": "stream",
     "text": [
      "[Parallel(n_jobs=3)]: Using backend LokyBackend with 3 concurrent workers.\n",
      "[Parallel(n_jobs=3)]: Done   3 out of   5 | elapsed:  6.2min remaining:  4.2min\n",
      "[Parallel(n_jobs=3)]: Done   5 out of   5 | elapsed: 10.2min finished\n"
     ]
    }
   ],
   "source": [
    "cv_results = cross_validate(\n",
    "    model, train_data, train_target, scoring=[\"accuracy\", \"neg_log_loss\"],\n",
    "    return_train_score=True,cv=5, n_jobs=3, verbose=2\n",
    ")"
   ]
  },
  {
   "cell_type": "code",
   "execution_count": 9,
   "id": "f5c9bc91",
   "metadata": {
    "execution": {
     "iopub.execute_input": "2022-06-30T23:14:30.066351Z",
     "iopub.status.busy": "2022-06-30T23:14:30.065919Z",
     "iopub.status.idle": "2022-06-30T23:14:30.105075Z",
     "shell.execute_reply": "2022-06-30T23:14:30.104184Z"
    },
    "papermill": {
     "duration": 0.085824,
     "end_time": "2022-06-30T23:14:30.108554",
     "exception": false,
     "start_time": "2022-06-30T23:14:30.022730",
     "status": "completed"
    },
    "tags": []
   },
   "outputs": [
    {
     "data": {
      "text/html": [
       "<div>\n",
       "<style scoped>\n",
       "    .dataframe tbody tr th:only-of-type {\n",
       "        vertical-align: middle;\n",
       "    }\n",
       "\n",
       "    .dataframe tbody tr th {\n",
       "        vertical-align: top;\n",
       "    }\n",
       "\n",
       "    .dataframe thead th {\n",
       "        text-align: right;\n",
       "    }\n",
       "</style>\n",
       "<table border=\"1\" class=\"dataframe\">\n",
       "  <thead>\n",
       "    <tr style=\"text-align: right;\">\n",
       "      <th></th>\n",
       "      <th>fit_time</th>\n",
       "      <th>score_time</th>\n",
       "      <th>test_accuracy</th>\n",
       "      <th>train_accuracy</th>\n",
       "      <th>test_neg_log_loss</th>\n",
       "      <th>train_neg_log_loss</th>\n",
       "    </tr>\n",
       "  </thead>\n",
       "  <tbody>\n",
       "    <tr>\n",
       "      <th>0</th>\n",
       "      <td>181.240980</td>\n",
       "      <td>36.080131</td>\n",
       "      <td>0.879733</td>\n",
       "      <td>0.883946</td>\n",
       "      <td>-0.315339</td>\n",
       "      <td>-0.310522</td>\n",
       "    </tr>\n",
       "    <tr>\n",
       "      <th>1</th>\n",
       "      <td>185.642151</td>\n",
       "      <td>35.868310</td>\n",
       "      <td>0.879544</td>\n",
       "      <td>0.884015</td>\n",
       "      <td>-0.316894</td>\n",
       "      <td>-0.310150</td>\n",
       "    </tr>\n",
       "    <tr>\n",
       "      <th>2</th>\n",
       "      <td>188.020490</td>\n",
       "      <td>36.305061</td>\n",
       "      <td>0.881489</td>\n",
       "      <td>0.883829</td>\n",
       "      <td>-0.314538</td>\n",
       "      <td>-0.310547</td>\n",
       "    </tr>\n",
       "    <tr>\n",
       "      <th>3</th>\n",
       "      <td>124.107308</td>\n",
       "      <td>24.041929</td>\n",
       "      <td>0.880306</td>\n",
       "      <td>0.883151</td>\n",
       "      <td>-0.316781</td>\n",
       "      <td>-0.311862</td>\n",
       "    </tr>\n",
       "    <tr>\n",
       "      <th>4</th>\n",
       "      <td>122.414650</td>\n",
       "      <td>24.366933</td>\n",
       "      <td>0.880161</td>\n",
       "      <td>0.883422</td>\n",
       "      <td>-0.316961</td>\n",
       "      <td>-0.311291</td>\n",
       "    </tr>\n",
       "  </tbody>\n",
       "</table>\n",
       "</div>"
      ],
      "text/plain": [
       "     fit_time  score_time  test_accuracy  train_accuracy  test_neg_log_loss  \\\n",
       "0  181.240980   36.080131       0.879733        0.883946          -0.315339   \n",
       "1  185.642151   35.868310       0.879544        0.884015          -0.316894   \n",
       "2  188.020490   36.305061       0.881489        0.883829          -0.314538   \n",
       "3  124.107308   24.041929       0.880306        0.883151          -0.316781   \n",
       "4  122.414650   24.366933       0.880161        0.883422          -0.316961   \n",
       "\n",
       "   train_neg_log_loss  \n",
       "0           -0.310522  \n",
       "1           -0.310150  \n",
       "2           -0.310547  \n",
       "3           -0.311862  \n",
       "4           -0.311291  "
      ]
     },
     "execution_count": 9,
     "metadata": {},
     "output_type": "execute_result"
    }
   ],
   "source": [
    "cv_results = pd.DataFrame(cv_results)\n",
    "cv_results"
   ]
  },
  {
   "cell_type": "markdown",
   "id": "34a84724",
   "metadata": {
    "papermill": {
     "duration": 0.038602,
     "end_time": "2022-06-30T23:14:30.186043",
     "exception": false,
     "start_time": "2022-06-30T23:14:30.147441",
     "status": "completed"
    },
    "tags": []
   },
   "source": [
    "## Hyperparameter Tuning\n",
    "### Data Batch Generator"
   ]
  },
  {
   "cell_type": "code",
   "execution_count": 10,
   "id": "fd9be473",
   "metadata": {
    "execution": {
     "iopub.execute_input": "2022-06-30T23:14:30.264740Z",
     "iopub.status.busy": "2022-06-30T23:14:30.263903Z",
     "iopub.status.idle": "2022-06-30T23:14:30.271396Z",
     "shell.execute_reply": "2022-06-30T23:14:30.270385Z"
    },
    "papermill": {
     "duration": 0.049236,
     "end_time": "2022-06-30T23:14:30.273613",
     "exception": false,
     "start_time": "2022-06-30T23:14:30.224377",
     "status": "completed"
    },
    "tags": []
   },
   "outputs": [],
   "source": [
    "def feed_batch(data, size=10000):\n",
    "    \"\"\"Sequentially yields batches of passed data in batches of the specified size\"\"\"\n",
    "    for i in range(0, data.shape[0], size):\n",
    "        try:\n",
    "            batch = data.iloc[i : i + size].copy()\n",
    "        except:\n",
    "            batch = data.iloc[i:].copy()\n",
    "        yield batch"
   ]
  },
  {
   "cell_type": "markdown",
   "id": "602d03bd",
   "metadata": {
    "papermill": {
     "duration": 0.038343,
     "end_time": "2022-06-30T23:14:30.350170",
     "exception": false,
     "start_time": "2022-06-30T23:14:30.311827",
     "status": "completed"
    },
    "tags": []
   },
   "source": [
    "A quick test of `feed_batch` function."
   ]
  },
  {
   "cell_type": "code",
   "execution_count": 11,
   "id": "a1d84622",
   "metadata": {
    "execution": {
     "iopub.execute_input": "2022-06-30T23:14:30.428755Z",
     "iopub.status.busy": "2022-06-30T23:14:30.428226Z",
     "iopub.status.idle": "2022-06-30T23:14:49.293104Z",
     "shell.execute_reply": "2022-06-30T23:14:49.287512Z"
    },
    "papermill": {
     "duration": 18.909766,
     "end_time": "2022-06-30T23:14:49.298375",
     "exception": false,
     "start_time": "2022-06-30T23:14:30.388609",
     "status": "completed"
    },
    "tags": []
   },
   "outputs": [
    {
     "name": "stdout",
     "output_type": "stream",
     "text": [
      "0.83\n",
      "\n",
      "0.8235\n",
      "\n",
      "0.825\n",
      "\n",
      "Ops\n"
     ]
    }
   ],
   "source": [
    "data_generator = feed_batch(train_data[-23000:], size=8000)\n",
    "target_generator = feed_batch(train_target[-23000:], size=8000)\n",
    "\n",
    "for _ in range(4):\n",
    "    try:\n",
    "        test_batch_data = next(data_generator)\n",
    "        test_batch_target = next(target_generator)\n",
    "        model.fit(test_batch_data[:6000], test_batch_target[:6000])\n",
    "        print(model.score(test_batch_data[6000:], test_batch_target[6000:]))\n",
    "        print(\"\")\n",
    "    except StopIteration:\n",
    "        print(\"Ops\")"
   ]
  },
  {
   "cell_type": "markdown",
   "id": "7c3ac2f5",
   "metadata": {
    "papermill": {
     "duration": 0.062829,
     "end_time": "2022-06-30T23:14:49.423158",
     "exception": false,
     "start_time": "2022-06-30T23:14:49.360329",
     "status": "completed"
    },
    "tags": []
   },
   "source": [
    "### Hyperparameter Update Functions\n",
    "Akin to partial differentiation, every batch of data will be used to:\n",
    "\n",
    "0. get a baseline metric (a loss function) with the current hyperparameters,\n",
    "1. adjust sequentially each hyperparameter and record the resultant change in loss function,\n",
    "2. based on the change, update the hyperparameters and set them to the model,\n",
    "3. repeat steps 0-2 on every batch (thus, completing one epoch).\n",
    "\n",
    "The challenge is that an update function must be specifically tailored to a hyperparameter, as some are restricted to`int` type, and others may have an enormous range of valid values (e.g., param ∈ $\\mathbb{R}$)."
   ]
  },
  {
   "cell_type": "code",
   "execution_count": 12,
   "id": "6ad16d47",
   "metadata": {
    "execution": {
     "iopub.execute_input": "2022-06-30T23:14:49.548203Z",
     "iopub.status.busy": "2022-06-30T23:14:49.547408Z",
     "iopub.status.idle": "2022-06-30T23:14:49.559700Z",
     "shell.execute_reply": "2022-06-30T23:14:49.556224Z"
    },
    "papermill": {
     "duration": 0.081933,
     "end_time": "2022-06-30T23:14:49.563780",
     "exception": false,
     "start_time": "2022-06-30T23:14:49.481847",
     "status": "completed"
    },
    "tags": []
   },
   "outputs": [],
   "source": [
    "def update_int_param(cur_val, min_val=4, max_val=256, by=2):\n",
    "    # ensure return is int and within the interval\n",
    "    new_val = max([round(cur_val + by), min_val])\n",
    "    return min([new_val, max_val])\n",
    "\n",
    "def update_log_param(cur_val, min_val=1e-3, max_val=1e3, by=5e-3):\n",
    "    cur_p = loguniform.cdf(cur_val, min_val, max_val)\n",
    "    if ((cur_p - by) < 0) | ((cur_p + by) > 1):\n",
    "        return cur_val\n",
    "    return loguniform.ppf(cur_p + by, min_val, max_val)"
   ]
  },
  {
   "cell_type": "markdown",
   "id": "9af77596",
   "metadata": {
    "papermill": {
     "duration": 0.059084,
     "end_time": "2022-06-30T23:14:49.683392",
     "exception": false,
     "start_time": "2022-06-30T23:14:49.624308",
     "status": "completed"
    },
    "tags": []
   },
   "source": [
    "The initial idea is to change by a small value and then change it by the same value in a direction of loss decrease. A more aggressive approach might be needed though."
   ]
  },
  {
   "cell_type": "code",
   "execution_count": 13,
   "id": "526a948d",
   "metadata": {
    "execution": {
     "iopub.execute_input": "2022-06-30T23:14:49.805773Z",
     "iopub.status.busy": "2022-06-30T23:14:49.804904Z",
     "iopub.status.idle": "2022-06-30T23:14:49.817122Z",
     "shell.execute_reply": "2022-06-30T23:14:49.815568Z"
    },
    "papermill": {
     "duration": 0.075217,
     "end_time": "2022-06-30T23:14:49.819509",
     "exception": false,
     "start_time": "2022-06-30T23:14:49.744292",
     "status": "completed"
    },
    "tags": []
   },
   "outputs": [
    {
     "name": "stdout",
     "output_type": "stream",
     "text": [
      "0.8494850021680093\n",
      "39.810717055349734\n",
      "0.7999999999999999\n"
     ]
    }
   ],
   "source": [
    "print(loguniform.cdf(50,1,100))  # current procentile (~84.95%)\n",
    "print(loguniform.ppf(.80,1,100))  # 80th procentile value (i.e., decrease by 4.95%)\n",
    "print(loguniform.cdf(39.810717055349734,1,100))"
   ]
  },
  {
   "cell_type": "code",
   "execution_count": 14,
   "id": "939c580e",
   "metadata": {
    "execution": {
     "iopub.execute_input": "2022-06-30T23:14:49.938763Z",
     "iopub.status.busy": "2022-06-30T23:14:49.938458Z",
     "iopub.status.idle": "2022-06-30T23:14:50.024277Z",
     "shell.execute_reply": "2022-06-30T23:14:50.023033Z"
    },
    "papermill": {
     "duration": 0.14985,
     "end_time": "2022-06-30T23:14:50.027666",
     "exception": false,
     "start_time": "2022-06-30T23:14:49.877816",
     "status": "completed"
    },
    "tags": []
   },
   "outputs": [
    {
     "data": {
      "text/html": [
       "<style>#sk-9e040c3c-4f39-464b-8eae-50592f3e9fa5 {color: black;background-color: white;}#sk-9e040c3c-4f39-464b-8eae-50592f3e9fa5 pre{padding: 0;}#sk-9e040c3c-4f39-464b-8eae-50592f3e9fa5 div.sk-toggleable {background-color: white;}#sk-9e040c3c-4f39-464b-8eae-50592f3e9fa5 label.sk-toggleable__label {cursor: pointer;display: block;width: 100%;margin-bottom: 0;padding: 0.3em;box-sizing: border-box;text-align: center;}#sk-9e040c3c-4f39-464b-8eae-50592f3e9fa5 label.sk-toggleable__label-arrow:before {content: \"▸\";float: left;margin-right: 0.25em;color: #696969;}#sk-9e040c3c-4f39-464b-8eae-50592f3e9fa5 label.sk-toggleable__label-arrow:hover:before {color: black;}#sk-9e040c3c-4f39-464b-8eae-50592f3e9fa5 div.sk-estimator:hover label.sk-toggleable__label-arrow:before {color: black;}#sk-9e040c3c-4f39-464b-8eae-50592f3e9fa5 div.sk-toggleable__content {max-height: 0;max-width: 0;overflow: hidden;text-align: left;background-color: #f0f8ff;}#sk-9e040c3c-4f39-464b-8eae-50592f3e9fa5 div.sk-toggleable__content pre {margin: 0.2em;color: black;border-radius: 0.25em;background-color: #f0f8ff;}#sk-9e040c3c-4f39-464b-8eae-50592f3e9fa5 input.sk-toggleable__control:checked~div.sk-toggleable__content {max-height: 200px;max-width: 100%;overflow: auto;}#sk-9e040c3c-4f39-464b-8eae-50592f3e9fa5 input.sk-toggleable__control:checked~label.sk-toggleable__label-arrow:before {content: \"▾\";}#sk-9e040c3c-4f39-464b-8eae-50592f3e9fa5 div.sk-estimator input.sk-toggleable__control:checked~label.sk-toggleable__label {background-color: #d4ebff;}#sk-9e040c3c-4f39-464b-8eae-50592f3e9fa5 div.sk-label input.sk-toggleable__control:checked~label.sk-toggleable__label {background-color: #d4ebff;}#sk-9e040c3c-4f39-464b-8eae-50592f3e9fa5 input.sk-hidden--visually {border: 0;clip: rect(1px 1px 1px 1px);clip: rect(1px, 1px, 1px, 1px);height: 1px;margin: -1px;overflow: hidden;padding: 0;position: absolute;width: 1px;}#sk-9e040c3c-4f39-464b-8eae-50592f3e9fa5 div.sk-estimator {font-family: monospace;background-color: #f0f8ff;border: 1px dotted black;border-radius: 0.25em;box-sizing: border-box;margin-bottom: 0.5em;}#sk-9e040c3c-4f39-464b-8eae-50592f3e9fa5 div.sk-estimator:hover {background-color: #d4ebff;}#sk-9e040c3c-4f39-464b-8eae-50592f3e9fa5 div.sk-parallel-item::after {content: \"\";width: 100%;border-bottom: 1px solid gray;flex-grow: 1;}#sk-9e040c3c-4f39-464b-8eae-50592f3e9fa5 div.sk-label:hover label.sk-toggleable__label {background-color: #d4ebff;}#sk-9e040c3c-4f39-464b-8eae-50592f3e9fa5 div.sk-serial::before {content: \"\";position: absolute;border-left: 1px solid gray;box-sizing: border-box;top: 2em;bottom: 0;left: 50%;}#sk-9e040c3c-4f39-464b-8eae-50592f3e9fa5 div.sk-serial {display: flex;flex-direction: column;align-items: center;background-color: white;padding-right: 0.2em;padding-left: 0.2em;}#sk-9e040c3c-4f39-464b-8eae-50592f3e9fa5 div.sk-item {z-index: 1;}#sk-9e040c3c-4f39-464b-8eae-50592f3e9fa5 div.sk-parallel {display: flex;align-items: stretch;justify-content: center;background-color: white;}#sk-9e040c3c-4f39-464b-8eae-50592f3e9fa5 div.sk-parallel::before {content: \"\";position: absolute;border-left: 1px solid gray;box-sizing: border-box;top: 2em;bottom: 0;left: 50%;}#sk-9e040c3c-4f39-464b-8eae-50592f3e9fa5 div.sk-parallel-item {display: flex;flex-direction: column;position: relative;background-color: white;}#sk-9e040c3c-4f39-464b-8eae-50592f3e9fa5 div.sk-parallel-item:first-child::after {align-self: flex-end;width: 50%;}#sk-9e040c3c-4f39-464b-8eae-50592f3e9fa5 div.sk-parallel-item:last-child::after {align-self: flex-start;width: 50%;}#sk-9e040c3c-4f39-464b-8eae-50592f3e9fa5 div.sk-parallel-item:only-child::after {width: 0;}#sk-9e040c3c-4f39-464b-8eae-50592f3e9fa5 div.sk-dashed-wrapped {border: 1px dashed gray;margin: 0 0.4em 0.5em 0.4em;box-sizing: border-box;padding-bottom: 0.4em;background-color: white;position: relative;}#sk-9e040c3c-4f39-464b-8eae-50592f3e9fa5 div.sk-label label {font-family: monospace;font-weight: bold;background-color: white;display: inline-block;line-height: 1.2em;}#sk-9e040c3c-4f39-464b-8eae-50592f3e9fa5 div.sk-label-container {position: relative;z-index: 2;text-align: center;}#sk-9e040c3c-4f39-464b-8eae-50592f3e9fa5 div.sk-container {/* jupyter's `normalize.less` sets `[hidden] { display: none; }` but bootstrap.min.css set `[hidden] { display: none !important; }` so we also need the `!important` here to be able to override the default hidden behavior on the sphinx rendered scikit-learn.org. See: https://github.com/scikit-learn/scikit-learn/issues/21755 */display: inline-block !important;position: relative;}#sk-9e040c3c-4f39-464b-8eae-50592f3e9fa5 div.sk-text-repr-fallback {display: none;}</style><div id=\"sk-9e040c3c-4f39-464b-8eae-50592f3e9fa5\" class=\"sk-top-container\"><div class=\"sk-text-repr-fallback\"><pre>Pipeline(steps=[(&#x27;columntransformer&#x27;,\n",
       "                 ColumnTransformer(remainder=&#x27;passthrough&#x27;,\n",
       "                                   transformers=[(&#x27;OrdinalEncoder&#x27;,\n",
       "                                                  OrdinalEncoder(handle_unknown=&#x27;use_encoded_value&#x27;,\n",
       "                                                                 unknown_value=nan),\n",
       "                                                  [&#x27;f_27_0&#x27;, &#x27;f_27_1&#x27;, &#x27;f_27_2&#x27;,\n",
       "                                                   &#x27;f_27_3&#x27;, &#x27;f_27_4&#x27;, &#x27;f_27_5&#x27;,\n",
       "                                                   &#x27;f_27_6&#x27;, &#x27;f_27_7&#x27;, &#x27;f_27_8&#x27;,\n",
       "                                                   &#x27;f_27_9&#x27;])])),\n",
       "                (&#x27;histgradientboostingclassifier&#x27;,\n",
       "                 HistGradientBoostingClassifier(early_stopping=True,\n",
       "                                                l2_regularization=0.01,\n",
       "                                                max_iter=200,\n",
       "                                                random_state=1))])</pre><b>Please rerun this cell to show the HTML repr or trust the notebook.</b></div><div class=\"sk-container\" hidden><div class=\"sk-item sk-dashed-wrapped\"><div class=\"sk-label-container\"><div class=\"sk-label sk-toggleable\"><input class=\"sk-toggleable__control sk-hidden--visually\" id=\"eb1b8d2d-94f9-47ef-baf7-e1cdb9ff43f7\" type=\"checkbox\" ><label for=\"eb1b8d2d-94f9-47ef-baf7-e1cdb9ff43f7\" class=\"sk-toggleable__label sk-toggleable__label-arrow\">Pipeline</label><div class=\"sk-toggleable__content\"><pre>Pipeline(steps=[(&#x27;columntransformer&#x27;,\n",
       "                 ColumnTransformer(remainder=&#x27;passthrough&#x27;,\n",
       "                                   transformers=[(&#x27;OrdinalEncoder&#x27;,\n",
       "                                                  OrdinalEncoder(handle_unknown=&#x27;use_encoded_value&#x27;,\n",
       "                                                                 unknown_value=nan),\n",
       "                                                  [&#x27;f_27_0&#x27;, &#x27;f_27_1&#x27;, &#x27;f_27_2&#x27;,\n",
       "                                                   &#x27;f_27_3&#x27;, &#x27;f_27_4&#x27;, &#x27;f_27_5&#x27;,\n",
       "                                                   &#x27;f_27_6&#x27;, &#x27;f_27_7&#x27;, &#x27;f_27_8&#x27;,\n",
       "                                                   &#x27;f_27_9&#x27;])])),\n",
       "                (&#x27;histgradientboostingclassifier&#x27;,\n",
       "                 HistGradientBoostingClassifier(early_stopping=True,\n",
       "                                                l2_regularization=0.01,\n",
       "                                                max_iter=200,\n",
       "                                                random_state=1))])</pre></div></div></div><div class=\"sk-serial\"><div class=\"sk-item sk-dashed-wrapped\"><div class=\"sk-label-container\"><div class=\"sk-label sk-toggleable\"><input class=\"sk-toggleable__control sk-hidden--visually\" id=\"ac8534ef-f9ee-4c5a-93d5-a7961a0f3f57\" type=\"checkbox\" ><label for=\"ac8534ef-f9ee-4c5a-93d5-a7961a0f3f57\" class=\"sk-toggleable__label sk-toggleable__label-arrow\">columntransformer: ColumnTransformer</label><div class=\"sk-toggleable__content\"><pre>ColumnTransformer(remainder=&#x27;passthrough&#x27;,\n",
       "                  transformers=[(&#x27;OrdinalEncoder&#x27;,\n",
       "                                 OrdinalEncoder(handle_unknown=&#x27;use_encoded_value&#x27;,\n",
       "                                                unknown_value=nan),\n",
       "                                 [&#x27;f_27_0&#x27;, &#x27;f_27_1&#x27;, &#x27;f_27_2&#x27;, &#x27;f_27_3&#x27;,\n",
       "                                  &#x27;f_27_4&#x27;, &#x27;f_27_5&#x27;, &#x27;f_27_6&#x27;, &#x27;f_27_7&#x27;,\n",
       "                                  &#x27;f_27_8&#x27;, &#x27;f_27_9&#x27;])])</pre></div></div></div><div class=\"sk-parallel\"><div class=\"sk-parallel-item\"><div class=\"sk-item\"><div class=\"sk-label-container\"><div class=\"sk-label sk-toggleable\"><input class=\"sk-toggleable__control sk-hidden--visually\" id=\"217597ac-76f6-4612-9179-ff44fcc7b298\" type=\"checkbox\" ><label for=\"217597ac-76f6-4612-9179-ff44fcc7b298\" class=\"sk-toggleable__label sk-toggleable__label-arrow\">OrdinalEncoder</label><div class=\"sk-toggleable__content\"><pre>[&#x27;f_27_0&#x27;, &#x27;f_27_1&#x27;, &#x27;f_27_2&#x27;, &#x27;f_27_3&#x27;, &#x27;f_27_4&#x27;, &#x27;f_27_5&#x27;, &#x27;f_27_6&#x27;, &#x27;f_27_7&#x27;, &#x27;f_27_8&#x27;, &#x27;f_27_9&#x27;]</pre></div></div></div><div class=\"sk-serial\"><div class=\"sk-item\"><div class=\"sk-estimator sk-toggleable\"><input class=\"sk-toggleable__control sk-hidden--visually\" id=\"d1d0b372-acc9-4dda-b529-ee24ab0527b9\" type=\"checkbox\" ><label for=\"d1d0b372-acc9-4dda-b529-ee24ab0527b9\" class=\"sk-toggleable__label sk-toggleable__label-arrow\">OrdinalEncoder</label><div class=\"sk-toggleable__content\"><pre>OrdinalEncoder(handle_unknown=&#x27;use_encoded_value&#x27;, unknown_value=nan)</pre></div></div></div></div></div></div><div class=\"sk-parallel-item\"><div class=\"sk-item\"><div class=\"sk-label-container\"><div class=\"sk-label sk-toggleable\"><input class=\"sk-toggleable__control sk-hidden--visually\" id=\"cc5dbfb8-0707-463c-baa1-1dae0d1b7ed3\" type=\"checkbox\" ><label for=\"cc5dbfb8-0707-463c-baa1-1dae0d1b7ed3\" class=\"sk-toggleable__label sk-toggleable__label-arrow\">remainder</label><div class=\"sk-toggleable__content\"><pre>[&#x27;f_00&#x27;, &#x27;f_01&#x27;, &#x27;f_02&#x27;, &#x27;f_03&#x27;, &#x27;f_04&#x27;, &#x27;f_05&#x27;, &#x27;f_06&#x27;, &#x27;f_07&#x27;, &#x27;f_08&#x27;, &#x27;f_09&#x27;, &#x27;f_10&#x27;, &#x27;f_11&#x27;, &#x27;f_12&#x27;, &#x27;f_13&#x27;, &#x27;f_14&#x27;, &#x27;f_15&#x27;, &#x27;f_16&#x27;, &#x27;f_17&#x27;, &#x27;f_18&#x27;, &#x27;f_19&#x27;, &#x27;f_20&#x27;, &#x27;f_21&#x27;, &#x27;f_22&#x27;, &#x27;f_23&#x27;, &#x27;f_24&#x27;, &#x27;f_25&#x27;, &#x27;f_26&#x27;, &#x27;f_28&#x27;, &#x27;f_29&#x27;, &#x27;f_30&#x27;]</pre></div></div></div><div class=\"sk-serial\"><div class=\"sk-item\"><div class=\"sk-estimator sk-toggleable\"><input class=\"sk-toggleable__control sk-hidden--visually\" id=\"07b80b1c-cdac-444e-8630-0d5f61c2600d\" type=\"checkbox\" ><label for=\"07b80b1c-cdac-444e-8630-0d5f61c2600d\" class=\"sk-toggleable__label sk-toggleable__label-arrow\">passthrough</label><div class=\"sk-toggleable__content\"><pre>passthrough</pre></div></div></div></div></div></div></div></div><div class=\"sk-item\"><div class=\"sk-estimator sk-toggleable\"><input class=\"sk-toggleable__control sk-hidden--visually\" id=\"28a2f814-4c02-4dd9-88d3-b4c4dce30dc4\" type=\"checkbox\" ><label for=\"28a2f814-4c02-4dd9-88d3-b4c4dce30dc4\" class=\"sk-toggleable__label sk-toggleable__label-arrow\">HistGradientBoostingClassifier</label><div class=\"sk-toggleable__content\"><pre>HistGradientBoostingClassifier(early_stopping=True, l2_regularization=0.01,\n",
       "                               max_iter=200, random_state=1)</pre></div></div></div></div></div></div></div>"
      ],
      "text/plain": [
       "Pipeline(steps=[('columntransformer',\n",
       "                 ColumnTransformer(remainder='passthrough',\n",
       "                                   transformers=[('OrdinalEncoder',\n",
       "                                                  OrdinalEncoder(handle_unknown='use_encoded_value',\n",
       "                                                                 unknown_value=nan),\n",
       "                                                  ['f_27_0', 'f_27_1', 'f_27_2',\n",
       "                                                   'f_27_3', 'f_27_4', 'f_27_5',\n",
       "                                                   'f_27_6', 'f_27_7', 'f_27_8',\n",
       "                                                   'f_27_9'])])),\n",
       "                ('histgradientboostingclassifier',\n",
       "                 HistGradientBoostingClassifier(early_stopping=True,\n",
       "                                                l2_regularization=0.01,\n",
       "                                                max_iter=200,\n",
       "                                                random_state=1))])"
      ]
     },
     "execution_count": 14,
     "metadata": {},
     "output_type": "execute_result"
    }
   ],
   "source": [
    "model.set_params(histgradientboostingclassifier__l2_regularization=1e-2)"
   ]
  },
  {
   "cell_type": "code",
   "execution_count": 15,
   "id": "4640dd2c",
   "metadata": {
    "execution": {
     "iopub.execute_input": "2022-06-30T23:14:50.149065Z",
     "iopub.status.busy": "2022-06-30T23:14:50.148746Z",
     "iopub.status.idle": "2022-06-30T23:14:50.153586Z",
     "shell.execute_reply": "2022-06-30T23:14:50.152432Z"
    },
    "papermill": {
     "duration": 0.064275,
     "end_time": "2022-06-30T23:14:50.155976",
     "exception": false,
     "start_time": "2022-06-30T23:14:50.091701",
     "status": "completed"
    },
    "tags": []
   },
   "outputs": [],
   "source": [
    "param_update_funcs = {\n",
    "    'histgradientboostingclassifier__l2_regularization': update_log_param,\n",
    "    'histgradientboostingclassifier__learning_rate': update_log_param,\n",
    "    'histgradientboostingclassifier__max_leaf_nodes': update_int_param,\n",
    "    'histgradientboostingclassifier__min_samples_leaf': update_int_param,\n",
    "}"
   ]
  },
  {
   "cell_type": "code",
   "execution_count": 16,
   "id": "10285564",
   "metadata": {
    "execution": {
     "iopub.execute_input": "2022-06-30T23:14:50.240147Z",
     "iopub.status.busy": "2022-06-30T23:14:50.239841Z",
     "iopub.status.idle": "2022-06-30T23:14:50.251004Z",
     "shell.execute_reply": "2022-06-30T23:14:50.249875Z"
    },
    "papermill": {
     "duration": 0.055548,
     "end_time": "2022-06-30T23:14:50.253136",
     "exception": false,
     "start_time": "2022-06-30T23:14:50.197588",
     "status": "completed"
    },
    "tags": []
   },
   "outputs": [],
   "source": [
    "def batch_train(\n",
    "    model, batch_data, batch_target, param_update_funcs\n",
    "):\n",
    "    # data split, initial fit and score\n",
    "    X_train, X_test, y_train, y_test = train_test_split(\n",
    "        batch_data, batch_target, shuffle=False)\n",
    "    model.fit(X_train, y_train)\n",
    "    loss = log_loss(y_test, model.predict(X_test))\n",
    "\n",
    "    # initiate log\n",
    "    params_log = np.array(\n",
    "        [[model.get_params()[key] for key in param_update_funcs.keys()]])\n",
    "    loss_log = [loss]\n",
    "\n",
    "    # forward pass\n",
    "    for param, update_func in param_update_funcs.items():\n",
    "        cur_val = model.get_params()[param]\n",
    "        new_val = update_func(cur_val)  # \"step\" increase\n",
    "        model.set_params(**{param: new_val})\n",
    "        model.fit(X_train, y_train)\n",
    "        loss = log_loss(y_test, model.predict(X_test))\n",
    "\n",
    "        # log entry\n",
    "        params_log = np.append(\n",
    "            params_log,\n",
    "            np.array(\n",
    "                [[model.get_params()[key] for key in param_update_funcs.keys()]]),\n",
    "            axis=0)\n",
    "        loss_log.append(loss)\n",
    "\n",
    "        # return to the original parameter value\n",
    "        model.set_params(**{param: cur_val})\n",
    "    \n",
    "    log = pd.DataFrame(params_log, columns=param_update_funcs.keys())\n",
    "    log[\"test_loss\"] = loss_log\n",
    "\n",
    "    return log"
   ]
  },
  {
   "cell_type": "code",
   "execution_count": 17,
   "id": "ce9b1d11",
   "metadata": {
    "execution": {
     "iopub.execute_input": "2022-06-30T23:14:50.337760Z",
     "iopub.status.busy": "2022-06-30T23:14:50.337475Z",
     "iopub.status.idle": "2022-06-30T23:15:08.132252Z",
     "shell.execute_reply": "2022-06-30T23:15:08.131054Z"
    },
    "papermill": {
     "duration": 17.840754,
     "end_time": "2022-06-30T23:15:08.134775",
     "exception": false,
     "start_time": "2022-06-30T23:14:50.294021",
     "status": "completed"
    },
    "tags": []
   },
   "outputs": [
    {
     "data": {
      "text/html": [
       "<div>\n",
       "<style scoped>\n",
       "    .dataframe tbody tr th:only-of-type {\n",
       "        vertical-align: middle;\n",
       "    }\n",
       "\n",
       "    .dataframe tbody tr th {\n",
       "        vertical-align: top;\n",
       "    }\n",
       "\n",
       "    .dataframe thead th {\n",
       "        text-align: right;\n",
       "    }\n",
       "</style>\n",
       "<table border=\"1\" class=\"dataframe\">\n",
       "  <thead>\n",
       "    <tr style=\"text-align: right;\">\n",
       "      <th></th>\n",
       "      <th>l2_regularization</th>\n",
       "      <th>learning_rate</th>\n",
       "      <th>max_leaf_nodes</th>\n",
       "      <th>min_samples_leaf</th>\n",
       "      <th>test_loss</th>\n",
       "    </tr>\n",
       "  </thead>\n",
       "  <tbody>\n",
       "    <tr>\n",
       "      <th>0</th>\n",
       "      <td>0.010000</td>\n",
       "      <td>0.100000</td>\n",
       "      <td>31.0</td>\n",
       "      <td>20.0</td>\n",
       "      <td>5.960472</td>\n",
       "    </tr>\n",
       "    <tr>\n",
       "      <th>1</th>\n",
       "      <td>0.010715</td>\n",
       "      <td>0.100000</td>\n",
       "      <td>31.0</td>\n",
       "      <td>20.0</td>\n",
       "      <td>6.355210</td>\n",
       "    </tr>\n",
       "    <tr>\n",
       "      <th>2</th>\n",
       "      <td>0.010000</td>\n",
       "      <td>0.107152</td>\n",
       "      <td>31.0</td>\n",
       "      <td>20.0</td>\n",
       "      <td>6.098631</td>\n",
       "    </tr>\n",
       "    <tr>\n",
       "      <th>3</th>\n",
       "      <td>0.010000</td>\n",
       "      <td>0.100000</td>\n",
       "      <td>33.0</td>\n",
       "      <td>20.0</td>\n",
       "      <td>6.355206</td>\n",
       "    </tr>\n",
       "    <tr>\n",
       "      <th>4</th>\n",
       "      <td>0.010000</td>\n",
       "      <td>0.100000</td>\n",
       "      <td>31.0</td>\n",
       "      <td>22.0</td>\n",
       "      <td>5.920998</td>\n",
       "    </tr>\n",
       "  </tbody>\n",
       "</table>\n",
       "</div>"
      ],
      "text/plain": [
       "   l2_regularization  learning_rate  max_leaf_nodes  min_samples_leaf  \\\n",
       "0           0.010000       0.100000            31.0              20.0   \n",
       "1           0.010715       0.100000            31.0              20.0   \n",
       "2           0.010000       0.107152            31.0              20.0   \n",
       "3           0.010000       0.100000            33.0              20.0   \n",
       "4           0.010000       0.100000            31.0              22.0   \n",
       "\n",
       "   test_loss  \n",
       "0   5.960472  \n",
       "1   6.355210  \n",
       "2   6.098631  \n",
       "3   6.355206  \n",
       "4   5.920998  "
      ]
     },
     "execution_count": 17,
     "metadata": {},
     "output_type": "execute_result"
    }
   ],
   "source": [
    "log = batch_train(model, test_batch_data, test_batch_target, param_update_funcs)\n",
    "log.rename(columns={item:item.split(\"__\")[-1] for item in log.columns})"
   ]
  },
  {
   "cell_type": "code",
   "execution_count": 18,
   "id": "c7541e96",
   "metadata": {
    "execution": {
     "iopub.execute_input": "2022-06-30T23:15:08.219853Z",
     "iopub.status.busy": "2022-06-30T23:15:08.219568Z",
     "iopub.status.idle": "2022-06-30T23:15:08.228620Z",
     "shell.execute_reply": "2022-06-30T23:15:08.227595Z"
    },
    "papermill": {
     "duration": 0.053783,
     "end_time": "2022-06-30T23:15:08.230856",
     "exception": false,
     "start_time": "2022-06-30T23:15:08.177073",
     "status": "completed"
    },
    "tags": []
   },
   "outputs": [],
   "source": [
    "def update_params(log, param_update_funcs):\n",
    "    d_losses = log[\"test_loss\"][1:] - log[\"test_loss\"][0]\n",
    "    new_params = {}\n",
    "    for i, dl in enumerate(d_losses):\n",
    "        if np.allclose(0, dl):\n",
    "            new_params[log.iloc[:, i].name] = log.iloc[:, i][0]\n",
    "#             continue  # go to next iteration\n",
    "        elif dl < 0:\n",
    "            new_params[log.iloc[:, i].name] = \\\n",
    "            param_update_funcs[log.iloc[:, i].name](log.iloc[0, i])\n",
    "#             log.iloc[:, i][0] + log.iloc[:, i].diff().max()\n",
    "        else:\n",
    "            new_by = - param_update_funcs[log.iloc[:, i].name].__defaults__[-1]\n",
    "            new_params[log.iloc[:, i].name] = \\\n",
    "            param_update_funcs[log.iloc[:, i].name](log.iloc[0, i], by=new_by)\n",
    "#             log.iloc[:, i][0] - log.iloc[:, i].diff().max()\n",
    "    return new_params"
   ]
  },
  {
   "cell_type": "code",
   "execution_count": 19,
   "id": "1a421fe5",
   "metadata": {
    "execution": {
     "iopub.execute_input": "2022-06-30T23:15:08.316061Z",
     "iopub.status.busy": "2022-06-30T23:15:08.315729Z",
     "iopub.status.idle": "2022-06-30T23:15:08.325638Z",
     "shell.execute_reply": "2022-06-30T23:15:08.324697Z"
    },
    "papermill": {
     "duration": 0.055632,
     "end_time": "2022-06-30T23:15:08.327844",
     "exception": false,
     "start_time": "2022-06-30T23:15:08.272212",
     "status": "completed"
    },
    "tags": []
   },
   "outputs": [
    {
     "data": {
      "text/plain": [
       "{'histgradientboostingclassifier__l2_regularization': 0.009332543007969912,\n",
       " 'histgradientboostingclassifier__learning_rate': 0.09332543007969915,\n",
       " 'histgradientboostingclassifier__max_leaf_nodes': 29,\n",
       " 'histgradientboostingclassifier__min_samples_leaf': 22}"
      ]
     },
     "execution_count": 19,
     "metadata": {},
     "output_type": "execute_result"
    }
   ],
   "source": [
    "new_params = update_params(log, param_update_funcs)\n",
    "new_params"
   ]
  },
  {
   "cell_type": "code",
   "execution_count": 20,
   "id": "dc3ba9d6",
   "metadata": {
    "execution": {
     "iopub.execute_input": "2022-06-30T23:15:08.416695Z",
     "iopub.status.busy": "2022-06-30T23:15:08.416404Z",
     "iopub.status.idle": "2022-06-30T23:15:08.444009Z",
     "shell.execute_reply": "2022-06-30T23:15:08.443074Z"
    },
    "papermill": {
     "duration": 0.074962,
     "end_time": "2022-06-30T23:15:08.446390",
     "exception": false,
     "start_time": "2022-06-30T23:15:08.371428",
     "status": "completed"
    },
    "tags": []
   },
   "outputs": [
    {
     "data": {
      "text/html": [
       "<style>#sk-04e93aca-74c3-4cb4-83ee-e3a7eabba9b6 {color: black;background-color: white;}#sk-04e93aca-74c3-4cb4-83ee-e3a7eabba9b6 pre{padding: 0;}#sk-04e93aca-74c3-4cb4-83ee-e3a7eabba9b6 div.sk-toggleable {background-color: white;}#sk-04e93aca-74c3-4cb4-83ee-e3a7eabba9b6 label.sk-toggleable__label {cursor: pointer;display: block;width: 100%;margin-bottom: 0;padding: 0.3em;box-sizing: border-box;text-align: center;}#sk-04e93aca-74c3-4cb4-83ee-e3a7eabba9b6 label.sk-toggleable__label-arrow:before {content: \"▸\";float: left;margin-right: 0.25em;color: #696969;}#sk-04e93aca-74c3-4cb4-83ee-e3a7eabba9b6 label.sk-toggleable__label-arrow:hover:before {color: black;}#sk-04e93aca-74c3-4cb4-83ee-e3a7eabba9b6 div.sk-estimator:hover label.sk-toggleable__label-arrow:before {color: black;}#sk-04e93aca-74c3-4cb4-83ee-e3a7eabba9b6 div.sk-toggleable__content {max-height: 0;max-width: 0;overflow: hidden;text-align: left;background-color: #f0f8ff;}#sk-04e93aca-74c3-4cb4-83ee-e3a7eabba9b6 div.sk-toggleable__content pre {margin: 0.2em;color: black;border-radius: 0.25em;background-color: #f0f8ff;}#sk-04e93aca-74c3-4cb4-83ee-e3a7eabba9b6 input.sk-toggleable__control:checked~div.sk-toggleable__content {max-height: 200px;max-width: 100%;overflow: auto;}#sk-04e93aca-74c3-4cb4-83ee-e3a7eabba9b6 input.sk-toggleable__control:checked~label.sk-toggleable__label-arrow:before {content: \"▾\";}#sk-04e93aca-74c3-4cb4-83ee-e3a7eabba9b6 div.sk-estimator input.sk-toggleable__control:checked~label.sk-toggleable__label {background-color: #d4ebff;}#sk-04e93aca-74c3-4cb4-83ee-e3a7eabba9b6 div.sk-label input.sk-toggleable__control:checked~label.sk-toggleable__label {background-color: #d4ebff;}#sk-04e93aca-74c3-4cb4-83ee-e3a7eabba9b6 input.sk-hidden--visually {border: 0;clip: rect(1px 1px 1px 1px);clip: rect(1px, 1px, 1px, 1px);height: 1px;margin: -1px;overflow: hidden;padding: 0;position: absolute;width: 1px;}#sk-04e93aca-74c3-4cb4-83ee-e3a7eabba9b6 div.sk-estimator {font-family: monospace;background-color: #f0f8ff;border: 1px dotted black;border-radius: 0.25em;box-sizing: border-box;margin-bottom: 0.5em;}#sk-04e93aca-74c3-4cb4-83ee-e3a7eabba9b6 div.sk-estimator:hover {background-color: #d4ebff;}#sk-04e93aca-74c3-4cb4-83ee-e3a7eabba9b6 div.sk-parallel-item::after {content: \"\";width: 100%;border-bottom: 1px solid gray;flex-grow: 1;}#sk-04e93aca-74c3-4cb4-83ee-e3a7eabba9b6 div.sk-label:hover label.sk-toggleable__label {background-color: #d4ebff;}#sk-04e93aca-74c3-4cb4-83ee-e3a7eabba9b6 div.sk-serial::before {content: \"\";position: absolute;border-left: 1px solid gray;box-sizing: border-box;top: 2em;bottom: 0;left: 50%;}#sk-04e93aca-74c3-4cb4-83ee-e3a7eabba9b6 div.sk-serial {display: flex;flex-direction: column;align-items: center;background-color: white;padding-right: 0.2em;padding-left: 0.2em;}#sk-04e93aca-74c3-4cb4-83ee-e3a7eabba9b6 div.sk-item {z-index: 1;}#sk-04e93aca-74c3-4cb4-83ee-e3a7eabba9b6 div.sk-parallel {display: flex;align-items: stretch;justify-content: center;background-color: white;}#sk-04e93aca-74c3-4cb4-83ee-e3a7eabba9b6 div.sk-parallel::before {content: \"\";position: absolute;border-left: 1px solid gray;box-sizing: border-box;top: 2em;bottom: 0;left: 50%;}#sk-04e93aca-74c3-4cb4-83ee-e3a7eabba9b6 div.sk-parallel-item {display: flex;flex-direction: column;position: relative;background-color: white;}#sk-04e93aca-74c3-4cb4-83ee-e3a7eabba9b6 div.sk-parallel-item:first-child::after {align-self: flex-end;width: 50%;}#sk-04e93aca-74c3-4cb4-83ee-e3a7eabba9b6 div.sk-parallel-item:last-child::after {align-self: flex-start;width: 50%;}#sk-04e93aca-74c3-4cb4-83ee-e3a7eabba9b6 div.sk-parallel-item:only-child::after {width: 0;}#sk-04e93aca-74c3-4cb4-83ee-e3a7eabba9b6 div.sk-dashed-wrapped {border: 1px dashed gray;margin: 0 0.4em 0.5em 0.4em;box-sizing: border-box;padding-bottom: 0.4em;background-color: white;position: relative;}#sk-04e93aca-74c3-4cb4-83ee-e3a7eabba9b6 div.sk-label label {font-family: monospace;font-weight: bold;background-color: white;display: inline-block;line-height: 1.2em;}#sk-04e93aca-74c3-4cb4-83ee-e3a7eabba9b6 div.sk-label-container {position: relative;z-index: 2;text-align: center;}#sk-04e93aca-74c3-4cb4-83ee-e3a7eabba9b6 div.sk-container {/* jupyter's `normalize.less` sets `[hidden] { display: none; }` but bootstrap.min.css set `[hidden] { display: none !important; }` so we also need the `!important` here to be able to override the default hidden behavior on the sphinx rendered scikit-learn.org. See: https://github.com/scikit-learn/scikit-learn/issues/21755 */display: inline-block !important;position: relative;}#sk-04e93aca-74c3-4cb4-83ee-e3a7eabba9b6 div.sk-text-repr-fallback {display: none;}</style><div id=\"sk-04e93aca-74c3-4cb4-83ee-e3a7eabba9b6\" class=\"sk-top-container\"><div class=\"sk-text-repr-fallback\"><pre>Pipeline(steps=[(&#x27;columntransformer&#x27;,\n",
       "                 ColumnTransformer(remainder=&#x27;passthrough&#x27;,\n",
       "                                   transformers=[(&#x27;OrdinalEncoder&#x27;,\n",
       "                                                  OrdinalEncoder(handle_unknown=&#x27;use_encoded_value&#x27;,\n",
       "                                                                 unknown_value=nan),\n",
       "                                                  [&#x27;f_27_0&#x27;, &#x27;f_27_1&#x27;, &#x27;f_27_2&#x27;,\n",
       "                                                   &#x27;f_27_3&#x27;, &#x27;f_27_4&#x27;, &#x27;f_27_5&#x27;,\n",
       "                                                   &#x27;f_27_6&#x27;, &#x27;f_27_7&#x27;, &#x27;f_27_8&#x27;,\n",
       "                                                   &#x27;f_27_9&#x27;])])),\n",
       "                (&#x27;histgradientboostingclassifier&#x27;,\n",
       "                 HistGradientBoostingClassifier(early_stopping=True,\n",
       "                                                l2_regularization=0.01,\n",
       "                                                max_iter=200,\n",
       "                                                random_state=1))])</pre><b>Please rerun this cell to show the HTML repr or trust the notebook.</b></div><div class=\"sk-container\" hidden><div class=\"sk-item sk-dashed-wrapped\"><div class=\"sk-label-container\"><div class=\"sk-label sk-toggleable\"><input class=\"sk-toggleable__control sk-hidden--visually\" id=\"40324405-a055-479b-9c46-10fa6d34a4fa\" type=\"checkbox\" ><label for=\"40324405-a055-479b-9c46-10fa6d34a4fa\" class=\"sk-toggleable__label sk-toggleable__label-arrow\">Pipeline</label><div class=\"sk-toggleable__content\"><pre>Pipeline(steps=[(&#x27;columntransformer&#x27;,\n",
       "                 ColumnTransformer(remainder=&#x27;passthrough&#x27;,\n",
       "                                   transformers=[(&#x27;OrdinalEncoder&#x27;,\n",
       "                                                  OrdinalEncoder(handle_unknown=&#x27;use_encoded_value&#x27;,\n",
       "                                                                 unknown_value=nan),\n",
       "                                                  [&#x27;f_27_0&#x27;, &#x27;f_27_1&#x27;, &#x27;f_27_2&#x27;,\n",
       "                                                   &#x27;f_27_3&#x27;, &#x27;f_27_4&#x27;, &#x27;f_27_5&#x27;,\n",
       "                                                   &#x27;f_27_6&#x27;, &#x27;f_27_7&#x27;, &#x27;f_27_8&#x27;,\n",
       "                                                   &#x27;f_27_9&#x27;])])),\n",
       "                (&#x27;histgradientboostingclassifier&#x27;,\n",
       "                 HistGradientBoostingClassifier(early_stopping=True,\n",
       "                                                l2_regularization=0.01,\n",
       "                                                max_iter=200,\n",
       "                                                random_state=1))])</pre></div></div></div><div class=\"sk-serial\"><div class=\"sk-item sk-dashed-wrapped\"><div class=\"sk-label-container\"><div class=\"sk-label sk-toggleable\"><input class=\"sk-toggleable__control sk-hidden--visually\" id=\"77e65bab-c4c2-4b27-ad2d-c33914ed5464\" type=\"checkbox\" ><label for=\"77e65bab-c4c2-4b27-ad2d-c33914ed5464\" class=\"sk-toggleable__label sk-toggleable__label-arrow\">columntransformer: ColumnTransformer</label><div class=\"sk-toggleable__content\"><pre>ColumnTransformer(remainder=&#x27;passthrough&#x27;,\n",
       "                  transformers=[(&#x27;OrdinalEncoder&#x27;,\n",
       "                                 OrdinalEncoder(handle_unknown=&#x27;use_encoded_value&#x27;,\n",
       "                                                unknown_value=nan),\n",
       "                                 [&#x27;f_27_0&#x27;, &#x27;f_27_1&#x27;, &#x27;f_27_2&#x27;, &#x27;f_27_3&#x27;,\n",
       "                                  &#x27;f_27_4&#x27;, &#x27;f_27_5&#x27;, &#x27;f_27_6&#x27;, &#x27;f_27_7&#x27;,\n",
       "                                  &#x27;f_27_8&#x27;, &#x27;f_27_9&#x27;])])</pre></div></div></div><div class=\"sk-parallel\"><div class=\"sk-parallel-item\"><div class=\"sk-item\"><div class=\"sk-label-container\"><div class=\"sk-label sk-toggleable\"><input class=\"sk-toggleable__control sk-hidden--visually\" id=\"20408c7c-8fe8-4026-b6bb-d3f8989d2edf\" type=\"checkbox\" ><label for=\"20408c7c-8fe8-4026-b6bb-d3f8989d2edf\" class=\"sk-toggleable__label sk-toggleable__label-arrow\">OrdinalEncoder</label><div class=\"sk-toggleable__content\"><pre>[&#x27;f_27_0&#x27;, &#x27;f_27_1&#x27;, &#x27;f_27_2&#x27;, &#x27;f_27_3&#x27;, &#x27;f_27_4&#x27;, &#x27;f_27_5&#x27;, &#x27;f_27_6&#x27;, &#x27;f_27_7&#x27;, &#x27;f_27_8&#x27;, &#x27;f_27_9&#x27;]</pre></div></div></div><div class=\"sk-serial\"><div class=\"sk-item\"><div class=\"sk-estimator sk-toggleable\"><input class=\"sk-toggleable__control sk-hidden--visually\" id=\"6e60dddb-6cb2-4613-b349-ea7c372b966a\" type=\"checkbox\" ><label for=\"6e60dddb-6cb2-4613-b349-ea7c372b966a\" class=\"sk-toggleable__label sk-toggleable__label-arrow\">OrdinalEncoder</label><div class=\"sk-toggleable__content\"><pre>OrdinalEncoder(handle_unknown=&#x27;use_encoded_value&#x27;, unknown_value=nan)</pre></div></div></div></div></div></div><div class=\"sk-parallel-item\"><div class=\"sk-item\"><div class=\"sk-label-container\"><div class=\"sk-label sk-toggleable\"><input class=\"sk-toggleable__control sk-hidden--visually\" id=\"3f486c4d-0f38-4c8f-a5be-630ba9b460e1\" type=\"checkbox\" ><label for=\"3f486c4d-0f38-4c8f-a5be-630ba9b460e1\" class=\"sk-toggleable__label sk-toggleable__label-arrow\">remainder</label><div class=\"sk-toggleable__content\"><pre>[&#x27;f_00&#x27;, &#x27;f_01&#x27;, &#x27;f_02&#x27;, &#x27;f_03&#x27;, &#x27;f_04&#x27;, &#x27;f_05&#x27;, &#x27;f_06&#x27;, &#x27;f_07&#x27;, &#x27;f_08&#x27;, &#x27;f_09&#x27;, &#x27;f_10&#x27;, &#x27;f_11&#x27;, &#x27;f_12&#x27;, &#x27;f_13&#x27;, &#x27;f_14&#x27;, &#x27;f_15&#x27;, &#x27;f_16&#x27;, &#x27;f_17&#x27;, &#x27;f_18&#x27;, &#x27;f_19&#x27;, &#x27;f_20&#x27;, &#x27;f_21&#x27;, &#x27;f_22&#x27;, &#x27;f_23&#x27;, &#x27;f_24&#x27;, &#x27;f_25&#x27;, &#x27;f_26&#x27;, &#x27;f_28&#x27;, &#x27;f_29&#x27;, &#x27;f_30&#x27;]</pre></div></div></div><div class=\"sk-serial\"><div class=\"sk-item\"><div class=\"sk-estimator sk-toggleable\"><input class=\"sk-toggleable__control sk-hidden--visually\" id=\"ce179310-315a-4f4e-88fc-2b31907e8371\" type=\"checkbox\" ><label for=\"ce179310-315a-4f4e-88fc-2b31907e8371\" class=\"sk-toggleable__label sk-toggleable__label-arrow\">passthrough</label><div class=\"sk-toggleable__content\"><pre>passthrough</pre></div></div></div></div></div></div></div></div><div class=\"sk-item\"><div class=\"sk-estimator sk-toggleable\"><input class=\"sk-toggleable__control sk-hidden--visually\" id=\"0bcf8dbc-d5b5-44c9-a04f-e589e0672b22\" type=\"checkbox\" ><label for=\"0bcf8dbc-d5b5-44c9-a04f-e589e0672b22\" class=\"sk-toggleable__label sk-toggleable__label-arrow\">HistGradientBoostingClassifier</label><div class=\"sk-toggleable__content\"><pre>HistGradientBoostingClassifier(early_stopping=True, l2_regularization=0.01,\n",
       "                               max_iter=200, random_state=1)</pre></div></div></div></div></div></div></div>"
      ],
      "text/plain": [
       "Pipeline(steps=[('columntransformer',\n",
       "                 ColumnTransformer(remainder='passthrough',\n",
       "                                   transformers=[('OrdinalEncoder',\n",
       "                                                  OrdinalEncoder(handle_unknown='use_encoded_value',\n",
       "                                                                 unknown_value=nan),\n",
       "                                                  ['f_27_0', 'f_27_1', 'f_27_2',\n",
       "                                                   'f_27_3', 'f_27_4', 'f_27_5',\n",
       "                                                   'f_27_6', 'f_27_7', 'f_27_8',\n",
       "                                                   'f_27_9'])])),\n",
       "                ('histgradientboostingclassifier',\n",
       "                 HistGradientBoostingClassifier(early_stopping=True,\n",
       "                                                l2_regularization=0.01,\n",
       "                                                max_iter=200,\n",
       "                                                random_state=1))])"
      ]
     },
     "execution_count": 20,
     "metadata": {},
     "output_type": "execute_result"
    }
   ],
   "source": [
    "ref_estimator = HistGradientBoostingClassifier(\n",
    "    max_iter=200, early_stopping=True, random_state=1)\n",
    "\n",
    "ref_model = make_pipeline(preprocessor, ref_estimator)\n",
    "ref_model.set_params(histgradientboostingclassifier__l2_regularization=1e-2)"
   ]
  },
  {
   "cell_type": "code",
   "execution_count": 21,
   "id": "a451f8c8",
   "metadata": {
    "execution": {
     "iopub.execute_input": "2022-06-30T23:15:08.532392Z",
     "iopub.status.busy": "2022-06-30T23:15:08.532101Z",
     "iopub.status.idle": "2022-06-30T23:15:08.546393Z",
     "shell.execute_reply": "2022-06-30T23:15:08.545212Z"
    },
    "papermill": {
     "duration": 0.059779,
     "end_time": "2022-06-30T23:15:08.548660",
     "exception": false,
     "start_time": "2022-06-30T23:15:08.488881",
     "status": "completed"
    },
    "tags": []
   },
   "outputs": [],
   "source": [
    "def train_epoch(model, ref_model, data, target, param_update_funcs,\n",
    "                batch_size=50_000, verbose=None):\n",
    "    \"\"\"\"\"\"\n",
    "    params_log = np.array(\n",
    "        [[model.get_params()[key] for key in param_update_funcs.keys()]])\n",
    "    loss_log, acc_log = [], []\n",
    "    ref_loss_log, ref_acc_log = [], []\n",
    "\n",
    "    data_generator = feed_batch(data, size=batch_size)\n",
    "    target_generator = feed_batch(target, size=batch_size)\n",
    "\n",
    "    for batch_idx, (batch_data, batch_target) in enumerate(\n",
    "        zip(data_generator, target_generator)):\n",
    "        batch_log = batch_train(model, batch_data,batch_target,\n",
    "                                param_update_funcs)\n",
    "        updated_params = update_params(batch_log, param_update_funcs)\n",
    "        model.set_params(**updated_params)\n",
    "\n",
    "        # get log entries\n",
    "        X_train, X_test, y_train, y_test = train_test_split(\n",
    "            batch_data, batch_target, shuffle=False)\n",
    "        model.fit(X_train, y_train)\n",
    "        loss = log_loss(y_test, model.predict(X_test))\n",
    "        acc = model.score(X_test, y_test)\n",
    "\n",
    "        ref_model.fit(X_train, y_train)\n",
    "        ref_loss = log_loss(y_test, ref_model.predict(X_test))\n",
    "        ref_acc = ref_model.score(X_test, y_test)\n",
    "    \n",
    "        # log\n",
    "        params_log = np.append(\n",
    "            params_log,\n",
    "            np.array(\n",
    "                [[model.get_params()[key] for key in param_update_funcs.keys()]]),\n",
    "            axis=0)\n",
    "        loss_log.append(loss), acc_log.append(acc)\n",
    "        ref_loss_log.append(ref_loss), ref_acc_log.append(ref_acc)\n",
    "\n",
    "        if verbose:\n",
    "            print(f\"Batch {batch_idx}: test_loss: {loss:.4f}, test_accuracy: {acc:.4f}\")\n",
    "        \n",
    "    total_log = pd.DataFrame(params_log[1:], columns=param_update_funcs.keys())\n",
    "    total_log[\"test_loss\"] = loss_log\n",
    "    total_log[\"test_accuracy\"] = acc_log\n",
    "    total_log[\"ref_test_loss\"] = ref_loss_log\n",
    "    total_log[\"ref_test_accuracy\"] = ref_acc_log\n",
    "    return total_log"
   ]
  },
  {
   "cell_type": "code",
   "execution_count": 22,
   "id": "ec357b7e",
   "metadata": {
    "execution": {
     "iopub.execute_input": "2022-06-30T23:15:08.635535Z",
     "iopub.status.busy": "2022-06-30T23:15:08.635226Z",
     "iopub.status.idle": "2022-06-30T23:35:29.764137Z",
     "shell.execute_reply": "2022-06-30T23:35:29.761375Z"
    },
    "papermill": {
     "duration": 1221.17611,
     "end_time": "2022-06-30T23:35:29.766778",
     "exception": false,
     "start_time": "2022-06-30T23:15:08.590668",
     "status": "completed"
    },
    "tags": []
   },
   "outputs": [
    {
     "name": "stdout",
     "output_type": "stream",
     "text": [
      "[CV] END .................................................... total time= 3.7min\n",
      "Batch 0: test_loss: 5.0842, test_accuracy: 0.8528\n",
      "Batch 1: test_loss: 5.3812, test_accuracy: 0.8442\n",
      "Batch 2: test_loss: 5.6713, test_accuracy: 0.8358\n",
      "Batch 3: test_loss: 5.0703, test_accuracy: 0.8532\n",
      "Batch 4: test_loss: 5.2638, test_accuracy: 0.8476\n",
      "Batch 5: test_loss: 5.3881, test_accuracy: 0.8440\n",
      "Batch 6: test_loss: 5.4641, test_accuracy: 0.8418\n",
      "Batch 7: test_loss: 5.5055, test_accuracy: 0.8406\n",
      "[CV] END .................................................... total time= 3.6min\n",
      "[CV] END .................................................... total time= 2.5min\n",
      "[CV] END .................................................... total time= 3.7min\n",
      "[CV] END .................................................... total time= 2.4min\n",
      "Batch 8: test_loss: 5.4917, test_accuracy: 0.8410\n",
      "Batch 9: test_loss: 5.3259, test_accuracy: 0.8458\n",
      "Batch 10: test_loss: 4.8493, test_accuracy: 0.8596\n",
      "Batch 11: test_loss: 5.1740, test_accuracy: 0.8502\n",
      "Batch 12: test_loss: 5.3536, test_accuracy: 0.8450\n",
      "Batch 13: test_loss: 5.2845, test_accuracy: 0.8470\n",
      "Batch 14: test_loss: 5.1671, test_accuracy: 0.8504\n",
      "Batch 15: test_loss: 5.0773, test_accuracy: 0.8530\n",
      "Batch 16: test_loss: 5.3536, test_accuracy: 0.8450\n",
      "Batch 17: test_loss: 5.2154, test_accuracy: 0.8490\n",
      "Batch 18: test_loss: 5.2569, test_accuracy: 0.8478\n",
      "Batch 19: test_loss: 5.4296, test_accuracy: 0.8428\n",
      "Batch 20: test_loss: 5.1394, test_accuracy: 0.8512\n",
      "Batch 21: test_loss: 5.2569, test_accuracy: 0.8478\n",
      "Batch 22: test_loss: 5.3052, test_accuracy: 0.8464\n",
      "Batch 23: test_loss: 5.3881, test_accuracy: 0.8440\n",
      "Batch 24: test_loss: 5.1049, test_accuracy: 0.8522\n",
      "Batch 25: test_loss: 5.2292, test_accuracy: 0.8486\n",
      "Batch 26: test_loss: 5.5884, test_accuracy: 0.8382\n",
      "Batch 27: test_loss: 5.2776, test_accuracy: 0.8472\n",
      "Batch 28: test_loss: 5.3674, test_accuracy: 0.8446\n",
      "Batch 29: test_loss: 5.1394, test_accuracy: 0.8512\n",
      "Batch 30: test_loss: 5.4019, test_accuracy: 0.8436\n",
      "Batch 31: test_loss: 5.4019, test_accuracy: 0.8436\n",
      "Batch 32: test_loss: 5.1947, test_accuracy: 0.8496\n",
      "Batch 33: test_loss: 5.4157, test_accuracy: 0.8432\n",
      "Batch 34: test_loss: 5.2430, test_accuracy: 0.8482\n",
      "Batch 35: test_loss: 5.4019, test_accuracy: 0.8436\n",
      "Batch 36: test_loss: 5.1532, test_accuracy: 0.8508\n",
      "Batch 37: test_loss: 5.3259, test_accuracy: 0.8458\n",
      "Batch 38: test_loss: 5.4226, test_accuracy: 0.8430\n",
      "Batch 39: test_loss: 5.3950, test_accuracy: 0.8438\n",
      "Batch 40: test_loss: 5.4365, test_accuracy: 0.8426\n",
      "Batch 41: test_loss: 5.8993, test_accuracy: 0.8292\n",
      "Batch 42: test_loss: 5.1187, test_accuracy: 0.8518\n",
      "Batch 43: test_loss: 5.1878, test_accuracy: 0.8498\n",
      "Batch 44: test_loss: 5.7128, test_accuracy: 0.8346\n"
     ]
    }
   ],
   "source": [
    "total_log = train_epoch(model, ref_model, train_data, train_target, param_update_funcs,\n",
    "                        batch_size=20_000, verbose=True)"
   ]
  },
  {
   "cell_type": "code",
   "execution_count": 23,
   "id": "8eb061b0",
   "metadata": {
    "execution": {
     "iopub.execute_input": "2022-06-30T23:35:29.892655Z",
     "iopub.status.busy": "2022-06-30T23:35:29.891973Z",
     "iopub.status.idle": "2022-06-30T23:35:29.897360Z",
     "shell.execute_reply": "2022-06-30T23:35:29.896319Z"
    },
    "papermill": {
     "duration": 0.071978,
     "end_time": "2022-06-30T23:35:29.899482",
     "exception": false,
     "start_time": "2022-06-30T23:35:29.827504",
     "status": "completed"
    },
    "tags": []
   },
   "outputs": [],
   "source": [
    "# total_log.rename(columns={item:item.split(\"__\")[-1] for item in log.columns}, inplace=True)\n",
    "# total_log.describe()"
   ]
  },
  {
   "cell_type": "markdown",
   "id": "de04305b",
   "metadata": {
    "papermill": {
     "duration": 0.05962,
     "end_time": "2022-06-30T23:35:30.024957",
     "exception": false,
     "start_time": "2022-06-30T23:35:29.965337",
     "status": "completed"
    },
    "tags": []
   },
   "source": [
    "## Any learning happened?"
   ]
  },
  {
   "cell_type": "code",
   "execution_count": 24,
   "id": "1efbdcb6",
   "metadata": {
    "execution": {
     "iopub.execute_input": "2022-06-30T23:35:30.150270Z",
     "iopub.status.busy": "2022-06-30T23:35:30.149963Z",
     "iopub.status.idle": "2022-06-30T23:35:30.157419Z",
     "shell.execute_reply": "2022-06-30T23:35:30.156261Z"
    },
    "papermill": {
     "duration": 0.071784,
     "end_time": "2022-06-30T23:35:30.160038",
     "exception": false,
     "start_time": "2022-06-30T23:35:30.088254",
     "status": "completed"
    },
    "tags": []
   },
   "outputs": [],
   "source": [
    "import matplotlib.pyplot as plt\n",
    "import seaborn as sns\n",
    "sns.set_style(\"ticks\")"
   ]
  },
  {
   "cell_type": "code",
   "execution_count": 25,
   "id": "6db8446b",
   "metadata": {
    "execution": {
     "iopub.execute_input": "2022-06-30T23:35:30.284396Z",
     "iopub.status.busy": "2022-06-30T23:35:30.284105Z",
     "iopub.status.idle": "2022-06-30T23:35:30.612226Z",
     "shell.execute_reply": "2022-06-30T23:35:30.611232Z"
    },
    "papermill": {
     "duration": 0.392316,
     "end_time": "2022-06-30T23:35:30.614502",
     "exception": false,
     "start_time": "2022-06-30T23:35:30.222186",
     "status": "completed"
    },
    "tags": []
   },
   "outputs": [
    {
     "data": {
      "text/plain": [
       "<AxesSubplot:xlabel='variable', ylabel='value'>"
      ]
     },
     "execution_count": 25,
     "metadata": {},
     "output_type": "execute_result"
    },
    {
     "data": {
      "image/png": "[encoded data removed]",
      "text/plain": [
       "<Figure size 432x288 with 1 Axes>"
      ]
     },
     "metadata": {},
     "output_type": "display_data"
    }
   ],
   "source": [
    "sns.boxplot(data=total_log[[\"test_accuracy\", \"ref_test_accuracy\"]].melt(), x=\"variable\", y=\"value\")"
   ]
  },
  {
   "cell_type": "code",
   "execution_count": 26,
   "id": "db2a7298",
   "metadata": {
    "execution": {
     "iopub.execute_input": "2022-06-30T23:35:30.745120Z",
     "iopub.status.busy": "2022-06-30T23:35:30.744783Z",
     "iopub.status.idle": "2022-06-30T23:35:30.755445Z",
     "shell.execute_reply": "2022-06-30T23:35:30.754071Z"
    },
    "papermill": {
     "duration": 0.081534,
     "end_time": "2022-06-30T23:35:30.758360",
     "exception": false,
     "start_time": "2022-06-30T23:35:30.676826",
     "status": "completed"
    },
    "tags": []
   },
   "outputs": [
    {
     "data": {
      "text/plain": [
       "[('histgradientboostingclassifier__l2_regularization', 0.007079457843841376),\n",
       " ('histgradientboostingclassifier__learning_rate', 0.14125375446227553),\n",
       " ('histgradientboostingclassifier__max_leaf_nodes', 17),\n",
       " ('histgradientboostingclassifier__min_samples_leaf', 14)]"
      ]
     },
     "execution_count": 26,
     "metadata": {},
     "output_type": "execute_result"
    }
   ],
   "source": [
    "[(key, model.get_params()[key]) for key in param_update_funcs.keys()]"
   ]
  },
  {
   "cell_type": "code",
   "execution_count": 27,
   "id": "818066d7",
   "metadata": {
    "execution": {
     "iopub.execute_input": "2022-06-30T23:35:30.883257Z",
     "iopub.status.busy": "2022-06-30T23:35:30.882953Z",
     "iopub.status.idle": "2022-06-30T23:35:33.094295Z",
     "shell.execute_reply": "2022-06-30T23:35:33.093566Z"
    },
    "papermill": {
     "duration": 2.27907,
     "end_time": "2022-06-30T23:35:33.098435",
     "exception": false,
     "start_time": "2022-06-30T23:35:30.819365",
     "status": "completed"
    },
    "tags": []
   },
   "outputs": [
    {
     "data": {
      "image/png": "[encoded data removed]",
      "text/plain": [
       "<Figure size 864x864 with 6 Axes>"
      ]
     },
     "metadata": {},
     "output_type": "display_data"
    }
   ],
   "source": [
    "fig, axes = plt.subplots(6,1, figsize=(12, 12), sharex=True,\n",
    "                         tight_layout=True,)\n",
    "for idx, col in enumerate(total_log.columns[:-2]):\n",
    "    axes[idx].plot(range(45), total_log[col])\n",
    "    if (idx >3):\n",
    "         axes[idx].plot(range(45), total_log.iloc[:, idx+2], ls=\"--\")\n",
    "    else:\n",
    "        axes[idx].axhline(ref_model.get_params()[total_log.iloc[:, idx].name], ls=\"--\")\n",
    "    axes[idx].set_ylabel(col)\n",
    "    axes[idx].grid(True)\n",
    "axes[idx].set_xlabel(\"Batch No.\")\n",
    "axes[idx].set_xticks(range(45))\n",
    "plt.show()"
   ]
  },
  {
   "cell_type": "markdown",
   "id": "75fc9b35",
   "metadata": {
    "papermill": {
     "duration": 0.087044,
     "end_time": "2022-06-30T23:35:33.261198",
     "exception": false,
     "start_time": "2022-06-30T23:35:33.174154",
     "status": "completed"
    },
    "tags": []
   },
   "source": []
  },
  {
   "cell_type": "code",
   "execution_count": null,
   "id": "5ddfcdc3",
   "metadata": {
    "papermill": {
     "duration": 0.071688,
     "end_time": "2022-06-30T23:35:33.406040",
     "exception": false,
     "start_time": "2022-06-30T23:35:33.334352",
     "status": "completed"
    },
    "tags": []
   },
   "outputs": [],
   "source": []
  }
 ],
 "metadata": {
  "kernelspec": {
   "display_name": "Python 3",
   "language": "python",
   "name": "python3"
  },
  "language_info": {
   "codemirror_mode": {
    "name": "ipython",
    "version": 3
   },
   "file_extension": ".py",
   "mimetype": "text/x-python",
   "name": "python",
   "nbconvert_exporter": "python",
   "pygments_lexer": "ipython3",
   "version": "3.7.12"
  },
  "papermill": {
   "default_parameters": {},
   "duration": 1907.77359,
   "end_time": "2022-06-30T23:35:36.114419",
   "environment_variables": {},
   "exception": null,
   "input_path": "__notebook__.ipynb",
   "output_path": "__notebook__.ipynb",
   "parameters": {},
   "start_time": "2022-06-30T23:03:48.340829",
   "version": "2.3.4"
  }
 },
 "nbformat": 4,
 "nbformat_minor": 5
}
